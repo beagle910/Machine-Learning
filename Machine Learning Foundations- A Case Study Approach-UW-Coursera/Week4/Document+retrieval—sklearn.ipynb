{
 "cells": [
  {
   "cell_type": "markdown",
   "metadata": {
    "deletable": true,
    "editable": true
   },
   "source": [
    "# Document retrieval from wikipedia data\n"
   ]
  },
  {
   "cell_type": "markdown",
   "metadata": {
    "deletable": true,
    "editable": true
   },
   "source": [
    "# Load some text data - from wikipedia, pages on people"
   ]
  },
  {
   "cell_type": "code",
   "execution_count": 1,
   "metadata": {
    "collapsed": true
   },
   "outputs": [],
   "source": [
    "import numpy as np\n",
    "import pandas as pd\n",
    "import nltk\n",
    "from nltk import FreqDist"
   ]
  },
  {
   "cell_type": "code",
   "execution_count": 2,
   "metadata": {
    "collapsed": false,
    "deletable": true,
    "editable": true
   },
   "outputs": [],
   "source": [
    "people = pd.read_csv('people_wiki.csv')"
   ]
  },
  {
   "cell_type": "markdown",
   "metadata": {
    "deletable": true,
    "editable": true
   },
   "source": [
    "Data contains:  link to wikipedia article, name of person, text of article."
   ]
  },
  {
   "cell_type": "code",
   "execution_count": 3,
   "metadata": {
    "collapsed": false,
    "deletable": true,
    "editable": true
   },
   "outputs": [
    {
     "data": {
      "text/html": [
       "<div>\n",
       "<table border=\"1\" class=\"dataframe\">\n",
       "  <thead>\n",
       "    <tr style=\"text-align: right;\">\n",
       "      <th></th>\n",
       "      <th>URI</th>\n",
       "      <th>name</th>\n",
       "      <th>text</th>\n",
       "    </tr>\n",
       "  </thead>\n",
       "  <tbody>\n",
       "    <tr>\n",
       "      <th>0</th>\n",
       "      <td>&lt;http://dbpedia.org/resource/Digby_Morrell&gt;</td>\n",
       "      <td>Digby Morrell</td>\n",
       "      <td>digby morrell born 10 october 1979 is a former...</td>\n",
       "    </tr>\n",
       "    <tr>\n",
       "      <th>1</th>\n",
       "      <td>&lt;http://dbpedia.org/resource/Alfred_J._Lewy&gt;</td>\n",
       "      <td>Alfred J. Lewy</td>\n",
       "      <td>alfred j lewy aka sandy lewy graduated from un...</td>\n",
       "    </tr>\n",
       "    <tr>\n",
       "      <th>2</th>\n",
       "      <td>&lt;http://dbpedia.org/resource/Harpdog_Brown&gt;</td>\n",
       "      <td>Harpdog Brown</td>\n",
       "      <td>harpdog brown is a singer and harmonica player...</td>\n",
       "    </tr>\n",
       "    <tr>\n",
       "      <th>3</th>\n",
       "      <td>&lt;http://dbpedia.org/resource/Franz_Rottensteiner&gt;</td>\n",
       "      <td>Franz Rottensteiner</td>\n",
       "      <td>franz rottensteiner born in waidmannsfeld lowe...</td>\n",
       "    </tr>\n",
       "    <tr>\n",
       "      <th>4</th>\n",
       "      <td>&lt;http://dbpedia.org/resource/G-Enka&gt;</td>\n",
       "      <td>G-Enka</td>\n",
       "      <td>henry krvits born 30 december 1974 in tallinn ...</td>\n",
       "    </tr>\n",
       "  </tbody>\n",
       "</table>\n",
       "</div>"
      ],
      "text/plain": [
       "                                                 URI                 name  \\\n",
       "0        <http://dbpedia.org/resource/Digby_Morrell>        Digby Morrell   \n",
       "1       <http://dbpedia.org/resource/Alfred_J._Lewy>       Alfred J. Lewy   \n",
       "2        <http://dbpedia.org/resource/Harpdog_Brown>        Harpdog Brown   \n",
       "3  <http://dbpedia.org/resource/Franz_Rottensteiner>  Franz Rottensteiner   \n",
       "4               <http://dbpedia.org/resource/G-Enka>               G-Enka   \n",
       "\n",
       "                                                text  \n",
       "0  digby morrell born 10 october 1979 is a former...  \n",
       "1  alfred j lewy aka sandy lewy graduated from un...  \n",
       "2  harpdog brown is a singer and harmonica player...  \n",
       "3  franz rottensteiner born in waidmannsfeld lowe...  \n",
       "4  henry krvits born 30 december 1974 in tallinn ...  "
      ]
     },
     "execution_count": 3,
     "metadata": {},
     "output_type": "execute_result"
    }
   ],
   "source": [
    "people.head()"
   ]
  },
  {
   "cell_type": "code",
   "execution_count": 4,
   "metadata": {
    "collapsed": false,
    "deletable": true,
    "editable": true
   },
   "outputs": [
    {
     "data": {
      "text/plain": [
       "59071"
      ]
     },
     "execution_count": 4,
     "metadata": {},
     "output_type": "execute_result"
    }
   ],
   "source": [
    "len(people)"
   ]
  },
  {
   "cell_type": "markdown",
   "metadata": {},
   "source": [
    "# Explore the dataset and checkout the text it contains"
   ]
  },
  {
   "cell_type": "markdown",
   "metadata": {
    "deletable": true,
    "editable": true
   },
   "source": [
    "## Exploring the entry for president Obama"
   ]
  },
  {
   "cell_type": "code",
   "execution_count": 5,
   "metadata": {
    "collapsed": true,
    "deletable": true,
    "editable": true
   },
   "outputs": [],
   "source": [
    "obama = people[people['name'] == 'Barack Obama']"
   ]
  },
  {
   "cell_type": "code",
   "execution_count": 6,
   "metadata": {
    "collapsed": true
   },
   "outputs": [],
   "source": [
    "john = people[people['name'] == 'Elton John']"
   ]
  },
  {
   "cell_type": "code",
   "execution_count": 7,
   "metadata": {
    "collapsed": false,
    "deletable": true,
    "editable": true
   },
   "outputs": [
    {
     "data": {
      "text/html": [
       "<div>\n",
       "<table border=\"1\" class=\"dataframe\">\n",
       "  <thead>\n",
       "    <tr style=\"text-align: right;\">\n",
       "      <th></th>\n",
       "      <th>URI</th>\n",
       "      <th>name</th>\n",
       "      <th>text</th>\n",
       "    </tr>\n",
       "  </thead>\n",
       "  <tbody>\n",
       "    <tr>\n",
       "      <th>35817</th>\n",
       "      <td>&lt;http://dbpedia.org/resource/Barack_Obama&gt;</td>\n",
       "      <td>Barack Obama</td>\n",
       "      <td>barack hussein obama ii brk husen bm born augu...</td>\n",
       "    </tr>\n",
       "  </tbody>\n",
       "</table>\n",
       "</div>"
      ],
      "text/plain": [
       "                                              URI          name  \\\n",
       "35817  <http://dbpedia.org/resource/Barack_Obama>  Barack Obama   \n",
       "\n",
       "                                                    text  \n",
       "35817  barack hussein obama ii brk husen bm born augu...  "
      ]
     },
     "execution_count": 7,
     "metadata": {},
     "output_type": "execute_result"
    }
   ],
   "source": [
    "obama"
   ]
  },
  {
   "cell_type": "code",
   "execution_count": 8,
   "metadata": {
    "collapsed": false,
    "deletable": true,
    "editable": true
   },
   "outputs": [
    {
     "data": {
      "text/plain": [
       "35817    barack hussein obama ii brk husen bm born augu...\n",
       "Name: text, dtype: object"
      ]
     },
     "execution_count": 8,
     "metadata": {},
     "output_type": "execute_result"
    }
   ],
   "source": [
    "obama['text']"
   ]
  },
  {
   "cell_type": "markdown",
   "metadata": {
    "deletable": true,
    "editable": true
   },
   "source": [
    "## Exploring the entry for actor George Clooney"
   ]
  },
  {
   "cell_type": "code",
   "execution_count": 9,
   "metadata": {
    "collapsed": false,
    "deletable": true,
    "editable": true
   },
   "outputs": [
    {
     "data": {
      "text/plain": [
       "38514    george timothy clooney born may 6 1961 is an a...\n",
       "Name: text, dtype: object"
      ]
     },
     "execution_count": 9,
     "metadata": {},
     "output_type": "execute_result"
    }
   ],
   "source": [
    "clooney = people[people['name'] == 'George Clooney']\n",
    "clooney['text']"
   ]
  },
  {
   "cell_type": "markdown",
   "metadata": {
    "deletable": true,
    "editable": true
   },
   "source": [
    "# Get the word counts for Obama article"
   ]
  },
  {
   "cell_type": "code",
   "execution_count": 10,
   "metadata": {
    "collapsed": false,
    "deletable": true,
    "editable": true
   },
   "outputs": [],
   "source": [
    "# obama['word_count'] = graphlab.text_analytics.count_words(obama['text'])"
   ]
  },
  {
   "cell_type": "code",
   "execution_count": 11,
   "metadata": {
    "collapsed": false
   },
   "outputs": [],
   "source": [
    "tokens = nltk.tokenize.word_tokenize(obama['text'].iloc[0])\n",
    "dist=FreqDist(tokens)"
   ]
  },
  {
   "cell_type": "code",
   "execution_count": 12,
   "metadata": {
    "collapsed": true
   },
   "outputs": [],
   "source": [
    "tokens1 = nltk.tokenize.word_tokenize(john['text'].iloc[0])\n",
    "dist1=FreqDist(tokens1)"
   ]
  },
  {
   "cell_type": "code",
   "execution_count": 13,
   "metadata": {
    "collapsed": false
   },
   "outputs": [
    {
     "data": {
      "text/plain": [
       "255"
      ]
     },
     "execution_count": 13,
     "metadata": {},
     "output_type": "execute_result"
    }
   ],
   "source": [
    "len(dist1)"
   ]
  },
  {
   "cell_type": "code",
   "execution_count": 14,
   "metadata": {
    "collapsed": false
   },
   "outputs": [],
   "source": [
    "##########word_tokenize builds word models from sentences. It needs to be fed each sentence one at a time. \n",
    "##########Sometimes it will do a relatively poor job when given whole paragraphs or even documents.\n",
    "# fdist = FreqDist()\n",
    "# for sentence in nltk.tokenize.sent_tokenize(obama['text'].iloc[0]):\n",
    "#     for word in nltk.tokenize.word_tokenize(sentence):\n",
    "#         fdist[word] += 1"
   ]
  },
  {
   "cell_type": "markdown",
   "metadata": {
    "deletable": true,
    "editable": true
   },
   "source": [
    "## Sort the word counts for the Obama article"
   ]
  },
  {
   "cell_type": "markdown",
   "metadata": {
    "deletable": true,
    "editable": true
   },
   "source": [
    "### Turning dictonary of word counts into a table"
   ]
  },
  {
   "cell_type": "code",
   "execution_count": 15,
   "metadata": {
    "collapsed": false,
    "deletable": true,
    "editable": true
   },
   "outputs": [
    {
     "data": {
      "text/html": [
       "<div>\n",
       "<table border=\"1\" class=\"dataframe\">\n",
       "  <thead>\n",
       "    <tr style=\"text-align: right;\">\n",
       "      <th></th>\n",
       "      <th>word</th>\n",
       "      <th>count</th>\n",
       "    </tr>\n",
       "  </thead>\n",
       "  <tbody>\n",
       "    <tr>\n",
       "      <th>0</th>\n",
       "      <td>barack</td>\n",
       "      <td>1</td>\n",
       "    </tr>\n",
       "    <tr>\n",
       "      <th>1</th>\n",
       "      <td>hussein</td>\n",
       "      <td>1</td>\n",
       "    </tr>\n",
       "    <tr>\n",
       "      <th>2</th>\n",
       "      <td>obama</td>\n",
       "      <td>9</td>\n",
       "    </tr>\n",
       "    <tr>\n",
       "      <th>3</th>\n",
       "      <td>ii</td>\n",
       "      <td>1</td>\n",
       "    </tr>\n",
       "    <tr>\n",
       "      <th>4</th>\n",
       "      <td>brk</td>\n",
       "      <td>1</td>\n",
       "    </tr>\n",
       "  </tbody>\n",
       "</table>\n",
       "</div>"
      ],
      "text/plain": [
       "      word  count\n",
       "0   barack      1\n",
       "1  hussein      1\n",
       "2    obama      9\n",
       "3       ii      1\n",
       "4      brk      1"
      ]
     },
     "execution_count": 15,
     "metadata": {},
     "output_type": "execute_result"
    }
   ],
   "source": [
    "obama_word_count_table=pd.DataFrame.from_dict(dist,orient='index',)\n",
    "obama_word_count_table.reset_index(level=0, inplace=True)\n",
    "obama_word_count_table.columns=['word','count']\n",
    "obama_word_count_table.head()"
   ]
  },
  {
   "cell_type": "code",
   "execution_count": 16,
   "metadata": {
    "collapsed": false
   },
   "outputs": [
    {
     "data": {
      "text/html": [
       "<div>\n",
       "<table border=\"1\" class=\"dataframe\">\n",
       "  <thead>\n",
       "    <tr style=\"text-align: right;\">\n",
       "      <th></th>\n",
       "      <th>word</th>\n",
       "      <th>count</th>\n",
       "    </tr>\n",
       "  </thead>\n",
       "  <tbody>\n",
       "    <tr>\n",
       "      <th>0</th>\n",
       "      <td>sir</td>\n",
       "      <td>1</td>\n",
       "    </tr>\n",
       "    <tr>\n",
       "      <th>1</th>\n",
       "      <td>elton</td>\n",
       "      <td>3</td>\n",
       "    </tr>\n",
       "    <tr>\n",
       "      <th>2</th>\n",
       "      <td>hercules</td>\n",
       "      <td>1</td>\n",
       "    </tr>\n",
       "    <tr>\n",
       "      <th>3</th>\n",
       "      <td>john</td>\n",
       "      <td>7</td>\n",
       "    </tr>\n",
       "    <tr>\n",
       "      <th>4</th>\n",
       "      <td>cbe</td>\n",
       "      <td>1</td>\n",
       "    </tr>\n",
       "  </tbody>\n",
       "</table>\n",
       "</div>"
      ],
      "text/plain": [
       "       word  count\n",
       "0       sir      1\n",
       "1     elton      3\n",
       "2  hercules      1\n",
       "3      john      7\n",
       "4       cbe      1"
      ]
     },
     "execution_count": 16,
     "metadata": {},
     "output_type": "execute_result"
    }
   ],
   "source": [
    "john_word_count_table=pd.DataFrame.from_dict(dist1,orient='index',)\n",
    "john_word_count_table.reset_index(level=0, inplace=True)\n",
    "john_word_count_table.columns=['word','count']\n",
    "john_word_count_table.head()"
   ]
  },
  {
   "cell_type": "markdown",
   "metadata": {
    "deletable": true,
    "editable": true
   },
   "source": [
    "### Sorting the word counts to show most common words at the top"
   ]
  },
  {
   "cell_type": "code",
   "execution_count": 17,
   "metadata": {
    "collapsed": false
   },
   "outputs": [],
   "source": [
    "obama_word_count_table.sort_values(by='count',ascending=False,inplace=True)"
   ]
  },
  {
   "cell_type": "code",
   "execution_count": 18,
   "metadata": {
    "collapsed": false,
    "deletable": true,
    "editable": true
   },
   "outputs": [
    {
     "data": {
      "text/html": [
       "<div>\n",
       "<table border=\"1\" class=\"dataframe\">\n",
       "  <thead>\n",
       "    <tr style=\"text-align: right;\">\n",
       "      <th></th>\n",
       "      <th>word</th>\n",
       "      <th>count</th>\n",
       "    </tr>\n",
       "  </thead>\n",
       "  <tbody>\n",
       "    <tr>\n",
       "      <th>12</th>\n",
       "      <td>the</td>\n",
       "      <td>40</td>\n",
       "    </tr>\n",
       "    <tr>\n",
       "      <th>26</th>\n",
       "      <td>in</td>\n",
       "      <td>30</td>\n",
       "    </tr>\n",
       "    <tr>\n",
       "      <th>14</th>\n",
       "      <td>and</td>\n",
       "      <td>21</td>\n",
       "    </tr>\n",
       "    <tr>\n",
       "      <th>17</th>\n",
       "      <td>of</td>\n",
       "      <td>18</td>\n",
       "    </tr>\n",
       "    <tr>\n",
       "      <th>23</th>\n",
       "      <td>to</td>\n",
       "      <td>14</td>\n",
       "    </tr>\n",
       "  </tbody>\n",
       "</table>\n",
       "</div>"
      ],
      "text/plain": [
       "   word  count\n",
       "12  the     40\n",
       "26   in     30\n",
       "14  and     21\n",
       "17   of     18\n",
       "23   to     14"
      ]
     },
     "execution_count": 18,
     "metadata": {},
     "output_type": "execute_result"
    }
   ],
   "source": [
    "obama_word_count_table.head()"
   ]
  },
  {
   "cell_type": "code",
   "execution_count": 19,
   "metadata": {
    "collapsed": false
   },
   "outputs": [
    {
     "data": {
      "text/html": [
       "<div>\n",
       "<table border=\"1\" class=\"dataframe\">\n",
       "  <thead>\n",
       "    <tr style=\"text-align: right;\">\n",
       "      <th></th>\n",
       "      <th>word</th>\n",
       "      <th>count</th>\n",
       "    </tr>\n",
       "  </thead>\n",
       "  <tbody>\n",
       "    <tr>\n",
       "      <th>56</th>\n",
       "      <td>the</td>\n",
       "      <td>27</td>\n",
       "    </tr>\n",
       "    <tr>\n",
       "      <th>60</th>\n",
       "      <td>in</td>\n",
       "      <td>18</td>\n",
       "    </tr>\n",
       "    <tr>\n",
       "      <th>21</th>\n",
       "      <td>and</td>\n",
       "      <td>15</td>\n",
       "    </tr>\n",
       "    <tr>\n",
       "      <th>55</th>\n",
       "      <td>of</td>\n",
       "      <td>13</td>\n",
       "    </tr>\n",
       "    <tr>\n",
       "      <th>125</th>\n",
       "      <td>a</td>\n",
       "      <td>10</td>\n",
       "    </tr>\n",
       "  </tbody>\n",
       "</table>\n",
       "</div>"
      ],
      "text/plain": [
       "    word  count\n",
       "56   the     27\n",
       "60    in     18\n",
       "21   and     15\n",
       "55    of     13\n",
       "125    a     10"
      ]
     },
     "execution_count": 19,
     "metadata": {},
     "output_type": "execute_result"
    }
   ],
   "source": [
    "john_word_count_table.sort_values(by='count',ascending=False,inplace=True)\n",
    "john_word_count_table.head()"
   ]
  },
  {
   "cell_type": "markdown",
   "metadata": {
    "deletable": true,
    "editable": true
   },
   "source": [
    "Most common words include uninformative words like \"the\", \"in\", \"and\",..."
   ]
  },
  {
   "cell_type": "markdown",
   "metadata": {
    "deletable": true,
    "editable": true
   },
   "source": [
    "# Compute TF-IDF for the corpus \n",
    "\n",
    "To give more weight to informative words, we weigh them by their TF-IDF scores."
   ]
  },
  {
   "cell_type": "code",
   "execution_count": 20,
   "metadata": {
    "collapsed": true
   },
   "outputs": [],
   "source": [
    "from sklearn.feature_extraction.text import TfidfVectorizer\n",
    "from scipy.sparse.csr import csr_matrix#need this if you want to save tfidf_matrix\n",
    "# from sklearn.feature_extraction import DictVectorizer\n",
    "from sklearn.feature_extraction.text import CountVectorizer\n"
   ]
  },
  {
   "cell_type": "code",
   "execution_count": 21,
   "metadata": {
    "collapsed": false
   },
   "outputs": [],
   "source": [
    "ti = TfidfVectorizer()"
   ]
  },
  {
   "cell_type": "code",
   "execution_count": 22,
   "metadata": {
    "collapsed": false
   },
   "outputs": [],
   "source": [
    "tfidf=ti.fit_transform(people.text)"
   ]
  },
  {
   "cell_type": "code",
   "execution_count": 23,
   "metadata": {
    "collapsed": false
   },
   "outputs": [],
   "source": [
    "vocab=ti.vocabulary_"
   ]
  },
  {
   "cell_type": "code",
   "execution_count": 24,
   "metadata": {
    "collapsed": false
   },
   "outputs": [
    {
     "data": {
      "text/plain": [
       "548429"
      ]
     },
     "execution_count": 24,
     "metadata": {},
     "output_type": "execute_result"
    }
   ],
   "source": [
    "len(vocab)"
   ]
  },
  {
   "cell_type": "markdown",
   "metadata": {
    "deletable": true,
    "editable": true
   },
   "source": [
    "## Examine the TF-IDF for the Obama article"
   ]
  },
  {
   "cell_type": "code",
   "execution_count": 25,
   "metadata": {
    "collapsed": true
   },
   "outputs": [],
   "source": [
    "def get_index(name):\n",
    "    return people[people['name']==name].index.tolist()"
   ]
  },
  {
   "cell_type": "code",
   "execution_count": 26,
   "metadata": {
    "collapsed": false
   },
   "outputs": [
    {
     "data": {
      "text/plain": [
       "[35817]"
      ]
     },
     "execution_count": 26,
     "metadata": {},
     "output_type": "execute_result"
    }
   ],
   "source": [
    "get_index('Barack Obama')"
   ]
  },
  {
   "cell_type": "code",
   "execution_count": 27,
   "metadata": {
    "collapsed": false
   },
   "outputs": [
    {
     "data": {
      "text/plain": [
       "[19923]"
      ]
     },
     "execution_count": 27,
     "metadata": {},
     "output_type": "execute_result"
    }
   ],
   "source": [
    "get_index('Elton John')"
   ]
  },
  {
   "cell_type": "code",
   "execution_count": 28,
   "metadata": {
    "collapsed": false
   },
   "outputs": [],
   "source": [
    "John_tfidf=tfidf[19923]"
   ]
  },
  {
   "cell_type": "code",
   "execution_count": 29,
   "metadata": {
    "collapsed": false
   },
   "outputs": [
    {
     "data": {
      "text/plain": [
       "array([ 96612,    704, 259893, 530685, 533439, 488148,  58906, 251905,\n",
       "       239271, 202462, 111212, 233774, 525845,  70622, 360068,  28353,\n",
       "       494541, 261721, 490181,  68179, 199447, 492517, 198987,  49096,\n",
       "        19167, 151653,  20902,  23034, 207224,  26651, 451997,  27213,\n",
       "       232352,  48854,  58306, 535489, 153546, 228410, 362795,  83218,\n",
       "       233049, 291622, 489883, 452265,  84135, 541553, 444813,  74411,\n",
       "       541127, 530205, 254386, 180881,  43179, 357311, 258054,  73354,\n",
       "       252531, 512199, 238474, 362987,  16882,  54130, 196687, 505213,\n",
       "        20271,  31492, 411863,  16121, 311023, 458791, 336620, 412102,\n",
       "        11557,  13494,  84315,  74748, 487882, 314354, 341055, 397959,\n",
       "        67216, 197194, 146757, 535924, 459389, 130681, 422943, 374846,\n",
       "       458494, 369039, 473151,  67431, 267446,   7090, 352169, 204218,\n",
       "       407720, 411407,  83926, 335621, 353129,  30458, 239943,  16484,\n",
       "       423966, 138291, 496061,  15450, 424014, 469376, 344260, 368895,\n",
       "       495853, 100831, 126106,  14807, 181574, 375068, 253841, 404980,\n",
       "       186720, 457542, 365423, 473281, 526698, 341446, 194402, 180683,\n",
       "       532766, 137123, 291485, 253736, 229531, 191361, 134836, 134982,\n",
       "       379876, 115872, 444307,  83803,  29907, 453657, 368848, 300748,\n",
       "        31806, 241371, 374928, 452577, 219654, 426239,  43811, 459597,\n",
       "       163244, 543824, 196741,  54978, 203929, 294964, 315834, 218247,\n",
       "       258649,    705,  10524, 303864, 243581,  60682, 291550, 536450,\n",
       "       233123, 252225, 307437,  52659, 132571,   8846, 242332, 249730,\n",
       "       527706, 135603,  89663, 311479, 452690, 139421, 178057, 295030,\n",
       "        33785,  45489, 408837, 453037, 178605, 222300, 328858, 374962,\n",
       "       184626, 383593, 532236, 251328, 234437, 179466, 275966, 459166,\n",
       "        32239, 117836, 366871, 359211,  60732, 276005,  87636,  18131,\n",
       "       212599, 243525, 297504, 114720, 248600,  50463, 159799, 337604,\n",
       "       294126, 182919,  31493,  87102,  36719, 119355, 138537, 529472,\n",
       "       103050, 371553, 269209, 281306,  35204, 396676, 431384, 253739,\n",
       "       100755, 208501, 364152,  90966,  42380, 171990,  26276, 459655,\n",
       "       159831, 413814, 236244, 151305, 208739, 237850, 100904, 482250,\n",
       "       199471,   9359, 495763, 369082], dtype=int32)"
      ]
     },
     "execution_count": 29,
     "metadata": {},
     "output_type": "execute_result"
    }
   ],
   "source": [
    "John_tfidf.indices"
   ]
  },
  {
   "cell_type": "code",
   "execution_count": 30,
   "metadata": {
    "collapsed": false
   },
   "outputs": [
    {
     "data": {
      "text/plain": [
       "252"
      ]
     },
     "execution_count": 30,
     "metadata": {},
     "output_type": "execute_result"
    }
   ],
   "source": [
    "# zip tfidf and its indices to dict\n",
    "dic=dict(zip(John_tfidf.indices, John_tfidf.data))\n",
    "len(dic)"
   ]
  },
  {
   "cell_type": "code",
   "execution_count": 31,
   "metadata": {
    "collapsed": false
   },
   "outputs": [],
   "source": [
    "import operator\n",
    "#sort on values instead of keys:\n",
    "sorted_dic = sorted(dic.items(), key=operator.itemgetter(1))\n",
    "# sort on keys instead of values:sorted_dic = sorted(dic.items(), key=operator.itemgetter(0))!!!!!!!!!!!!!!!!!!!!!!!"
   ]
  },
  {
   "cell_type": "code",
   "execution_count": 32,
   "metadata": {
    "collapsed": false
   },
   "outputs": [
    {
     "data": {
      "text/plain": [
       "[(251905, 0.16259599697900187),\n",
       " (208739, 0.18122079791032641),\n",
       " (178605, 0.18468593871019523),\n",
       " (267446, 0.1889579470891368),\n",
       " (89663, 0.19220733548400759),\n",
       " (488148, 0.24368351964209761)]"
      ]
     },
     "execution_count": 32,
     "metadata": {},
     "output_type": "execute_result"
    }
   ],
   "source": [
    "sorted_dic[-6:]"
   ]
  },
  {
   "cell_type": "code",
   "execution_count": 33,
   "metadata": {
    "collapsed": false
   },
   "outputs": [
    {
     "data": {
      "text/plain": [
       "[251905, 208739, 178605, 267446, 89663, 488148]"
      ]
     },
     "execution_count": 33,
     "metadata": {},
     "output_type": "execute_result"
    }
   ],
   "source": [
    "# another way to sort on values\n",
    "list_values=sorted(dic, key=dic.get)\n",
    "type(list_values)\n",
    "list_values[-6:]"
   ]
  },
  {
   "cell_type": "code",
   "execution_count": 34,
   "metadata": {
    "collapsed": false
   },
   "outputs": [
    {
     "name": "stdout",
     "output_type": "stream",
     "text": [
      "0.162595996979\n",
      "0.18122079791\n",
      "0.18468593871\n",
      "0.188957947089\n",
      "0.192207335484\n",
      "0.243683519642\n"
     ]
    }
   ],
   "source": [
    "for i in list_values[-6:]:\n",
    "    print(dic[i])"
   ]
  },
  {
   "cell_type": "code",
   "execution_count": 35,
   "metadata": {
    "collapsed": false
   },
   "outputs": [
    {
     "name": "stdout",
     "output_type": "stream",
     "text": [
      "in\n",
      "furnish\n",
      "elton\n",
      "john\n",
      "billboard\n",
      "the\n"
     ]
    }
   ],
   "source": [
    "for i in list_values[-6:]:\n",
    "    print(list(vocab.keys())[list(vocab.values()).index(i)])"
   ]
  },
  {
   "cell_type": "markdown",
   "metadata": {},
   "source": [
    "# Examine the TF-IDF for Any article"
   ]
  },
  {
   "cell_type": "code",
   "execution_count": 36,
   "metadata": {
    "collapsed": true
   },
   "outputs": [],
   "source": [
    "def get_top_tfidf(name,number):\n",
    "    index=get_index(name)\n",
    "    name_tfidf=tfidf[index]\n",
    "    import collections\n",
    "    dic=dict(collections.OrderedDict((k, v) for k, v in zip(name_tfidf.indices, name_tfidf.data) if v is not 0))\n",
    "    import operator\n",
    "    list_values=sorted(dic, key=dic.get)#sort on values\n",
    "    for i in list_values[-number:]:\n",
    "        print(list(vocab.keys())[list(vocab.values()).index(i)])"
   ]
  },
  {
   "cell_type": "code",
   "execution_count": 37,
   "metadata": {
    "collapsed": false
   },
   "outputs": [
    {
     "name": "stdout",
     "output_type": "stream",
     "text": [
      "furnish\n",
      "elton\n",
      "john\n",
      "billboard\n",
      "the\n"
     ]
    }
   ],
   "source": [
    "get_top_tfidf('Elton John',5)"
   ]
  },
  {
   "cell_type": "markdown",
   "metadata": {
    "deletable": true,
    "editable": true
   },
   "source": [
    "Words with highest TF-IDF are much more informative."
   ]
  },
  {
   "cell_type": "markdown",
   "metadata": {
    "deletable": true,
    "editable": true
   },
   "source": [
    "# Manually compute distances between a few people\n",
    "\n",
    "Let's manually compare the distances between the articles for a few famous people.  "
   ]
  },
  {
   "cell_type": "code",
   "execution_count": 38,
   "metadata": {
    "collapsed": false
   },
   "outputs": [
    {
     "data": {
      "text/plain": [
       "array([ 0.14730606,  0.05831185,  0.10624378, ...,  0.08004373,\n",
       "        0.12404702,  0.13839972])"
      ]
     },
     "execution_count": 38,
     "metadata": {},
     "output_type": "execute_result"
    }
   ],
   "source": [
    "from sklearn.metrics.pairwise import linear_kernel\n",
    "cosine_similarities = linear_kernel(tfidf[35817], tfidf).flatten()\n",
    "cosine_similarities"
   ]
  },
  {
   "cell_type": "code",
   "execution_count": 39,
   "metadata": {
    "collapsed": false
   },
   "outputs": [
    {
     "data": {
      "text/plain": [
       "array([35817, 24478, 57108, 38376])"
      ]
     },
     "execution_count": 39,
     "metadata": {},
     "output_type": "execute_result"
    }
   ],
   "source": [
    "related_docs_indices = cosine_similarities.argsort()[:-5:-1]\n",
    "related_docs_indices"
   ]
  },
  {
   "cell_type": "markdown",
   "metadata": {},
   "source": [
    "pay attention to the trick: minus step~!!!!!!!!!!!!\n",
    "l=list(range(20))\n",
    "l[:15:-1]\n",
    "[19,18,17,16]"
   ]
  },
  {
   "cell_type": "code",
   "execution_count": 40,
   "metadata": {
    "collapsed": false
   },
   "outputs": [
    {
     "data": {
      "text/plain": [
       "array([ 1.        ,  0.42921932,  0.38406588,  0.37500653])"
      ]
     },
     "execution_count": 40,
     "metadata": {},
     "output_type": "execute_result"
    }
   ],
   "source": [
    "cosine_similarities[related_docs_indices]"
   ]
  },
  {
   "cell_type": "markdown",
   "metadata": {
    "deletable": true,
    "editable": true
   },
   "source": [
    "## Is Obama closer to Clinton than to Beckham?\n",
    "\n",
    "We will use cosine distance, which is given by\n",
    "\n",
    "(1-cosine_similarity) \n",
    "\n",
    "and find that the article about president Obama is closer to the one about former president Clinton than that of footballer David Beckham."
   ]
  },
  {
   "cell_type": "code",
   "execution_count": 41,
   "metadata": {
    "collapsed": false
   },
   "outputs": [
    {
     "data": {
      "text/plain": [
       "[36452]"
      ]
     },
     "execution_count": 41,
     "metadata": {},
     "output_type": "execute_result"
    }
   ],
   "source": [
    "get_index('Bill Clinton')"
   ]
  },
  {
   "cell_type": "code",
   "execution_count": 42,
   "metadata": {
    "collapsed": false
   },
   "outputs": [
    {
     "data": {
      "text/plain": [
       "[23386]"
      ]
     },
     "execution_count": 42,
     "metadata": {},
     "output_type": "execute_result"
    }
   ],
   "source": [
    "get_index('David Beckham')"
   ]
  },
  {
   "cell_type": "code",
   "execution_count": 43,
   "metadata": {
    "collapsed": false
   },
   "outputs": [
    {
     "data": {
      "text/plain": [
       "0.67497775265246496"
      ]
     },
     "execution_count": 43,
     "metadata": {},
     "output_type": "execute_result"
    }
   ],
   "source": [
    "1-cosine_similarities[36452]"
   ]
  },
  {
   "cell_type": "code",
   "execution_count": 44,
   "metadata": {
    "collapsed": false
   },
   "outputs": [
    {
     "data": {
      "text/plain": [
       "0.84204539753103269"
      ]
     },
     "execution_count": 44,
     "metadata": {},
     "output_type": "execute_result"
    }
   ],
   "source": [
    "1-cosine_similarities[23386]"
   ]
  },
  {
   "cell_type": "code",
   "execution_count": 45,
   "metadata": {
    "collapsed": false
   },
   "outputs": [
    {
     "data": {
      "text/plain": [
       "0.15416116937122998"
      ]
     },
     "execution_count": 45,
     "metadata": {},
     "output_type": "execute_result"
    }
   ],
   "source": [
    "cosine_similarities[54264]"
   ]
  },
  {
   "cell_type": "markdown",
   "metadata": {
    "deletable": true,
    "editable": true
   },
   "source": [
    "# Build a nearest neighbor model for document retrieval\n",
    "\n",
    "We now create a nearest-neighbors model and apply it to document retrieval.  "
   ]
  },
  {
   "cell_type": "code",
   "execution_count": 46,
   "metadata": {
    "collapsed": false,
    "deletable": true,
    "editable": true
   },
   "outputs": [],
   "source": [
    "# knn_model = graphlab.nearest_neighbors.create(people,features=['tfidf'],label='name')\n"
   ]
  },
  {
   "cell_type": "code",
   "execution_count": 47,
   "metadata": {
    "collapsed": true
   },
   "outputs": [],
   "source": [
    "from sklearn.neighbors import NearestNeighbors"
   ]
  },
  {
   "cell_type": "code",
   "execution_count": 48,
   "metadata": {
    "collapsed": false
   },
   "outputs": [],
   "source": [
    "knn=NearestNeighbors(n_neighbors=20,algorithm='brute',metric='cosine')\n",
    "knn_fit=knn.fit(tfidf)"
   ]
  },
  {
   "cell_type": "markdown",
   "metadata": {
    "deletable": true,
    "editable": true
   },
   "source": [
    "# Applying the nearest-neighbors model for retrieval-tfidf"
   ]
  },
  {
   "cell_type": "markdown",
   "metadata": {
    "deletable": true,
    "editable": true
   },
   "source": [
    "## Who is closest to Obama?"
   ]
  },
  {
   "cell_type": "code",
   "execution_count": 49,
   "metadata": {
    "collapsed": false
   },
   "outputs": [],
   "source": [
    "# Obama_Neighbours_indices=\n",
    "def get_neighbors_index(name):\n",
    "    return knn_fit.kneighbors(tfidf[get_index(name)])[1].tolist()[0]"
   ]
  },
  {
   "cell_type": "code",
   "execution_count": 50,
   "metadata": {
    "collapsed": true
   },
   "outputs": [],
   "source": [
    "def cosin_distance(name,index):\n",
    "    cosine_similarities = linear_kernel(tfidf[get_index(name)], tfidf).flatten()\n",
    "    return 1-cosine_similarities[index]"
   ]
  },
  {
   "cell_type": "code",
   "execution_count": 51,
   "metadata": {
    "collapsed": false
   },
   "outputs": [],
   "source": [
    "def result_df(name):\n",
    "    Result= pd.DataFrame({'Index':get_neighbors_index(name)})\n",
    "    Result['name']=Result['Index'].apply(lambda x: people['name'][x])\n",
    "    Result['Cosine Distance']=Result['Index'].apply(lambda x: cosin_distance(name,x))\n",
    "    return Result"
   ]
  },
  {
   "cell_type": "code",
   "execution_count": 52,
   "metadata": {
    "collapsed": false
   },
   "outputs": [
    {
     "data": {
      "text/html": [
       "<div>\n",
       "<table border=\"1\" class=\"dataframe\">\n",
       "  <thead>\n",
       "    <tr style=\"text-align: right;\">\n",
       "      <th></th>\n",
       "      <th>Index</th>\n",
       "      <th>name</th>\n",
       "      <th>Cosine Distance</th>\n",
       "    </tr>\n",
       "  </thead>\n",
       "  <tbody>\n",
       "    <tr>\n",
       "      <th>0</th>\n",
       "      <td>35817</td>\n",
       "      <td>Barack Obama</td>\n",
       "      <td>-2.220446e-16</td>\n",
       "    </tr>\n",
       "    <tr>\n",
       "      <th>1</th>\n",
       "      <td>24478</td>\n",
       "      <td>Joe Biden</td>\n",
       "      <td>5.707807e-01</td>\n",
       "    </tr>\n",
       "    <tr>\n",
       "      <th>2</th>\n",
       "      <td>57108</td>\n",
       "      <td>Hillary Rodham Clinton</td>\n",
       "      <td>6.159341e-01</td>\n",
       "    </tr>\n",
       "    <tr>\n",
       "      <th>3</th>\n",
       "      <td>38376</td>\n",
       "      <td>Samantha Power</td>\n",
       "      <td>6.249935e-01</td>\n",
       "    </tr>\n",
       "    <tr>\n",
       "      <th>4</th>\n",
       "      <td>38714</td>\n",
       "      <td>Eric Stern (politician)</td>\n",
       "      <td>6.497651e-01</td>\n",
       "    </tr>\n",
       "    <tr>\n",
       "      <th>5</th>\n",
       "      <td>28447</td>\n",
       "      <td>George W. Bush</td>\n",
       "      <td>6.586872e-01</td>\n",
       "    </tr>\n",
       "    <tr>\n",
       "      <th>6</th>\n",
       "      <td>39357</td>\n",
       "      <td>John McCain</td>\n",
       "      <td>6.616806e-01</td>\n",
       "    </tr>\n",
       "    <tr>\n",
       "      <th>7</th>\n",
       "      <td>48693</td>\n",
       "      <td>Artur Davis</td>\n",
       "      <td>6.669423e-01</td>\n",
       "    </tr>\n",
       "    <tr>\n",
       "      <th>8</th>\n",
       "      <td>18827</td>\n",
       "      <td>Henry Waxman</td>\n",
       "      <td>6.702047e-01</td>\n",
       "    </tr>\n",
       "    <tr>\n",
       "      <th>9</th>\n",
       "      <td>46811</td>\n",
       "      <td>Jeff Sessions</td>\n",
       "      <td>6.724269e-01</td>\n",
       "    </tr>\n",
       "    <tr>\n",
       "      <th>10</th>\n",
       "      <td>37199</td>\n",
       "      <td>Barry Sullivan (lawyer)</td>\n",
       "      <td>6.746910e-01</td>\n",
       "    </tr>\n",
       "    <tr>\n",
       "      <th>11</th>\n",
       "      <td>36452</td>\n",
       "      <td>Bill Clinton</td>\n",
       "      <td>6.749778e-01</td>\n",
       "    </tr>\n",
       "    <tr>\n",
       "      <th>12</th>\n",
       "      <td>6796</td>\n",
       "      <td>Eric Holder</td>\n",
       "      <td>6.768273e-01</td>\n",
       "    </tr>\n",
       "    <tr>\n",
       "      <th>13</th>\n",
       "      <td>36425</td>\n",
       "      <td>Edward B. Montgomery</td>\n",
       "      <td>6.798665e-01</td>\n",
       "    </tr>\n",
       "    <tr>\n",
       "      <th>14</th>\n",
       "      <td>24848</td>\n",
       "      <td>John C. Eastman</td>\n",
       "      <td>6.798840e-01</td>\n",
       "    </tr>\n",
       "    <tr>\n",
       "      <th>15</th>\n",
       "      <td>14754</td>\n",
       "      <td>Mitt Romney</td>\n",
       "      <td>6.825206e-01</td>\n",
       "    </tr>\n",
       "    <tr>\n",
       "      <th>16</th>\n",
       "      <td>35357</td>\n",
       "      <td>Lawrence Summers</td>\n",
       "      <td>6.868121e-01</td>\n",
       "    </tr>\n",
       "    <tr>\n",
       "      <th>17</th>\n",
       "      <td>47303</td>\n",
       "      <td>John Kerry</td>\n",
       "      <td>6.921824e-01</td>\n",
       "    </tr>\n",
       "    <tr>\n",
       "      <th>18</th>\n",
       "      <td>34344</td>\n",
       "      <td>Mary Dawson (civil servant)</td>\n",
       "      <td>6.969313e-01</td>\n",
       "    </tr>\n",
       "    <tr>\n",
       "      <th>19</th>\n",
       "      <td>30804</td>\n",
       "      <td>Richard Pildes</td>\n",
       "      <td>6.969815e-01</td>\n",
       "    </tr>\n",
       "  </tbody>\n",
       "</table>\n",
       "</div>"
      ],
      "text/plain": [
       "    Index                         name  Cosine Distance\n",
       "0   35817                 Barack Obama    -2.220446e-16\n",
       "1   24478                    Joe Biden     5.707807e-01\n",
       "2   57108       Hillary Rodham Clinton     6.159341e-01\n",
       "3   38376               Samantha Power     6.249935e-01\n",
       "4   38714      Eric Stern (politician)     6.497651e-01\n",
       "5   28447               George W. Bush     6.586872e-01\n",
       "6   39357                  John McCain     6.616806e-01\n",
       "7   48693                  Artur Davis     6.669423e-01\n",
       "8   18827                 Henry Waxman     6.702047e-01\n",
       "9   46811                Jeff Sessions     6.724269e-01\n",
       "10  37199      Barry Sullivan (lawyer)     6.746910e-01\n",
       "11  36452                 Bill Clinton     6.749778e-01\n",
       "12   6796                  Eric Holder     6.768273e-01\n",
       "13  36425         Edward B. Montgomery     6.798665e-01\n",
       "14  24848              John C. Eastman     6.798840e-01\n",
       "15  14754                  Mitt Romney     6.825206e-01\n",
       "16  35357             Lawrence Summers     6.868121e-01\n",
       "17  47303                   John Kerry     6.921824e-01\n",
       "18  34344  Mary Dawson (civil servant)     6.969313e-01\n",
       "19  30804               Richard Pildes     6.969815e-01"
      ]
     },
     "execution_count": 52,
     "metadata": {},
     "output_type": "execute_result"
    }
   ],
   "source": [
    "result_df(\"Barack Obama\")"
   ]
  },
  {
   "cell_type": "markdown",
   "metadata": {
    "deletable": true,
    "editable": true
   },
   "source": [
    "As we can see, president Obama's article is closest to the one about his vice-president Biden, and those of other politicians.  "
   ]
  },
  {
   "cell_type": "markdown",
   "metadata": {
    "deletable": true,
    "editable": true
   },
   "source": [
    "## Other examples of document retrieval"
   ]
  },
  {
   "cell_type": "code",
   "execution_count": 53,
   "metadata": {
    "collapsed": false
   },
   "outputs": [
    {
     "data": {
      "text/html": [
       "<div>\n",
       "<table border=\"1\" class=\"dataframe\">\n",
       "  <thead>\n",
       "    <tr style=\"text-align: right;\">\n",
       "      <th></th>\n",
       "      <th>Index</th>\n",
       "      <th>name</th>\n",
       "      <th>Cosine Distance</th>\n",
       "    </tr>\n",
       "  </thead>\n",
       "  <tbody>\n",
       "    <tr>\n",
       "      <th>0</th>\n",
       "      <td>54264</td>\n",
       "      <td>Taylor Swift</td>\n",
       "      <td>0.000000</td>\n",
       "    </tr>\n",
       "    <tr>\n",
       "      <th>1</th>\n",
       "      <td>317</td>\n",
       "      <td>Carrie Underwood</td>\n",
       "      <td>0.616139</td>\n",
       "    </tr>\n",
       "    <tr>\n",
       "      <th>2</th>\n",
       "      <td>27793</td>\n",
       "      <td>Adele</td>\n",
       "      <td>0.624745</td>\n",
       "    </tr>\n",
       "    <tr>\n",
       "      <th>3</th>\n",
       "      <td>29297</td>\n",
       "      <td>Kelly Clarkson</td>\n",
       "      <td>0.637545</td>\n",
       "    </tr>\n",
       "    <tr>\n",
       "      <th>4</th>\n",
       "      <td>1341</td>\n",
       "      <td>Dolly Parton</td>\n",
       "      <td>0.648704</td>\n",
       "    </tr>\n",
       "  </tbody>\n",
       "</table>\n",
       "</div>"
      ],
      "text/plain": [
       "   Index              name  Cosine Distance\n",
       "0  54264      Taylor Swift         0.000000\n",
       "1    317  Carrie Underwood         0.616139\n",
       "2  27793             Adele         0.624745\n",
       "3  29297    Kelly Clarkson         0.637545\n",
       "4   1341      Dolly Parton         0.648704"
      ]
     },
     "execution_count": 53,
     "metadata": {},
     "output_type": "execute_result"
    }
   ],
   "source": [
    "# check the distance funciton , distance of oneselft should be small enough!!!!!!!!!!!!!!!!!!!!!!!!!!!!!!!!!!!!!!!!\n",
    "result_df('Taylor Swift').head(5)"
   ]
  },
  {
   "cell_type": "code",
   "execution_count": 54,
   "metadata": {
    "collapsed": false
   },
   "outputs": [
    {
     "data": {
      "text/html": [
       "<div>\n",
       "<table border=\"1\" class=\"dataframe\">\n",
       "  <thead>\n",
       "    <tr style=\"text-align: right;\">\n",
       "      <th></th>\n",
       "      <th>Index</th>\n",
       "      <th>name</th>\n",
       "      <th>Cosine Distance</th>\n",
       "    </tr>\n",
       "  </thead>\n",
       "  <tbody>\n",
       "    <tr>\n",
       "      <th>0</th>\n",
       "      <td>39521</td>\n",
       "      <td>Angelina Jolie</td>\n",
       "      <td>6.661338e-16</td>\n",
       "    </tr>\n",
       "    <tr>\n",
       "      <th>1</th>\n",
       "      <td>29009</td>\n",
       "      <td>Barbara Hershey</td>\n",
       "      <td>6.279050e-01</td>\n",
       "    </tr>\n",
       "    <tr>\n",
       "      <th>2</th>\n",
       "      <td>57434</td>\n",
       "      <td>Glenn Close</td>\n",
       "      <td>6.337704e-01</td>\n",
       "    </tr>\n",
       "    <tr>\n",
       "      <th>3</th>\n",
       "      <td>34756</td>\n",
       "      <td>Maggie Smith</td>\n",
       "      <td>6.438354e-01</td>\n",
       "    </tr>\n",
       "    <tr>\n",
       "      <th>4</th>\n",
       "      <td>44992</td>\n",
       "      <td>Julianne Moore</td>\n",
       "      <td>6.499563e-01</td>\n",
       "    </tr>\n",
       "    <tr>\n",
       "      <th>5</th>\n",
       "      <td>54362</td>\n",
       "      <td>Konkona Sen Sharma</td>\n",
       "      <td>6.555215e-01</td>\n",
       "    </tr>\n",
       "    <tr>\n",
       "      <th>6</th>\n",
       "      <td>16242</td>\n",
       "      <td>Meryl Streep</td>\n",
       "      <td>6.565404e-01</td>\n",
       "    </tr>\n",
       "    <tr>\n",
       "      <th>7</th>\n",
       "      <td>44571</td>\n",
       "      <td>Candice Bergen</td>\n",
       "      <td>6.571349e-01</td>\n",
       "    </tr>\n",
       "    <tr>\n",
       "      <th>8</th>\n",
       "      <td>21644</td>\n",
       "      <td>Jodie Foster</td>\n",
       "      <td>6.573323e-01</td>\n",
       "    </tr>\n",
       "    <tr>\n",
       "      <th>9</th>\n",
       "      <td>51145</td>\n",
       "      <td>Kate Winslet</td>\n",
       "      <td>6.584207e-01</td>\n",
       "    </tr>\n",
       "    <tr>\n",
       "      <th>10</th>\n",
       "      <td>24426</td>\n",
       "      <td>Brad Pitt</td>\n",
       "      <td>6.635295e-01</td>\n",
       "    </tr>\n",
       "    <tr>\n",
       "      <th>11</th>\n",
       "      <td>33529</td>\n",
       "      <td>Cate Blanchett</td>\n",
       "      <td>6.646930e-01</td>\n",
       "    </tr>\n",
       "    <tr>\n",
       "      <th>12</th>\n",
       "      <td>50619</td>\n",
       "      <td>Jessica Chastain</td>\n",
       "      <td>6.663228e-01</td>\n",
       "    </tr>\n",
       "    <tr>\n",
       "      <th>13</th>\n",
       "      <td>28076</td>\n",
       "      <td>Amy Adams</td>\n",
       "      <td>6.663552e-01</td>\n",
       "    </tr>\n",
       "    <tr>\n",
       "      <th>14</th>\n",
       "      <td>52886</td>\n",
       "      <td>Marisa Tomei</td>\n",
       "      <td>6.692435e-01</td>\n",
       "    </tr>\n",
       "    <tr>\n",
       "      <th>15</th>\n",
       "      <td>11156</td>\n",
       "      <td>Anne Hathaway</td>\n",
       "      <td>6.704092e-01</td>\n",
       "    </tr>\n",
       "    <tr>\n",
       "      <th>16</th>\n",
       "      <td>50402</td>\n",
       "      <td>Kathy Bates</td>\n",
       "      <td>6.755638e-01</td>\n",
       "    </tr>\n",
       "    <tr>\n",
       "      <th>17</th>\n",
       "      <td>24263</td>\n",
       "      <td>Jessica Lange</td>\n",
       "      <td>6.773903e-01</td>\n",
       "    </tr>\n",
       "    <tr>\n",
       "      <th>18</th>\n",
       "      <td>11666</td>\n",
       "      <td>Jane Fonda</td>\n",
       "      <td>6.777552e-01</td>\n",
       "    </tr>\n",
       "    <tr>\n",
       "      <th>19</th>\n",
       "      <td>57954</td>\n",
       "      <td>Cher</td>\n",
       "      <td>6.782515e-01</td>\n",
       "    </tr>\n",
       "  </tbody>\n",
       "</table>\n",
       "</div>"
      ],
      "text/plain": [
       "    Index                name  Cosine Distance\n",
       "0   39521      Angelina Jolie     6.661338e-16\n",
       "1   29009     Barbara Hershey     6.279050e-01\n",
       "2   57434         Glenn Close     6.337704e-01\n",
       "3   34756        Maggie Smith     6.438354e-01\n",
       "4   44992      Julianne Moore     6.499563e-01\n",
       "5   54362  Konkona Sen Sharma     6.555215e-01\n",
       "6   16242        Meryl Streep     6.565404e-01\n",
       "7   44571      Candice Bergen     6.571349e-01\n",
       "8   21644        Jodie Foster     6.573323e-01\n",
       "9   51145        Kate Winslet     6.584207e-01\n",
       "10  24426           Brad Pitt     6.635295e-01\n",
       "11  33529      Cate Blanchett     6.646930e-01\n",
       "12  50619    Jessica Chastain     6.663228e-01\n",
       "13  28076           Amy Adams     6.663552e-01\n",
       "14  52886        Marisa Tomei     6.692435e-01\n",
       "15  11156       Anne Hathaway     6.704092e-01\n",
       "16  50402         Kathy Bates     6.755638e-01\n",
       "17  24263       Jessica Lange     6.773903e-01\n",
       "18  11666          Jane Fonda     6.777552e-01\n",
       "19  57954                Cher     6.782515e-01"
      ]
     },
     "execution_count": 54,
     "metadata": {},
     "output_type": "execute_result"
    }
   ],
   "source": [
    "df2=result_df('Angelina Jolie')\n",
    "df2.sort_values(by='Cosine Distance', inplace=True)\n",
    "df2"
   ]
  },
  {
   "cell_type": "code",
   "execution_count": 55,
   "metadata": {
    "collapsed": false
   },
   "outputs": [
    {
     "data": {
      "text/html": [
       "<div>\n",
       "<table border=\"1\" class=\"dataframe\">\n",
       "  <thead>\n",
       "    <tr style=\"text-align: right;\">\n",
       "      <th></th>\n",
       "      <th>Index</th>\n",
       "      <th>name</th>\n",
       "      <th>Cosine Distance</th>\n",
       "    </tr>\n",
       "  </thead>\n",
       "  <tbody>\n",
       "    <tr>\n",
       "      <th>0</th>\n",
       "      <td>16018</td>\n",
       "      <td>Arnold Schwarzenegger</td>\n",
       "      <td>1.110223e-16</td>\n",
       "    </tr>\n",
       "    <tr>\n",
       "      <th>1</th>\n",
       "      <td>35293</td>\n",
       "      <td>Paul Grant (bodybuilder)</td>\n",
       "      <td>7.397827e-01</td>\n",
       "    </tr>\n",
       "    <tr>\n",
       "      <th>2</th>\n",
       "      <td>58965</td>\n",
       "      <td>Bonnie Garcia</td>\n",
       "      <td>7.465629e-01</td>\n",
       "    </tr>\n",
       "    <tr>\n",
       "      <th>3</th>\n",
       "      <td>36682</td>\n",
       "      <td>Abel Maldonado</td>\n",
       "      <td>7.598034e-01</td>\n",
       "    </tr>\n",
       "    <tr>\n",
       "      <th>4</th>\n",
       "      <td>10499</td>\n",
       "      <td>David Israel</td>\n",
       "      <td>7.676966e-01</td>\n",
       "    </tr>\n",
       "  </tbody>\n",
       "</table>\n",
       "</div>"
      ],
      "text/plain": [
       "   Index                      name  Cosine Distance\n",
       "0  16018     Arnold Schwarzenegger     1.110223e-16\n",
       "1  35293  Paul Grant (bodybuilder)     7.397827e-01\n",
       "2  58965             Bonnie Garcia     7.465629e-01\n",
       "3  36682            Abel Maldonado     7.598034e-01\n",
       "4  10499              David Israel     7.676966e-01"
      ]
     },
     "execution_count": 55,
     "metadata": {},
     "output_type": "execute_result"
    }
   ],
   "source": [
    "df3=result_df('Arnold Schwarzenegger')\n",
    "df3.sort_values(by='Cosine Distance', inplace=True)\n",
    "df3.head()"
   ]
  },
  {
   "cell_type": "code",
   "execution_count": 56,
   "metadata": {
    "collapsed": false
   },
   "outputs": [
    {
     "data": {
      "text/html": [
       "<div>\n",
       "<table border=\"1\" class=\"dataframe\">\n",
       "  <thead>\n",
       "    <tr style=\"text-align: right;\">\n",
       "      <th></th>\n",
       "      <th>Index</th>\n",
       "      <th>name</th>\n",
       "      <th>Cosine Distance</th>\n",
       "    </tr>\n",
       "  </thead>\n",
       "  <tbody>\n",
       "    <tr>\n",
       "      <th>0</th>\n",
       "      <td>19923</td>\n",
       "      <td>Elton John</td>\n",
       "      <td>2.220446e-16</td>\n",
       "    </tr>\n",
       "    <tr>\n",
       "      <th>1</th>\n",
       "      <td>28825</td>\n",
       "      <td>Rod Stewart</td>\n",
       "      <td>5.893611e-01</td>\n",
       "    </tr>\n",
       "    <tr>\n",
       "      <th>2</th>\n",
       "      <td>31595</td>\n",
       "      <td>Phil Collins</td>\n",
       "      <td>6.336579e-01</td>\n",
       "    </tr>\n",
       "    <tr>\n",
       "      <th>3</th>\n",
       "      <td>27793</td>\n",
       "      <td>Adele</td>\n",
       "      <td>6.365243e-01</td>\n",
       "    </tr>\n",
       "    <tr>\n",
       "      <th>4</th>\n",
       "      <td>26049</td>\n",
       "      <td>Sting (musician)</td>\n",
       "      <td>6.423975e-01</td>\n",
       "    </tr>\n",
       "    <tr>\n",
       "      <th>5</th>\n",
       "      <td>17505</td>\n",
       "      <td>George Michael</td>\n",
       "      <td>6.476146e-01</td>\n",
       "    </tr>\n",
       "    <tr>\n",
       "      <th>6</th>\n",
       "      <td>26581</td>\n",
       "      <td>Jay Sean</td>\n",
       "      <td>6.526952e-01</td>\n",
       "    </tr>\n",
       "    <tr>\n",
       "      <th>7</th>\n",
       "      <td>29297</td>\n",
       "      <td>Kelly Clarkson</td>\n",
       "      <td>6.529692e-01</td>\n",
       "    </tr>\n",
       "    <tr>\n",
       "      <th>8</th>\n",
       "      <td>41668</td>\n",
       "      <td>Cliff Richard</td>\n",
       "      <td>6.542096e-01</td>\n",
       "    </tr>\n",
       "    <tr>\n",
       "      <th>9</th>\n",
       "      <td>15936</td>\n",
       "      <td>Bryan Adams</td>\n",
       "      <td>6.556412e-01</td>\n",
       "    </tr>\n",
       "    <tr>\n",
       "      <th>10</th>\n",
       "      <td>1331</td>\n",
       "      <td>Billy Joel</td>\n",
       "      <td>6.605783e-01</td>\n",
       "    </tr>\n",
       "    <tr>\n",
       "      <th>11</th>\n",
       "      <td>15950</td>\n",
       "      <td>Bruno Mars</td>\n",
       "      <td>6.762680e-01</td>\n",
       "    </tr>\n",
       "    <tr>\n",
       "      <th>12</th>\n",
       "      <td>16423</td>\n",
       "      <td>Usher (entertainer)</td>\n",
       "      <td>6.773843e-01</td>\n",
       "    </tr>\n",
       "    <tr>\n",
       "      <th>13</th>\n",
       "      <td>39541</td>\n",
       "      <td>Andrea Bocelli</td>\n",
       "      <td>6.780702e-01</td>\n",
       "    </tr>\n",
       "    <tr>\n",
       "      <th>14</th>\n",
       "      <td>24857</td>\n",
       "      <td>Rihanna</td>\n",
       "      <td>6.835679e-01</td>\n",
       "    </tr>\n",
       "    <tr>\n",
       "      <th>15</th>\n",
       "      <td>37447</td>\n",
       "      <td>Roger Daltrey</td>\n",
       "      <td>6.869031e-01</td>\n",
       "    </tr>\n",
       "    <tr>\n",
       "      <th>16</th>\n",
       "      <td>7505</td>\n",
       "      <td>M.I.A. (rapper)</td>\n",
       "      <td>6.910599e-01</td>\n",
       "    </tr>\n",
       "    <tr>\n",
       "      <th>17</th>\n",
       "      <td>317</td>\n",
       "      <td>Carrie Underwood</td>\n",
       "      <td>6.911865e-01</td>\n",
       "    </tr>\n",
       "    <tr>\n",
       "      <th>18</th>\n",
       "      <td>53028</td>\n",
       "      <td>Paul McCartney</td>\n",
       "      <td>6.923132e-01</td>\n",
       "    </tr>\n",
       "    <tr>\n",
       "      <th>19</th>\n",
       "      <td>23561</td>\n",
       "      <td>Barry Gibb</td>\n",
       "      <td>6.944023e-01</td>\n",
       "    </tr>\n",
       "  </tbody>\n",
       "</table>\n",
       "</div>"
      ],
      "text/plain": [
       "    Index                 name  Cosine Distance\n",
       "0   19923           Elton John     2.220446e-16\n",
       "1   28825          Rod Stewart     5.893611e-01\n",
       "2   31595         Phil Collins     6.336579e-01\n",
       "3   27793                Adele     6.365243e-01\n",
       "4   26049     Sting (musician)     6.423975e-01\n",
       "5   17505       George Michael     6.476146e-01\n",
       "6   26581             Jay Sean     6.526952e-01\n",
       "7   29297       Kelly Clarkson     6.529692e-01\n",
       "8   41668        Cliff Richard     6.542096e-01\n",
       "9   15936          Bryan Adams     6.556412e-01\n",
       "10   1331           Billy Joel     6.605783e-01\n",
       "11  15950           Bruno Mars     6.762680e-01\n",
       "12  16423  Usher (entertainer)     6.773843e-01\n",
       "13  39541       Andrea Bocelli     6.780702e-01\n",
       "14  24857              Rihanna     6.835679e-01\n",
       "15  37447        Roger Daltrey     6.869031e-01\n",
       "16   7505      M.I.A. (rapper)     6.910599e-01\n",
       "17    317     Carrie Underwood     6.911865e-01\n",
       "18  53028       Paul McCartney     6.923132e-01\n",
       "19  23561           Barry Gibb     6.944023e-01"
      ]
     },
     "execution_count": 56,
     "metadata": {},
     "output_type": "execute_result"
    }
   ],
   "source": [
    "result_df(\"Elton John\")"
   ]
  },
  {
   "cell_type": "code",
   "execution_count": 57,
   "metadata": {
    "collapsed": false
   },
   "outputs": [
    {
     "data": {
      "text/html": [
       "<div>\n",
       "<table border=\"1\" class=\"dataframe\">\n",
       "  <thead>\n",
       "    <tr style=\"text-align: right;\">\n",
       "      <th></th>\n",
       "      <th>Index</th>\n",
       "      <th>name</th>\n",
       "      <th>Cosine Distance</th>\n",
       "    </tr>\n",
       "  </thead>\n",
       "  <tbody>\n",
       "    <tr>\n",
       "      <th>0</th>\n",
       "      <td>50411</td>\n",
       "      <td>Victoria Beckham</td>\n",
       "      <td>5.551115e-16</td>\n",
       "    </tr>\n",
       "    <tr>\n",
       "      <th>1</th>\n",
       "      <td>23386</td>\n",
       "      <td>David Beckham</td>\n",
       "      <td>5.464767e-01</td>\n",
       "    </tr>\n",
       "    <tr>\n",
       "      <th>2</th>\n",
       "      <td>17264</td>\n",
       "      <td>Mel B</td>\n",
       "      <td>7.184218e-01</td>\n",
       "    </tr>\n",
       "    <tr>\n",
       "      <th>3</th>\n",
       "      <td>39144</td>\n",
       "      <td>Stephen Dow Beckham</td>\n",
       "      <td>7.459557e-01</td>\n",
       "    </tr>\n",
       "    <tr>\n",
       "      <th>4</th>\n",
       "      <td>5385</td>\n",
       "      <td>Hilary Alexander</td>\n",
       "      <td>7.518478e-01</td>\n",
       "    </tr>\n",
       "    <tr>\n",
       "      <th>5</th>\n",
       "      <td>58438</td>\n",
       "      <td>Mona al Mansouri</td>\n",
       "      <td>7.535584e-01</td>\n",
       "    </tr>\n",
       "    <tr>\n",
       "      <th>6</th>\n",
       "      <td>57583</td>\n",
       "      <td>Caroline Rush</td>\n",
       "      <td>7.638209e-01</td>\n",
       "    </tr>\n",
       "    <tr>\n",
       "      <th>7</th>\n",
       "      <td>32301</td>\n",
       "      <td>Caryn Franklin</td>\n",
       "      <td>7.645923e-01</td>\n",
       "    </tr>\n",
       "    <tr>\n",
       "      <th>8</th>\n",
       "      <td>19061</td>\n",
       "      <td>Emma Bunton</td>\n",
       "      <td>7.671695e-01</td>\n",
       "    </tr>\n",
       "    <tr>\n",
       "      <th>9</th>\n",
       "      <td>36979</td>\n",
       "      <td>Zurain Imam</td>\n",
       "      <td>7.673020e-01</td>\n",
       "    </tr>\n",
       "    <tr>\n",
       "      <th>10</th>\n",
       "      <td>56064</td>\n",
       "      <td>Yuliya Polishchuk</td>\n",
       "      <td>7.678948e-01</td>\n",
       "    </tr>\n",
       "    <tr>\n",
       "      <th>11</th>\n",
       "      <td>45950</td>\n",
       "      <td>Louis Molloy</td>\n",
       "      <td>7.727671e-01</td>\n",
       "    </tr>\n",
       "    <tr>\n",
       "      <th>12</th>\n",
       "      <td>31616</td>\n",
       "      <td>Angelique Westerhof</td>\n",
       "      <td>7.741364e-01</td>\n",
       "    </tr>\n",
       "    <tr>\n",
       "      <th>13</th>\n",
       "      <td>55254</td>\n",
       "      <td>Marc Robinson</td>\n",
       "      <td>7.777541e-01</td>\n",
       "    </tr>\n",
       "    <tr>\n",
       "      <th>14</th>\n",
       "      <td>37816</td>\n",
       "      <td>Colin McDowell</td>\n",
       "      <td>7.786255e-01</td>\n",
       "    </tr>\n",
       "    <tr>\n",
       "      <th>15</th>\n",
       "      <td>38604</td>\n",
       "      <td>Adama Ndiaye</td>\n",
       "      <td>7.840548e-01</td>\n",
       "    </tr>\n",
       "    <tr>\n",
       "      <th>16</th>\n",
       "      <td>17649</td>\n",
       "      <td>Jasper Garvida</td>\n",
       "      <td>7.844838e-01</td>\n",
       "    </tr>\n",
       "    <tr>\n",
       "      <th>17</th>\n",
       "      <td>2990</td>\n",
       "      <td>Jamal Taslaq</td>\n",
       "      <td>7.849104e-01</td>\n",
       "    </tr>\n",
       "    <tr>\n",
       "      <th>18</th>\n",
       "      <td>6635</td>\n",
       "      <td>Wal%C3%A9 Adeyemi</td>\n",
       "      <td>7.850430e-01</td>\n",
       "    </tr>\n",
       "    <tr>\n",
       "      <th>19</th>\n",
       "      <td>40505</td>\n",
       "      <td>Madonna (entertainer)</td>\n",
       "      <td>7.850586e-01</td>\n",
       "    </tr>\n",
       "  </tbody>\n",
       "</table>\n",
       "</div>"
      ],
      "text/plain": [
       "    Index                   name  Cosine Distance\n",
       "0   50411       Victoria Beckham     5.551115e-16\n",
       "1   23386          David Beckham     5.464767e-01\n",
       "2   17264                  Mel B     7.184218e-01\n",
       "3   39144    Stephen Dow Beckham     7.459557e-01\n",
       "4    5385       Hilary Alexander     7.518478e-01\n",
       "5   58438       Mona al Mansouri     7.535584e-01\n",
       "6   57583          Caroline Rush     7.638209e-01\n",
       "7   32301         Caryn Franklin     7.645923e-01\n",
       "8   19061            Emma Bunton     7.671695e-01\n",
       "9   36979            Zurain Imam     7.673020e-01\n",
       "10  56064      Yuliya Polishchuk     7.678948e-01\n",
       "11  45950           Louis Molloy     7.727671e-01\n",
       "12  31616    Angelique Westerhof     7.741364e-01\n",
       "13  55254          Marc Robinson     7.777541e-01\n",
       "14  37816         Colin McDowell     7.786255e-01\n",
       "15  38604           Adama Ndiaye     7.840548e-01\n",
       "16  17649         Jasper Garvida     7.844838e-01\n",
       "17   2990           Jamal Taslaq     7.849104e-01\n",
       "18   6635      Wal%C3%A9 Adeyemi     7.850430e-01\n",
       "19  40505  Madonna (entertainer)     7.850586e-01"
      ]
     },
     "execution_count": 57,
     "metadata": {},
     "output_type": "execute_result"
    }
   ],
   "source": [
    "result_df(\"Victoria Beckham\")"
   ]
  },
  {
   "cell_type": "markdown",
   "metadata": {},
   "source": [
    "# Assignment"
   ]
  },
  {
   "cell_type": "markdown",
   "metadata": {},
   "source": [
    "# Applying the nearest-neighbors model for retrieval-words counts"
   ]
  },
  {
   "cell_type": "code",
   "execution_count": 58,
   "metadata": {
    "collapsed": true
   },
   "outputs": [],
   "source": [
    "from sklearn.feature_extraction.text import CountVectorizer"
   ]
  },
  {
   "cell_type": "code",
   "execution_count": 59,
   "metadata": {
    "collapsed": true
   },
   "outputs": [],
   "source": [
    "cv=CountVectorizer()"
   ]
  },
  {
   "cell_type": "code",
   "execution_count": 60,
   "metadata": {
    "collapsed": true
   },
   "outputs": [],
   "source": [
    "coutvec=cv.fit_transform(people.text)"
   ]
  },
  {
   "cell_type": "code",
   "execution_count": 61,
   "metadata": {
    "collapsed": false
   },
   "outputs": [],
   "source": [
    "knn_fit_c=knn.fit(coutvec)"
   ]
  },
  {
   "cell_type": "code",
   "execution_count": 62,
   "metadata": {
    "collapsed": false
   },
   "outputs": [
    {
     "data": {
      "text/plain": [
       "[19923,\n",
       " 41668,\n",
       " 25798,\n",
       " 28825,\n",
       " 37447,\n",
       " 51884,\n",
       " 19983,\n",
       " 17852,\n",
       " 50847,\n",
       " 24770,\n",
       " 53752,\n",
       " 23677,\n",
       " 34450,\n",
       " 52121,\n",
       " 34612,\n",
       " 598,\n",
       " 31286,\n",
       " 3019,\n",
       " 28756,\n",
       " 21004]"
      ]
     },
     "execution_count": 62,
     "metadata": {},
     "output_type": "execute_result"
    }
   ],
   "source": [
    "knn_fit_c.kneighbors(coutvec[get_index('Elton John')])[1].tolist()[0]"
   ]
  },
  {
   "cell_type": "code",
   "execution_count": 63,
   "metadata": {
    "collapsed": false
   },
   "outputs": [
    {
     "data": {
      "text/plain": [
       "URI           <http://dbpedia.org/resource/Cliff_Richard>\n",
       "name                                        Cliff Richard\n",
       "text    sir cliff richard obe born harry rodger webb 1...\n",
       "Name: 41668, dtype: object"
      ]
     },
     "execution_count": 63,
     "metadata": {},
     "output_type": "execute_result"
    }
   ],
   "source": [
    "people.iloc[41668]"
   ]
  },
  {
   "cell_type": "code",
   "execution_count": 64,
   "metadata": {
    "collapsed": false
   },
   "outputs": [
    {
     "data": {
      "text/plain": [
       "[50411,\n",
       " 669,\n",
       " 45129,\n",
       " 39504,\n",
       " 13937,\n",
       " 48867,\n",
       " 50841,\n",
       " 41962,\n",
       " 31221,\n",
       " 2985,\n",
       " 7505,\n",
       " 22590,\n",
       " 42381,\n",
       " 57206,\n",
       " 20389,\n",
       " 35902,\n",
       " 16663,\n",
       " 24613,\n",
       " 3993,\n",
       " 14490]"
      ]
     },
     "execution_count": 64,
     "metadata": {},
     "output_type": "execute_result"
    }
   ],
   "source": [
    "knn_fit_c.kneighbors(coutvec[get_index('Victoria Beckham')])[1].tolist()[0]"
   ]
  },
  {
   "cell_type": "code",
   "execution_count": 65,
   "metadata": {
    "collapsed": false
   },
   "outputs": [
    {
     "data": {
      "text/plain": [
       "URI     <http://dbpedia.org/resource/Mary_Fitzgerald_(...\n",
       "name                             Mary Fitzgerald (artist)\n",
       "text    mary fitzgerald born 1956 is an irish artist w...\n",
       "Name: 669, dtype: object"
      ]
     },
     "execution_count": 65,
     "metadata": {},
     "output_type": "execute_result"
    }
   ],
   "source": [
    "people.iloc[669]"
   ]
  },
  {
   "cell_type": "code",
   "execution_count": 66,
   "metadata": {
    "collapsed": false
   },
   "outputs": [
    {
     "data": {
      "text/plain": [
       "[19923]"
      ]
     },
     "execution_count": 66,
     "metadata": {},
     "output_type": "execute_result"
    }
   ],
   "source": [
    "get_index('Elton John')"
   ]
  },
  {
   "cell_type": "code",
   "execution_count": 67,
   "metadata": {
    "collapsed": false
   },
   "outputs": [
    {
     "data": {
      "text/plain": [
       "[50411]"
      ]
     },
     "execution_count": 67,
     "metadata": {},
     "output_type": "execute_result"
    }
   ],
   "source": [
    "get_index('Victoria Beckham')"
   ]
  },
  {
   "cell_type": "code",
   "execution_count": 68,
   "metadata": {
    "collapsed": false
   },
   "outputs": [
    {
     "data": {
      "text/plain": [
       "[53028]"
      ]
     },
     "execution_count": 68,
     "metadata": {},
     "output_type": "execute_result"
    }
   ],
   "source": [
    "get_index('Paul McCartney')"
   ]
  },
  {
   "cell_type": "code",
   "execution_count": 69,
   "metadata": {
    "collapsed": true
   },
   "outputs": [],
   "source": [
    "cosine_similarities = linear_kernel(tfidf[19923], tfidf).flatten()"
   ]
  },
  {
   "cell_type": "code",
   "execution_count": 70,
   "metadata": {
    "collapsed": false
   },
   "outputs": [
    {
     "data": {
      "text/plain": [
       "0.85192118138271955"
      ]
     },
     "execution_count": 70,
     "metadata": {},
     "output_type": "execute_result"
    }
   ],
   "source": [
    "cosin_distance('Elton John',50411)"
   ]
  },
  {
   "cell_type": "code",
   "execution_count": 71,
   "metadata": {
    "collapsed": false
   },
   "outputs": [
    {
     "data": {
      "text/plain": [
       "0.69231324786877968"
      ]
     },
     "execution_count": 71,
     "metadata": {},
     "output_type": "execute_result"
    }
   ],
   "source": [
    "cosin_distance('Elton John',53028)"
   ]
  }
 ],
 "metadata": {
  "kernelspec": {
   "display_name": "Python 3",
   "language": "python",
   "name": "python3"
  },
  "language_info": {
   "codemirror_mode": {
    "name": "ipython",
    "version": 3
   },
   "file_extension": ".py",
   "mimetype": "text/x-python",
   "name": "python",
   "nbconvert_exporter": "python",
   "pygments_lexer": "ipython3",
   "version": "3.6.0"
  }
 },
 "nbformat": 4,
 "nbformat_minor": 0
}
