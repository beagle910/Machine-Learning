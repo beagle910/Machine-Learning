{
 "cells": [
  {
   "cell_type": "markdown",
   "metadata": {},
   "source": [
    "# Building a song recommender"
   ]
  },
  {
   "cell_type": "markdown",
   "metadata": {},
   "source": [
    "# Fire up Packages"
   ]
  },
  {
   "cell_type": "code",
   "execution_count": 1,
   "metadata": {
    "collapsed": false
   },
   "outputs": [],
   "source": [
    "import sklearn\n",
    "import matplotlib.pyplot as plt\n",
    "%matplotlib inline\n",
    "import pandas as pd\n",
    "from sklearn.model_selection import train_test_split\n",
    "import numpy as np"
   ]
  },
  {
   "cell_type": "markdown",
   "metadata": {},
   "source": [
    "# Load music data"
   ]
  },
  {
   "cell_type": "code",
   "execution_count": 3,
   "metadata": {
    "collapsed": false
   },
   "outputs": [],
   "source": [
    "song_data=pd.read_csv('song_data.csv')"
   ]
  },
  {
   "cell_type": "markdown",
   "metadata": {},
   "source": [
    "# Explore data\n",
    "\n",
    "Music data shows how many times a user listened to a song, as well as the details of the song."
   ]
  },
  {
   "cell_type": "code",
   "execution_count": 4,
   "metadata": {
    "collapsed": false
   },
   "outputs": [
    {
     "data": {
      "text/html": [
       "<div>\n",
       "<table border=\"1\" class=\"dataframe\">\n",
       "  <thead>\n",
       "    <tr style=\"text-align: right;\">\n",
       "      <th></th>\n",
       "      <th>user_id</th>\n",
       "      <th>song_id</th>\n",
       "      <th>listen_count</th>\n",
       "      <th>title</th>\n",
       "      <th>artist</th>\n",
       "      <th>song</th>\n",
       "    </tr>\n",
       "  </thead>\n",
       "  <tbody>\n",
       "    <tr>\n",
       "      <th>0</th>\n",
       "      <td>b80344d063b5ccb3212f76538f3d9e43d87dca9e</td>\n",
       "      <td>SOAKIMP12A8C130995</td>\n",
       "      <td>1</td>\n",
       "      <td>The Cove</td>\n",
       "      <td>Jack Johnson</td>\n",
       "      <td>The Cove - Jack Johnson</td>\n",
       "    </tr>\n",
       "    <tr>\n",
       "      <th>1</th>\n",
       "      <td>b80344d063b5ccb3212f76538f3d9e43d87dca9e</td>\n",
       "      <td>SOBBMDR12A8C13253B</td>\n",
       "      <td>2</td>\n",
       "      <td>Entre Dos Aguas</td>\n",
       "      <td>Paco De Lucia</td>\n",
       "      <td>Entre Dos Aguas - Paco De Lucia</td>\n",
       "    </tr>\n",
       "    <tr>\n",
       "      <th>2</th>\n",
       "      <td>b80344d063b5ccb3212f76538f3d9e43d87dca9e</td>\n",
       "      <td>SOBXHDL12A81C204C0</td>\n",
       "      <td>1</td>\n",
       "      <td>Stronger</td>\n",
       "      <td>Kanye West</td>\n",
       "      <td>Stronger - Kanye West</td>\n",
       "    </tr>\n",
       "    <tr>\n",
       "      <th>3</th>\n",
       "      <td>b80344d063b5ccb3212f76538f3d9e43d87dca9e</td>\n",
       "      <td>SOBYHAJ12A6701BF1D</td>\n",
       "      <td>1</td>\n",
       "      <td>Constellations</td>\n",
       "      <td>Jack Johnson</td>\n",
       "      <td>Constellations - Jack Johnson</td>\n",
       "    </tr>\n",
       "    <tr>\n",
       "      <th>4</th>\n",
       "      <td>b80344d063b5ccb3212f76538f3d9e43d87dca9e</td>\n",
       "      <td>SODACBL12A8C13C273</td>\n",
       "      <td>1</td>\n",
       "      <td>Learn To Fly</td>\n",
       "      <td>Foo Fighters</td>\n",
       "      <td>Learn To Fly - Foo Fighters</td>\n",
       "    </tr>\n",
       "  </tbody>\n",
       "</table>\n",
       "</div>"
      ],
      "text/plain": [
       "                                    user_id             song_id  listen_count  \\\n",
       "0  b80344d063b5ccb3212f76538f3d9e43d87dca9e  SOAKIMP12A8C130995             1   \n",
       "1  b80344d063b5ccb3212f76538f3d9e43d87dca9e  SOBBMDR12A8C13253B             2   \n",
       "2  b80344d063b5ccb3212f76538f3d9e43d87dca9e  SOBXHDL12A81C204C0             1   \n",
       "3  b80344d063b5ccb3212f76538f3d9e43d87dca9e  SOBYHAJ12A6701BF1D             1   \n",
       "4  b80344d063b5ccb3212f76538f3d9e43d87dca9e  SODACBL12A8C13C273             1   \n",
       "\n",
       "             title         artist                             song  \n",
       "0         The Cove   Jack Johnson          The Cove - Jack Johnson  \n",
       "1  Entre Dos Aguas  Paco De Lucia  Entre Dos Aguas - Paco De Lucia  \n",
       "2         Stronger     Kanye West            Stronger - Kanye West  \n",
       "3   Constellations   Jack Johnson    Constellations - Jack Johnson  \n",
       "4     Learn To Fly   Foo Fighters      Learn To Fly - Foo Fighters  "
      ]
     },
     "execution_count": 4,
     "metadata": {},
     "output_type": "execute_result"
    }
   ],
   "source": [
    "song_data.head()"
   ]
  },
  {
   "cell_type": "code",
   "execution_count": 5,
   "metadata": {
    "collapsed": false
   },
   "outputs": [
    {
     "data": {
      "text/plain": [
       "(1116609, 6)"
      ]
     },
     "execution_count": 5,
     "metadata": {},
     "output_type": "execute_result"
    }
   ],
   "source": [
    "song_data.shape"
   ]
  },
  {
   "cell_type": "markdown",
   "metadata": {},
   "source": [
    "## Showing the most popular songs in the dataset"
   ]
  },
  {
   "cell_type": "code",
   "execution_count": 6,
   "metadata": {
    "collapsed": false
   },
   "outputs": [
    {
     "data": {
      "text/plain": [
       "Sehr kosmisch - Harmonia                                                                                                                        5970\n",
       "Undo - Björk                                                                                                                                    5281\n",
       "You\\'re The One - Dwight Yoakam                                                                                                                 4806\n",
       "Dog Days Are Over (Radio Edit) - Florence + The Machine                                                                                         4536\n",
       "Revelry - Kings Of Leon                                                                                                                         4339\n",
       "Horn Concerto No. 4 in E flat K495: II. Romance (Andante cantabile) - Barry Tuckwell/Academy of St Martin-in-the-Fields/Sir Neville Marriner    3949\n",
       "Secrets - OneRepublic                                                                                                                           3916\n",
       "Tive Sim - Cartola                                                                                                                              3185\n",
       "Fireflies - Charttraxx Karaoke                                                                                                                  3171\n",
       "Hey_ Soul Sister - Train                                                                                                                        3132\n",
       "Name: song, dtype: int64"
      ]
     },
     "execution_count": 6,
     "metadata": {},
     "output_type": "execute_result"
    }
   ],
   "source": [
    "song_data.song.value_counts().head(10)"
   ]
  },
  {
   "cell_type": "markdown",
   "metadata": {},
   "source": [
    "# User-Item Collaborative Filtering\n",
    "In this case, the recommendation system should be built with the method of user-item collaborative filtering. Namely, the recommendation should be backed up by: “Customers who are similar to you also liked …”."
   ]
  },
  {
   "cell_type": "markdown",
   "metadata": {},
   "source": [
    "## A: Recommend Songs\n"
   ]
  },
  {
   "cell_type": "markdown",
   "metadata": {},
   "source": [
    "### Build user-item matrix "
   ]
  },
  {
   "cell_type": "code",
   "execution_count": 7,
   "metadata": {
    "collapsed": true
   },
   "outputs": [],
   "source": [
    "song=song_data.drop_duplicates(['user_id','song','title','artist'])\n",
    "song=song.reset_index(drop=True)"
   ]
  },
  {
   "cell_type": "code",
   "execution_count": 8,
   "metadata": {
    "collapsed": false
   },
   "outputs": [
    {
     "data": {
      "text/plain": [
       "(1115985, 6)"
      ]
     },
     "execution_count": 8,
     "metadata": {},
     "output_type": "execute_result"
    }
   ],
   "source": [
    "song.shape"
   ]
  },
  {
   "cell_type": "markdown",
   "metadata": {},
   "source": [
    "### Due to the memory limitation of Jupyter notebook, I just use first 100000 rows of data. "
   ]
  },
  {
   "cell_type": "code",
   "execution_count": 9,
   "metadata": {
    "collapsed": false
   },
   "outputs": [
    {
     "name": "stdout",
     "output_type": "stream",
     "text": [
      "We have 66346 unique users,10000 unique songs and 3375 unique artist in the data table.\n"
     ]
    }
   ],
   "source": [
    "n_user=len(song['user_id'].unique())\n",
    "n_song=len(song['song_id'].unique())\n",
    "n_artist=len(song['artist'].unique())\n",
    "print ('We have '+str(n_user)+' unique users,'+str(n_song)+' unique songs and '+str(n_artist)+' unique artist in the data table.')"
   ]
  },
  {
   "cell_type": "markdown",
   "metadata": {},
   "source": [
    "### User_item matrix can be created by pivot table. "
   ]
  },
  {
   "cell_type": "code",
   "execution_count": 10,
   "metadata": {
    "collapsed": true
   },
   "outputs": [],
   "source": [
    "song_pivot=song.pivot(index='user_id',columns='song_id',values='listen_count')"
   ]
  },
  {
   "cell_type": "code",
   "execution_count": 11,
   "metadata": {
    "collapsed": false
   },
   "outputs": [
    {
     "data": {
      "text/plain": [
       "(66346, 10000)"
      ]
     },
     "execution_count": 11,
     "metadata": {},
     "output_type": "execute_result"
    }
   ],
   "source": [
    "song_pivot.shape"
   ]
  },
  {
   "cell_type": "code",
   "execution_count": 12,
   "metadata": {
    "collapsed": true
   },
   "outputs": [],
   "source": [
    "song_pivot=song_pivot.fillna(0)"
   ]
  },
  {
   "cell_type": "code",
   "execution_count": 13,
   "metadata": {
    "collapsed": false
   },
   "outputs": [
    {
     "data": {
      "text/html": [
       "<div>\n",
       "<table border=\"1\" class=\"dataframe\">\n",
       "  <thead>\n",
       "    <tr style=\"text-align: right;\">\n",
       "      <th>song_id</th>\n",
       "      <th>SOAAAGQ12A8C1420C8</th>\n",
       "      <th>SOAACPJ12A81C21360</th>\n",
       "      <th>SOAACSG12AB018DC80</th>\n",
       "      <th>SOAAEJI12AB0188AB5</th>\n",
       "      <th>SOAAFAC12A67ADF7EB</th>\n",
       "      <th>SOAAFYH12A8C13717A</th>\n",
       "      <th>SOAAJMQ12A6D4F7D17</th>\n",
       "      <th>SOAAKPM12A58A77210</th>\n",
       "      <th>SOAALWN12A6D4F7FDA</th>\n",
       "      <th>SOAAMOW12AB018149B</th>\n",
       "      <th>...</th>\n",
       "      <th>SOZZKPR12A6D4F8147</th>\n",
       "      <th>SOZZLTY12A67AE0AD0</th>\n",
       "      <th>SOZZLZN12A8AE48D6D</th>\n",
       "      <th>SOZZRHE12A6702165F</th>\n",
       "      <th>SOZZTCU12AB0182C58</th>\n",
       "      <th>SOZZTNF12A8C139916</th>\n",
       "      <th>SOZZVWB12AB0189C30</th>\n",
       "      <th>SOZZWZV12A67AE140F</th>\n",
       "      <th>SOZZYAO12A6701FF36</th>\n",
       "      <th>SOZZZPV12A8C1444B5</th>\n",
       "    </tr>\n",
       "    <tr>\n",
       "      <th>user_id</th>\n",
       "      <th></th>\n",
       "      <th></th>\n",
       "      <th></th>\n",
       "      <th></th>\n",
       "      <th></th>\n",
       "      <th></th>\n",
       "      <th></th>\n",
       "      <th></th>\n",
       "      <th></th>\n",
       "      <th></th>\n",
       "      <th></th>\n",
       "      <th></th>\n",
       "      <th></th>\n",
       "      <th></th>\n",
       "      <th></th>\n",
       "      <th></th>\n",
       "      <th></th>\n",
       "      <th></th>\n",
       "      <th></th>\n",
       "      <th></th>\n",
       "      <th></th>\n",
       "    </tr>\n",
       "  </thead>\n",
       "  <tbody>\n",
       "    <tr>\n",
       "      <th>00003a4459f33b92906be11abe0e93efc423c0ff</th>\n",
       "      <td>0.0</td>\n",
       "      <td>0.0</td>\n",
       "      <td>0.0</td>\n",
       "      <td>0.0</td>\n",
       "      <td>0.0</td>\n",
       "      <td>0.0</td>\n",
       "      <td>0.0</td>\n",
       "      <td>0.0</td>\n",
       "      <td>0.0</td>\n",
       "      <td>0.0</td>\n",
       "      <td>...</td>\n",
       "      <td>0.0</td>\n",
       "      <td>0.0</td>\n",
       "      <td>0.0</td>\n",
       "      <td>0.0</td>\n",
       "      <td>0.0</td>\n",
       "      <td>0.0</td>\n",
       "      <td>0.0</td>\n",
       "      <td>0.0</td>\n",
       "      <td>0.0</td>\n",
       "      <td>0.0</td>\n",
       "    </tr>\n",
       "    <tr>\n",
       "      <th>00005c6177188f12fb5e2e82cdbd93e8a3f35e64</th>\n",
       "      <td>0.0</td>\n",
       "      <td>0.0</td>\n",
       "      <td>0.0</td>\n",
       "      <td>0.0</td>\n",
       "      <td>0.0</td>\n",
       "      <td>0.0</td>\n",
       "      <td>0.0</td>\n",
       "      <td>0.0</td>\n",
       "      <td>0.0</td>\n",
       "      <td>0.0</td>\n",
       "      <td>...</td>\n",
       "      <td>0.0</td>\n",
       "      <td>0.0</td>\n",
       "      <td>0.0</td>\n",
       "      <td>0.0</td>\n",
       "      <td>0.0</td>\n",
       "      <td>0.0</td>\n",
       "      <td>0.0</td>\n",
       "      <td>0.0</td>\n",
       "      <td>0.0</td>\n",
       "      <td>0.0</td>\n",
       "    </tr>\n",
       "    <tr>\n",
       "      <th>00030033e3a2f904a48ec1dd53019c9969b6ef1f</th>\n",
       "      <td>0.0</td>\n",
       "      <td>0.0</td>\n",
       "      <td>0.0</td>\n",
       "      <td>0.0</td>\n",
       "      <td>0.0</td>\n",
       "      <td>0.0</td>\n",
       "      <td>0.0</td>\n",
       "      <td>0.0</td>\n",
       "      <td>0.0</td>\n",
       "      <td>0.0</td>\n",
       "      <td>...</td>\n",
       "      <td>0.0</td>\n",
       "      <td>0.0</td>\n",
       "      <td>0.0</td>\n",
       "      <td>0.0</td>\n",
       "      <td>0.0</td>\n",
       "      <td>0.0</td>\n",
       "      <td>0.0</td>\n",
       "      <td>0.0</td>\n",
       "      <td>0.0</td>\n",
       "      <td>0.0</td>\n",
       "    </tr>\n",
       "    <tr>\n",
       "      <th>0007235c769e610e3d339a17818a5708e41008d9</th>\n",
       "      <td>0.0</td>\n",
       "      <td>0.0</td>\n",
       "      <td>0.0</td>\n",
       "      <td>0.0</td>\n",
       "      <td>0.0</td>\n",
       "      <td>0.0</td>\n",
       "      <td>0.0</td>\n",
       "      <td>0.0</td>\n",
       "      <td>0.0</td>\n",
       "      <td>0.0</td>\n",
       "      <td>...</td>\n",
       "      <td>0.0</td>\n",
       "      <td>0.0</td>\n",
       "      <td>0.0</td>\n",
       "      <td>0.0</td>\n",
       "      <td>0.0</td>\n",
       "      <td>0.0</td>\n",
       "      <td>0.0</td>\n",
       "      <td>0.0</td>\n",
       "      <td>0.0</td>\n",
       "      <td>0.0</td>\n",
       "    </tr>\n",
       "    <tr>\n",
       "      <th>0007c0e74728ca9ef0fe4eb7f75732e8026a278b</th>\n",
       "      <td>0.0</td>\n",
       "      <td>0.0</td>\n",
       "      <td>0.0</td>\n",
       "      <td>0.0</td>\n",
       "      <td>0.0</td>\n",
       "      <td>0.0</td>\n",
       "      <td>0.0</td>\n",
       "      <td>0.0</td>\n",
       "      <td>0.0</td>\n",
       "      <td>0.0</td>\n",
       "      <td>...</td>\n",
       "      <td>0.0</td>\n",
       "      <td>0.0</td>\n",
       "      <td>0.0</td>\n",
       "      <td>0.0</td>\n",
       "      <td>0.0</td>\n",
       "      <td>0.0</td>\n",
       "      <td>0.0</td>\n",
       "      <td>0.0</td>\n",
       "      <td>0.0</td>\n",
       "      <td>0.0</td>\n",
       "    </tr>\n",
       "  </tbody>\n",
       "</table>\n",
       "<p>5 rows × 10000 columns</p>\n",
       "</div>"
      ],
      "text/plain": [
       "song_id                                   SOAAAGQ12A8C1420C8  \\\n",
       "user_id                                                        \n",
       "00003a4459f33b92906be11abe0e93efc423c0ff                 0.0   \n",
       "00005c6177188f12fb5e2e82cdbd93e8a3f35e64                 0.0   \n",
       "00030033e3a2f904a48ec1dd53019c9969b6ef1f                 0.0   \n",
       "0007235c769e610e3d339a17818a5708e41008d9                 0.0   \n",
       "0007c0e74728ca9ef0fe4eb7f75732e8026a278b                 0.0   \n",
       "\n",
       "song_id                                   SOAACPJ12A81C21360  \\\n",
       "user_id                                                        \n",
       "00003a4459f33b92906be11abe0e93efc423c0ff                 0.0   \n",
       "00005c6177188f12fb5e2e82cdbd93e8a3f35e64                 0.0   \n",
       "00030033e3a2f904a48ec1dd53019c9969b6ef1f                 0.0   \n",
       "0007235c769e610e3d339a17818a5708e41008d9                 0.0   \n",
       "0007c0e74728ca9ef0fe4eb7f75732e8026a278b                 0.0   \n",
       "\n",
       "song_id                                   SOAACSG12AB018DC80  \\\n",
       "user_id                                                        \n",
       "00003a4459f33b92906be11abe0e93efc423c0ff                 0.0   \n",
       "00005c6177188f12fb5e2e82cdbd93e8a3f35e64                 0.0   \n",
       "00030033e3a2f904a48ec1dd53019c9969b6ef1f                 0.0   \n",
       "0007235c769e610e3d339a17818a5708e41008d9                 0.0   \n",
       "0007c0e74728ca9ef0fe4eb7f75732e8026a278b                 0.0   \n",
       "\n",
       "song_id                                   SOAAEJI12AB0188AB5  \\\n",
       "user_id                                                        \n",
       "00003a4459f33b92906be11abe0e93efc423c0ff                 0.0   \n",
       "00005c6177188f12fb5e2e82cdbd93e8a3f35e64                 0.0   \n",
       "00030033e3a2f904a48ec1dd53019c9969b6ef1f                 0.0   \n",
       "0007235c769e610e3d339a17818a5708e41008d9                 0.0   \n",
       "0007c0e74728ca9ef0fe4eb7f75732e8026a278b                 0.0   \n",
       "\n",
       "song_id                                   SOAAFAC12A67ADF7EB  \\\n",
       "user_id                                                        \n",
       "00003a4459f33b92906be11abe0e93efc423c0ff                 0.0   \n",
       "00005c6177188f12fb5e2e82cdbd93e8a3f35e64                 0.0   \n",
       "00030033e3a2f904a48ec1dd53019c9969b6ef1f                 0.0   \n",
       "0007235c769e610e3d339a17818a5708e41008d9                 0.0   \n",
       "0007c0e74728ca9ef0fe4eb7f75732e8026a278b                 0.0   \n",
       "\n",
       "song_id                                   SOAAFYH12A8C13717A  \\\n",
       "user_id                                                        \n",
       "00003a4459f33b92906be11abe0e93efc423c0ff                 0.0   \n",
       "00005c6177188f12fb5e2e82cdbd93e8a3f35e64                 0.0   \n",
       "00030033e3a2f904a48ec1dd53019c9969b6ef1f                 0.0   \n",
       "0007235c769e610e3d339a17818a5708e41008d9                 0.0   \n",
       "0007c0e74728ca9ef0fe4eb7f75732e8026a278b                 0.0   \n",
       "\n",
       "song_id                                   SOAAJMQ12A6D4F7D17  \\\n",
       "user_id                                                        \n",
       "00003a4459f33b92906be11abe0e93efc423c0ff                 0.0   \n",
       "00005c6177188f12fb5e2e82cdbd93e8a3f35e64                 0.0   \n",
       "00030033e3a2f904a48ec1dd53019c9969b6ef1f                 0.0   \n",
       "0007235c769e610e3d339a17818a5708e41008d9                 0.0   \n",
       "0007c0e74728ca9ef0fe4eb7f75732e8026a278b                 0.0   \n",
       "\n",
       "song_id                                   SOAAKPM12A58A77210  \\\n",
       "user_id                                                        \n",
       "00003a4459f33b92906be11abe0e93efc423c0ff                 0.0   \n",
       "00005c6177188f12fb5e2e82cdbd93e8a3f35e64                 0.0   \n",
       "00030033e3a2f904a48ec1dd53019c9969b6ef1f                 0.0   \n",
       "0007235c769e610e3d339a17818a5708e41008d9                 0.0   \n",
       "0007c0e74728ca9ef0fe4eb7f75732e8026a278b                 0.0   \n",
       "\n",
       "song_id                                   SOAALWN12A6D4F7FDA  \\\n",
       "user_id                                                        \n",
       "00003a4459f33b92906be11abe0e93efc423c0ff                 0.0   \n",
       "00005c6177188f12fb5e2e82cdbd93e8a3f35e64                 0.0   \n",
       "00030033e3a2f904a48ec1dd53019c9969b6ef1f                 0.0   \n",
       "0007235c769e610e3d339a17818a5708e41008d9                 0.0   \n",
       "0007c0e74728ca9ef0fe4eb7f75732e8026a278b                 0.0   \n",
       "\n",
       "song_id                                   SOAAMOW12AB018149B  \\\n",
       "user_id                                                        \n",
       "00003a4459f33b92906be11abe0e93efc423c0ff                 0.0   \n",
       "00005c6177188f12fb5e2e82cdbd93e8a3f35e64                 0.0   \n",
       "00030033e3a2f904a48ec1dd53019c9969b6ef1f                 0.0   \n",
       "0007235c769e610e3d339a17818a5708e41008d9                 0.0   \n",
       "0007c0e74728ca9ef0fe4eb7f75732e8026a278b                 0.0   \n",
       "\n",
       "song_id                                          ...          \\\n",
       "user_id                                          ...           \n",
       "00003a4459f33b92906be11abe0e93efc423c0ff         ...           \n",
       "00005c6177188f12fb5e2e82cdbd93e8a3f35e64         ...           \n",
       "00030033e3a2f904a48ec1dd53019c9969b6ef1f         ...           \n",
       "0007235c769e610e3d339a17818a5708e41008d9         ...           \n",
       "0007c0e74728ca9ef0fe4eb7f75732e8026a278b         ...           \n",
       "\n",
       "song_id                                   SOZZKPR12A6D4F8147  \\\n",
       "user_id                                                        \n",
       "00003a4459f33b92906be11abe0e93efc423c0ff                 0.0   \n",
       "00005c6177188f12fb5e2e82cdbd93e8a3f35e64                 0.0   \n",
       "00030033e3a2f904a48ec1dd53019c9969b6ef1f                 0.0   \n",
       "0007235c769e610e3d339a17818a5708e41008d9                 0.0   \n",
       "0007c0e74728ca9ef0fe4eb7f75732e8026a278b                 0.0   \n",
       "\n",
       "song_id                                   SOZZLTY12A67AE0AD0  \\\n",
       "user_id                                                        \n",
       "00003a4459f33b92906be11abe0e93efc423c0ff                 0.0   \n",
       "00005c6177188f12fb5e2e82cdbd93e8a3f35e64                 0.0   \n",
       "00030033e3a2f904a48ec1dd53019c9969b6ef1f                 0.0   \n",
       "0007235c769e610e3d339a17818a5708e41008d9                 0.0   \n",
       "0007c0e74728ca9ef0fe4eb7f75732e8026a278b                 0.0   \n",
       "\n",
       "song_id                                   SOZZLZN12A8AE48D6D  \\\n",
       "user_id                                                        \n",
       "00003a4459f33b92906be11abe0e93efc423c0ff                 0.0   \n",
       "00005c6177188f12fb5e2e82cdbd93e8a3f35e64                 0.0   \n",
       "00030033e3a2f904a48ec1dd53019c9969b6ef1f                 0.0   \n",
       "0007235c769e610e3d339a17818a5708e41008d9                 0.0   \n",
       "0007c0e74728ca9ef0fe4eb7f75732e8026a278b                 0.0   \n",
       "\n",
       "song_id                                   SOZZRHE12A6702165F  \\\n",
       "user_id                                                        \n",
       "00003a4459f33b92906be11abe0e93efc423c0ff                 0.0   \n",
       "00005c6177188f12fb5e2e82cdbd93e8a3f35e64                 0.0   \n",
       "00030033e3a2f904a48ec1dd53019c9969b6ef1f                 0.0   \n",
       "0007235c769e610e3d339a17818a5708e41008d9                 0.0   \n",
       "0007c0e74728ca9ef0fe4eb7f75732e8026a278b                 0.0   \n",
       "\n",
       "song_id                                   SOZZTCU12AB0182C58  \\\n",
       "user_id                                                        \n",
       "00003a4459f33b92906be11abe0e93efc423c0ff                 0.0   \n",
       "00005c6177188f12fb5e2e82cdbd93e8a3f35e64                 0.0   \n",
       "00030033e3a2f904a48ec1dd53019c9969b6ef1f                 0.0   \n",
       "0007235c769e610e3d339a17818a5708e41008d9                 0.0   \n",
       "0007c0e74728ca9ef0fe4eb7f75732e8026a278b                 0.0   \n",
       "\n",
       "song_id                                   SOZZTNF12A8C139916  \\\n",
       "user_id                                                        \n",
       "00003a4459f33b92906be11abe0e93efc423c0ff                 0.0   \n",
       "00005c6177188f12fb5e2e82cdbd93e8a3f35e64                 0.0   \n",
       "00030033e3a2f904a48ec1dd53019c9969b6ef1f                 0.0   \n",
       "0007235c769e610e3d339a17818a5708e41008d9                 0.0   \n",
       "0007c0e74728ca9ef0fe4eb7f75732e8026a278b                 0.0   \n",
       "\n",
       "song_id                                   SOZZVWB12AB0189C30  \\\n",
       "user_id                                                        \n",
       "00003a4459f33b92906be11abe0e93efc423c0ff                 0.0   \n",
       "00005c6177188f12fb5e2e82cdbd93e8a3f35e64                 0.0   \n",
       "00030033e3a2f904a48ec1dd53019c9969b6ef1f                 0.0   \n",
       "0007235c769e610e3d339a17818a5708e41008d9                 0.0   \n",
       "0007c0e74728ca9ef0fe4eb7f75732e8026a278b                 0.0   \n",
       "\n",
       "song_id                                   SOZZWZV12A67AE140F  \\\n",
       "user_id                                                        \n",
       "00003a4459f33b92906be11abe0e93efc423c0ff                 0.0   \n",
       "00005c6177188f12fb5e2e82cdbd93e8a3f35e64                 0.0   \n",
       "00030033e3a2f904a48ec1dd53019c9969b6ef1f                 0.0   \n",
       "0007235c769e610e3d339a17818a5708e41008d9                 0.0   \n",
       "0007c0e74728ca9ef0fe4eb7f75732e8026a278b                 0.0   \n",
       "\n",
       "song_id                                   SOZZYAO12A6701FF36  \\\n",
       "user_id                                                        \n",
       "00003a4459f33b92906be11abe0e93efc423c0ff                 0.0   \n",
       "00005c6177188f12fb5e2e82cdbd93e8a3f35e64                 0.0   \n",
       "00030033e3a2f904a48ec1dd53019c9969b6ef1f                 0.0   \n",
       "0007235c769e610e3d339a17818a5708e41008d9                 0.0   \n",
       "0007c0e74728ca9ef0fe4eb7f75732e8026a278b                 0.0   \n",
       "\n",
       "song_id                                   SOZZZPV12A8C1444B5  \n",
       "user_id                                                       \n",
       "00003a4459f33b92906be11abe0e93efc423c0ff                 0.0  \n",
       "00005c6177188f12fb5e2e82cdbd93e8a3f35e64                 0.0  \n",
       "00030033e3a2f904a48ec1dd53019c9969b6ef1f                 0.0  \n",
       "0007235c769e610e3d339a17818a5708e41008d9                 0.0  \n",
       "0007c0e74728ca9ef0fe4eb7f75732e8026a278b                 0.0  \n",
       "\n",
       "[5 rows x 10000 columns]"
      ]
     },
     "execution_count": 13,
     "metadata": {},
     "output_type": "execute_result"
    }
   ],
   "source": [
    "song_pivot.head(5)"
   ]
  },
  {
   "cell_type": "markdown",
   "metadata": {},
   "source": [
    "### Implement KNN method to recommend songs"
   ]
  },
  {
   "cell_type": "code",
   "execution_count": 14,
   "metadata": {
    "collapsed": true
   },
   "outputs": [],
   "source": [
    "from sklearn.neighbors import NearestNeighbors\n",
    "knn=NearestNeighbors(n_neighbors=20,algorithm='brute',metric='cosine')\n",
    "kmodel=knn.fit(song_pivot)"
   ]
  },
  {
   "cell_type": "markdown",
   "metadata": {},
   "source": [
    "### Let us try a user"
   ]
  },
  {
   "cell_type": "code",
   "execution_count": 15,
   "metadata": {
    "collapsed": true
   },
   "outputs": [],
   "source": [
    "# change a pivot to DataFrame!!!!!!!!!!!!!!!!!!!!!!!!!!!!!!!!!!!!!!!\n",
    "song_pivot=song_pivot.reset_index(drop=True)"
   ]
  },
  {
   "cell_type": "code",
   "execution_count": 16,
   "metadata": {
    "collapsed": false
   },
   "outputs": [
    {
     "data": {
      "text/html": [
       "<div>\n",
       "<table border=\"1\" class=\"dataframe\">\n",
       "  <thead>\n",
       "    <tr style=\"text-align: right;\">\n",
       "      <th>song_id</th>\n",
       "      <th>SOAAAGQ12A8C1420C8</th>\n",
       "      <th>SOAACPJ12A81C21360</th>\n",
       "      <th>SOAACSG12AB018DC80</th>\n",
       "      <th>SOAAEJI12AB0188AB5</th>\n",
       "      <th>SOAAFAC12A67ADF7EB</th>\n",
       "      <th>SOAAFYH12A8C13717A</th>\n",
       "      <th>SOAAJMQ12A6D4F7D17</th>\n",
       "      <th>SOAAKPM12A58A77210</th>\n",
       "      <th>SOAALWN12A6D4F7FDA</th>\n",
       "      <th>SOAAMOW12AB018149B</th>\n",
       "      <th>...</th>\n",
       "      <th>SOZZKPR12A6D4F8147</th>\n",
       "      <th>SOZZLTY12A67AE0AD0</th>\n",
       "      <th>SOZZLZN12A8AE48D6D</th>\n",
       "      <th>SOZZRHE12A6702165F</th>\n",
       "      <th>SOZZTCU12AB0182C58</th>\n",
       "      <th>SOZZTNF12A8C139916</th>\n",
       "      <th>SOZZVWB12AB0189C30</th>\n",
       "      <th>SOZZWZV12A67AE140F</th>\n",
       "      <th>SOZZYAO12A6701FF36</th>\n",
       "      <th>SOZZZPV12A8C1444B5</th>\n",
       "    </tr>\n",
       "  </thead>\n",
       "  <tbody>\n",
       "    <tr>\n",
       "      <th>0</th>\n",
       "      <td>0.0</td>\n",
       "      <td>0.0</td>\n",
       "      <td>0.0</td>\n",
       "      <td>0.0</td>\n",
       "      <td>0.0</td>\n",
       "      <td>0.0</td>\n",
       "      <td>0.0</td>\n",
       "      <td>0.0</td>\n",
       "      <td>0.0</td>\n",
       "      <td>0.0</td>\n",
       "      <td>...</td>\n",
       "      <td>0.0</td>\n",
       "      <td>0.0</td>\n",
       "      <td>0.0</td>\n",
       "      <td>0.0</td>\n",
       "      <td>0.0</td>\n",
       "      <td>0.0</td>\n",
       "      <td>0.0</td>\n",
       "      <td>0.0</td>\n",
       "      <td>0.0</td>\n",
       "      <td>0.0</td>\n",
       "    </tr>\n",
       "    <tr>\n",
       "      <th>1</th>\n",
       "      <td>0.0</td>\n",
       "      <td>0.0</td>\n",
       "      <td>0.0</td>\n",
       "      <td>0.0</td>\n",
       "      <td>0.0</td>\n",
       "      <td>0.0</td>\n",
       "      <td>0.0</td>\n",
       "      <td>0.0</td>\n",
       "      <td>0.0</td>\n",
       "      <td>0.0</td>\n",
       "      <td>...</td>\n",
       "      <td>0.0</td>\n",
       "      <td>0.0</td>\n",
       "      <td>0.0</td>\n",
       "      <td>0.0</td>\n",
       "      <td>0.0</td>\n",
       "      <td>0.0</td>\n",
       "      <td>0.0</td>\n",
       "      <td>0.0</td>\n",
       "      <td>0.0</td>\n",
       "      <td>0.0</td>\n",
       "    </tr>\n",
       "    <tr>\n",
       "      <th>2</th>\n",
       "      <td>0.0</td>\n",
       "      <td>0.0</td>\n",
       "      <td>0.0</td>\n",
       "      <td>0.0</td>\n",
       "      <td>0.0</td>\n",
       "      <td>0.0</td>\n",
       "      <td>0.0</td>\n",
       "      <td>0.0</td>\n",
       "      <td>0.0</td>\n",
       "      <td>0.0</td>\n",
       "      <td>...</td>\n",
       "      <td>0.0</td>\n",
       "      <td>0.0</td>\n",
       "      <td>0.0</td>\n",
       "      <td>0.0</td>\n",
       "      <td>0.0</td>\n",
       "      <td>0.0</td>\n",
       "      <td>0.0</td>\n",
       "      <td>0.0</td>\n",
       "      <td>0.0</td>\n",
       "      <td>0.0</td>\n",
       "    </tr>\n",
       "    <tr>\n",
       "      <th>3</th>\n",
       "      <td>0.0</td>\n",
       "      <td>0.0</td>\n",
       "      <td>0.0</td>\n",
       "      <td>0.0</td>\n",
       "      <td>0.0</td>\n",
       "      <td>0.0</td>\n",
       "      <td>0.0</td>\n",
       "      <td>0.0</td>\n",
       "      <td>0.0</td>\n",
       "      <td>0.0</td>\n",
       "      <td>...</td>\n",
       "      <td>0.0</td>\n",
       "      <td>0.0</td>\n",
       "      <td>0.0</td>\n",
       "      <td>0.0</td>\n",
       "      <td>0.0</td>\n",
       "      <td>0.0</td>\n",
       "      <td>0.0</td>\n",
       "      <td>0.0</td>\n",
       "      <td>0.0</td>\n",
       "      <td>0.0</td>\n",
       "    </tr>\n",
       "    <tr>\n",
       "      <th>4</th>\n",
       "      <td>0.0</td>\n",
       "      <td>0.0</td>\n",
       "      <td>0.0</td>\n",
       "      <td>0.0</td>\n",
       "      <td>0.0</td>\n",
       "      <td>0.0</td>\n",
       "      <td>0.0</td>\n",
       "      <td>0.0</td>\n",
       "      <td>0.0</td>\n",
       "      <td>0.0</td>\n",
       "      <td>...</td>\n",
       "      <td>0.0</td>\n",
       "      <td>0.0</td>\n",
       "      <td>0.0</td>\n",
       "      <td>0.0</td>\n",
       "      <td>0.0</td>\n",
       "      <td>0.0</td>\n",
       "      <td>0.0</td>\n",
       "      <td>0.0</td>\n",
       "      <td>0.0</td>\n",
       "      <td>0.0</td>\n",
       "    </tr>\n",
       "  </tbody>\n",
       "</table>\n",
       "<p>5 rows × 10000 columns</p>\n",
       "</div>"
      ],
      "text/plain": [
       "song_id  SOAAAGQ12A8C1420C8  SOAACPJ12A81C21360  SOAACSG12AB018DC80  \\\n",
       "0                       0.0                 0.0                 0.0   \n",
       "1                       0.0                 0.0                 0.0   \n",
       "2                       0.0                 0.0                 0.0   \n",
       "3                       0.0                 0.0                 0.0   \n",
       "4                       0.0                 0.0                 0.0   \n",
       "\n",
       "song_id  SOAAEJI12AB0188AB5  SOAAFAC12A67ADF7EB  SOAAFYH12A8C13717A  \\\n",
       "0                       0.0                 0.0                 0.0   \n",
       "1                       0.0                 0.0                 0.0   \n",
       "2                       0.0                 0.0                 0.0   \n",
       "3                       0.0                 0.0                 0.0   \n",
       "4                       0.0                 0.0                 0.0   \n",
       "\n",
       "song_id  SOAAJMQ12A6D4F7D17  SOAAKPM12A58A77210  SOAALWN12A6D4F7FDA  \\\n",
       "0                       0.0                 0.0                 0.0   \n",
       "1                       0.0                 0.0                 0.0   \n",
       "2                       0.0                 0.0                 0.0   \n",
       "3                       0.0                 0.0                 0.0   \n",
       "4                       0.0                 0.0                 0.0   \n",
       "\n",
       "song_id  SOAAMOW12AB018149B         ...          SOZZKPR12A6D4F8147  \\\n",
       "0                       0.0         ...                         0.0   \n",
       "1                       0.0         ...                         0.0   \n",
       "2                       0.0         ...                         0.0   \n",
       "3                       0.0         ...                         0.0   \n",
       "4                       0.0         ...                         0.0   \n",
       "\n",
       "song_id  SOZZLTY12A67AE0AD0  SOZZLZN12A8AE48D6D  SOZZRHE12A6702165F  \\\n",
       "0                       0.0                 0.0                 0.0   \n",
       "1                       0.0                 0.0                 0.0   \n",
       "2                       0.0                 0.0                 0.0   \n",
       "3                       0.0                 0.0                 0.0   \n",
       "4                       0.0                 0.0                 0.0   \n",
       "\n",
       "song_id  SOZZTCU12AB0182C58  SOZZTNF12A8C139916  SOZZVWB12AB0189C30  \\\n",
       "0                       0.0                 0.0                 0.0   \n",
       "1                       0.0                 0.0                 0.0   \n",
       "2                       0.0                 0.0                 0.0   \n",
       "3                       0.0                 0.0                 0.0   \n",
       "4                       0.0                 0.0                 0.0   \n",
       "\n",
       "song_id  SOZZWZV12A67AE140F  SOZZYAO12A6701FF36  SOZZZPV12A8C1444B5  \n",
       "0                       0.0                 0.0                 0.0  \n",
       "1                       0.0                 0.0                 0.0  \n",
       "2                       0.0                 0.0                 0.0  \n",
       "3                       0.0                 0.0                 0.0  \n",
       "4                       0.0                 0.0                 0.0  \n",
       "\n",
       "[5 rows x 10000 columns]"
      ]
     },
     "execution_count": 16,
     "metadata": {},
     "output_type": "execute_result"
    }
   ],
   "source": [
    "song_pivot.head(5)"
   ]
  },
  {
   "cell_type": "code",
   "execution_count": 17,
   "metadata": {
    "collapsed": false
   },
   "outputs": [],
   "source": [
    "kneighbors=kmodel.kneighbors(song_pivot.ix[1].values.reshape(1, -1))"
   ]
  },
  {
   "cell_type": "code",
   "execution_count": 18,
   "metadata": {
    "collapsed": false
   },
   "outputs": [
    {
     "name": "stdout",
     "output_type": "stream",
     "text": [
      "(array([[  2.22044605e-16,   3.16869949e-01,   4.47842370e-01,\n",
      "          5.00000000e-01,   6.37857016e-01,   6.51257084e-01,\n",
      "          6.62836282e-01,   6.66666667e-01,   6.72185764e-01,\n",
      "          6.78366240e-01,   6.84550163e-01,   6.88195218e-01,\n",
      "          7.05825797e-01,   7.25913042e-01,   7.29166667e-01,\n",
      "          7.32028900e-01,   7.37199835e-01,   7.46416755e-01,\n",
      "          7.73544593e-01,   7.73866492e-01]]), array([[    1, 38931, 60477, 41873, 65646, 33107, 16998, 49361,  7506,\n",
      "        59869, 45327, 49752, 35205, 37806, 19504, 36494, 41770, 36358,\n",
      "         1981, 28473]])) [[    1 38931 60477 41873 65646 33107 16998 49361  7506 59869 45327 49752\n",
      "  35205 37806 19504 36494 41770 36358  1981 28473]]\n"
     ]
    }
   ],
   "source": [
    "print(kneighbors,kneighbors[1])"
   ]
  },
  {
   "cell_type": "code",
   "execution_count": 19,
   "metadata": {
    "collapsed": true
   },
   "outputs": [],
   "source": [
    "User_Index=kneighbors[1][0]"
   ]
  },
  {
   "cell_type": "markdown",
   "metadata": {},
   "source": [
    "### Now we have a list of indexes of the users that are similar to the user we want to recommend the songs. We will find out who are they and what songs do they like to listen. After that, we can create a list with the songs we want to recommend.\n"
   ]
  },
  {
   "cell_type": "code",
   "execution_count": 20,
   "metadata": {
    "collapsed": true
   },
   "outputs": [],
   "source": [
    "All_user=song['user_id'].unique()\n",
    "Others=User_Index[1:]\n",
    "Relevant_user=All_user[Others]"
   ]
  },
  {
   "cell_type": "code",
   "execution_count": 67,
   "metadata": {
    "collapsed": false
   },
   "outputs": [
    {
     "data": {
      "text/plain": [
       "numpy.ndarray"
      ]
     },
     "execution_count": 67,
     "metadata": {},
     "output_type": "execute_result"
    }
   ],
   "source": [
    "type(Relevant_user)"
   ]
  },
  {
   "cell_type": "code",
   "execution_count": 21,
   "metadata": {
    "collapsed": false
   },
   "outputs": [
    {
     "data": {
      "text/html": [
       "<div>\n",
       "<table border=\"1\" class=\"dataframe\">\n",
       "  <thead>\n",
       "    <tr style=\"text-align: right;\">\n",
       "      <th></th>\n",
       "      <th>user_id</th>\n",
       "      <th>song_id</th>\n",
       "      <th>listen_count</th>\n",
       "      <th>title</th>\n",
       "      <th>artist</th>\n",
       "      <th>song</th>\n",
       "    </tr>\n",
       "  </thead>\n",
       "  <tbody>\n",
       "    <tr>\n",
       "      <th>33481</th>\n",
       "      <td>09aa560703dff8a927955ac96b947577380807f8</td>\n",
       "      <td>SOILROA12A6D4FD0D7</td>\n",
       "      <td>3</td>\n",
       "      <td>Through The Fire And Flames (Album Version)</td>\n",
       "      <td>Dragonforce</td>\n",
       "      <td>Through The Fire And Flames (Album Version) - ...</td>\n",
       "    </tr>\n",
       "    <tr>\n",
       "      <th>33482</th>\n",
       "      <td>09aa560703dff8a927955ac96b947577380807f8</td>\n",
       "      <td>SOLXXZI12A8AE4733A</td>\n",
       "      <td>1</td>\n",
       "      <td>Helena (So Long &amp; Goodnight) (Album Version)</td>\n",
       "      <td>My Chemical Romance</td>\n",
       "      <td>Helena (So Long &amp; Goodnight) (Album Version) -...</td>\n",
       "    </tr>\n",
       "    <tr>\n",
       "      <th>33483</th>\n",
       "      <td>09aa560703dff8a927955ac96b947577380807f8</td>\n",
       "      <td>SOOIFDD12A8C13C468</td>\n",
       "      <td>1</td>\n",
       "      <td>Monsters (Album Version)</td>\n",
       "      <td>Matchbook Romance</td>\n",
       "      <td>Monsters (Album Version) - Matchbook Romance</td>\n",
       "    </tr>\n",
       "    <tr>\n",
       "      <th>33484</th>\n",
       "      <td>09aa560703dff8a927955ac96b947577380807f8</td>\n",
       "      <td>SOOXMSN12A58A7A8D3</td>\n",
       "      <td>1</td>\n",
       "      <td>To The End (Album Version)</td>\n",
       "      <td>My Chemical Romance</td>\n",
       "      <td>To The End (Album Version) - My Chemical Romance</td>\n",
       "    </tr>\n",
       "    <tr>\n",
       "      <th>33485</th>\n",
       "      <td>09aa560703dff8a927955ac96b947577380807f8</td>\n",
       "      <td>SOPKPSQ12A58A7A5E4</td>\n",
       "      <td>3</td>\n",
       "      <td>I\\'m Not Okay (I Promise) (Live From Sessions@...</td>\n",
       "      <td>My Chemical Romance</td>\n",
       "      <td>I\\'m Not Okay (I Promise) (Live From Sessions@...</td>\n",
       "    </tr>\n",
       "    <tr>\n",
       "      <th>33486</th>\n",
       "      <td>09aa560703dff8a927955ac96b947577380807f8</td>\n",
       "      <td>SOYKDHZ12A58A7D5F6</td>\n",
       "      <td>2</td>\n",
       "      <td>Hang \\'Em High (Album Version)</td>\n",
       "      <td>My Chemical Romance</td>\n",
       "      <td>Hang \\'Em High (Album Version) - My Chemical R...</td>\n",
       "    </tr>\n",
       "    <tr>\n",
       "      <th>127421</th>\n",
       "      <td>463391549fca88cbd7bc01eae69d5f2955c689d8</td>\n",
       "      <td>SOAFTRR12AF72A8D4D</td>\n",
       "      <td>2</td>\n",
       "      <td>Harder Better Faster Stronger</td>\n",
       "      <td>Daft Punk</td>\n",
       "      <td>Harder Better Faster Stronger - Daft Punk</td>\n",
       "    </tr>\n",
       "    <tr>\n",
       "      <th>127422</th>\n",
       "      <td>463391549fca88cbd7bc01eae69d5f2955c689d8</td>\n",
       "      <td>SOAUWYT12A81C206F1</td>\n",
       "      <td>1</td>\n",
       "      <td>Undo</td>\n",
       "      <td>Björk</td>\n",
       "      <td>Undo - Björk</td>\n",
       "    </tr>\n",
       "    <tr>\n",
       "      <th>127423</th>\n",
       "      <td>463391549fca88cbd7bc01eae69d5f2955c689d8</td>\n",
       "      <td>SOBONKR12A58A7A7E0</td>\n",
       "      <td>1</td>\n",
       "      <td>You\\'re The One</td>\n",
       "      <td>Dwight Yoakam</td>\n",
       "      <td>You\\'re The One - Dwight Yoakam</td>\n",
       "    </tr>\n",
       "    <tr>\n",
       "      <th>127424</th>\n",
       "      <td>463391549fca88cbd7bc01eae69d5f2955c689d8</td>\n",
       "      <td>SOCKSGZ12A58A7CA4B</td>\n",
       "      <td>2</td>\n",
       "      <td>Bleed It Out [Live At Milton Keynes]</td>\n",
       "      <td>Linkin Park</td>\n",
       "      <td>Bleed It Out [Live At Milton Keynes] - Linkin ...</td>\n",
       "    </tr>\n",
       "    <tr>\n",
       "      <th>127425</th>\n",
       "      <td>463391549fca88cbd7bc01eae69d5f2955c689d8</td>\n",
       "      <td>SODJWHY12A8C142CCE</td>\n",
       "      <td>4</td>\n",
       "      <td>Hey_ Soul Sister</td>\n",
       "      <td>Train</td>\n",
       "      <td>Hey_ Soul Sister - Train</td>\n",
       "    </tr>\n",
       "    <tr>\n",
       "      <th>127426</th>\n",
       "      <td>463391549fca88cbd7bc01eae69d5f2955c689d8</td>\n",
       "      <td>SOEHWGF12A6D4F8B2B</td>\n",
       "      <td>2</td>\n",
       "      <td>Hips Don\\'t Lie</td>\n",
       "      <td>Shakira ft. Wyclef Jean</td>\n",
       "      <td>Hips Don\\'t Lie - Shakira ft. Wyclef Jean</td>\n",
       "    </tr>\n",
       "    <tr>\n",
       "      <th>127427</th>\n",
       "      <td>463391549fca88cbd7bc01eae69d5f2955c689d8</td>\n",
       "      <td>SOFKABN12A8AE476C6</td>\n",
       "      <td>2</td>\n",
       "      <td>Just Dance</td>\n",
       "      <td>Lady GaGa / Colby O\\'Donis</td>\n",
       "      <td>Just Dance - Lady GaGa / Colby O\\'Donis</td>\n",
       "    </tr>\n",
       "    <tr>\n",
       "      <th>127428</th>\n",
       "      <td>463391549fca88cbd7bc01eae69d5f2955c689d8</td>\n",
       "      <td>SOFLJQZ12A6D4FADA6</td>\n",
       "      <td>1</td>\n",
       "      <td>Tive Sim</td>\n",
       "      <td>Cartola</td>\n",
       "      <td>Tive Sim - Cartola</td>\n",
       "    </tr>\n",
       "    <tr>\n",
       "      <th>127429</th>\n",
       "      <td>463391549fca88cbd7bc01eae69d5f2955c689d8</td>\n",
       "      <td>SOGPBAW12A6D4F9F22</td>\n",
       "      <td>4</td>\n",
       "      <td>Livin\\' On A Prayer</td>\n",
       "      <td>Bon Jovi</td>\n",
       "      <td>Livin\\' On A Prayer - Bon Jovi</td>\n",
       "    </tr>\n",
       "    <tr>\n",
       "      <th>127430</th>\n",
       "      <td>463391549fca88cbd7bc01eae69d5f2955c689d8</td>\n",
       "      <td>SOHDSHF12A8C137530</td>\n",
       "      <td>1</td>\n",
       "      <td>Sitting</td>\n",
       "      <td>Cat Stevens</td>\n",
       "      <td>Sitting - Cat Stevens</td>\n",
       "    </tr>\n",
       "    <tr>\n",
       "      <th>127431</th>\n",
       "      <td>463391549fca88cbd7bc01eae69d5f2955c689d8</td>\n",
       "      <td>SOLCKAS12A8C14242A</td>\n",
       "      <td>2</td>\n",
       "      <td>Eye Of The Tiger</td>\n",
       "      <td>Survivor</td>\n",
       "      <td>Eye Of The Tiger - Survivor</td>\n",
       "    </tr>\n",
       "    <tr>\n",
       "      <th>127432</th>\n",
       "      <td>463391549fca88cbd7bc01eae69d5f2955c689d8</td>\n",
       "      <td>SOLLNTU12A6701CFDC</td>\n",
       "      <td>1</td>\n",
       "      <td>Kryptonite</td>\n",
       "      <td>3 Doors Down</td>\n",
       "      <td>Kryptonite - 3 Doors Down</td>\n",
       "    </tr>\n",
       "    <tr>\n",
       "      <th>127433</th>\n",
       "      <td>463391549fca88cbd7bc01eae69d5f2955c689d8</td>\n",
       "      <td>SOLRGNF12AB0187CF4</td>\n",
       "      <td>1</td>\n",
       "      <td>Sample Track 2</td>\n",
       "      <td>Simon Harris</td>\n",
       "      <td>Sample Track 2 - Simon Harris</td>\n",
       "    </tr>\n",
       "    <tr>\n",
       "      <th>127434</th>\n",
       "      <td>463391549fca88cbd7bc01eae69d5f2955c689d8</td>\n",
       "      <td>SOLRGVL12A8C143BC3</td>\n",
       "      <td>2</td>\n",
       "      <td>Bulletproof</td>\n",
       "      <td>La Roux</td>\n",
       "      <td>Bulletproof - La Roux</td>\n",
       "    </tr>\n",
       "    <tr>\n",
       "      <th>127435</th>\n",
       "      <td>463391549fca88cbd7bc01eae69d5f2955c689d8</td>\n",
       "      <td>SORWLTW12A670208FA</td>\n",
       "      <td>2</td>\n",
       "      <td>The Middle</td>\n",
       "      <td>Jimmy Eat World</td>\n",
       "      <td>The Middle - Jimmy Eat World</td>\n",
       "    </tr>\n",
       "    <tr>\n",
       "      <th>127436</th>\n",
       "      <td>463391549fca88cbd7bc01eae69d5f2955c689d8</td>\n",
       "      <td>SOSXLTC12AF72A7F54</td>\n",
       "      <td>1</td>\n",
       "      <td>Revelry</td>\n",
       "      <td>Kings Of Leon</td>\n",
       "      <td>Revelry - Kings Of Leon</td>\n",
       "    </tr>\n",
       "    <tr>\n",
       "      <th>127437</th>\n",
       "      <td>463391549fca88cbd7bc01eae69d5f2955c689d8</td>\n",
       "      <td>SOUSMXX12AB0185C24</td>\n",
       "      <td>1</td>\n",
       "      <td>OMG</td>\n",
       "      <td>Usher featuring will.i.am</td>\n",
       "      <td>OMG - Usher featuring will.i.am</td>\n",
       "    </tr>\n",
       "    <tr>\n",
       "      <th>127438</th>\n",
       "      <td>463391549fca88cbd7bc01eae69d5f2955c689d8</td>\n",
       "      <td>SOUSZSW12AB01800C2</td>\n",
       "      <td>4</td>\n",
       "      <td>Toxic</td>\n",
       "      <td>Britney Spears</td>\n",
       "      <td>Toxic - Britney Spears</td>\n",
       "    </tr>\n",
       "    <tr>\n",
       "      <th>127439</th>\n",
       "      <td>463391549fca88cbd7bc01eae69d5f2955c689d8</td>\n",
       "      <td>SOUVTSM12AC468F6A7</td>\n",
       "      <td>1</td>\n",
       "      <td>Drop The World</td>\n",
       "      <td>Lil Wayne / Eminem</td>\n",
       "      <td>Drop The World - Lil Wayne / Eminem</td>\n",
       "    </tr>\n",
       "    <tr>\n",
       "      <th>127440</th>\n",
       "      <td>463391549fca88cbd7bc01eae69d5f2955c689d8</td>\n",
       "      <td>SOVWADY12AB0189C63</td>\n",
       "      <td>1</td>\n",
       "      <td>Party In The U.S.A.</td>\n",
       "      <td>Miley Cyrus</td>\n",
       "      <td>Party In The U.S.A. - Miley Cyrus</td>\n",
       "    </tr>\n",
       "    <tr>\n",
       "      <th>127441</th>\n",
       "      <td>463391549fca88cbd7bc01eae69d5f2955c689d8</td>\n",
       "      <td>SOWCKVR12A8C142411</td>\n",
       "      <td>1</td>\n",
       "      <td>Use Somebody</td>\n",
       "      <td>Kings Of Leon</td>\n",
       "      <td>Use Somebody - Kings Of Leon</td>\n",
       "    </tr>\n",
       "    <tr>\n",
       "      <th>127442</th>\n",
       "      <td>463391549fca88cbd7bc01eae69d5f2955c689d8</td>\n",
       "      <td>SOXFPND12AB017C9D1</td>\n",
       "      <td>2</td>\n",
       "      <td>I Gotta Feeling</td>\n",
       "      <td>Black Eyed Peas</td>\n",
       "      <td>I Gotta Feeling - Black Eyed Peas</td>\n",
       "    </tr>\n",
       "    <tr>\n",
       "      <th>286078</th>\n",
       "      <td>785aff1daa84ae5ed02d3466d35d61c60f7a2b13</td>\n",
       "      <td>SOBTOGN12A6310F927</td>\n",
       "      <td>1</td>\n",
       "      <td>One Of These Things First</td>\n",
       "      <td>Nick Drake</td>\n",
       "      <td>One Of These Things First - Nick Drake</td>\n",
       "    </tr>\n",
       "    <tr>\n",
       "      <th>286079</th>\n",
       "      <td>785aff1daa84ae5ed02d3466d35d61c60f7a2b13</td>\n",
       "      <td>SOECJYO12AB017F15D</td>\n",
       "      <td>1</td>\n",
       "      <td>Roxanne</td>\n",
       "      <td>Sting</td>\n",
       "      <td>Roxanne - Sting</td>\n",
       "    </tr>\n",
       "    <tr>\n",
       "      <th>...</th>\n",
       "      <td>...</td>\n",
       "      <td>...</td>\n",
       "      <td>...</td>\n",
       "      <td>...</td>\n",
       "      <td>...</td>\n",
       "      <td>...</td>\n",
       "    </tr>\n",
       "    <tr>\n",
       "      <th>1015904</th>\n",
       "      <td>67c9b3c394d957a6d5b9aad706d6d1274bd079a7</td>\n",
       "      <td>SOKJKUJ12AF72A3618</td>\n",
       "      <td>6</td>\n",
       "      <td>Zopf: Pigtail</td>\n",
       "      <td>Penguin Café Orchestra</td>\n",
       "      <td>Zopf: Pigtail - Penguin Café Orchestra</td>\n",
       "    </tr>\n",
       "    <tr>\n",
       "      <th>1015905</th>\n",
       "      <td>67c9b3c394d957a6d5b9aad706d6d1274bd079a7</td>\n",
       "      <td>SOLCHRP12AC468D757</td>\n",
       "      <td>2</td>\n",
       "      <td>Early Birdie</td>\n",
       "      <td>Owl City</td>\n",
       "      <td>Early Birdie - Owl City</td>\n",
       "    </tr>\n",
       "    <tr>\n",
       "      <th>1015906</th>\n",
       "      <td>67c9b3c394d957a6d5b9aad706d6d1274bd079a7</td>\n",
       "      <td>SOLFXKT12AB017E3E0</td>\n",
       "      <td>1</td>\n",
       "      <td>Fireflies</td>\n",
       "      <td>Charttraxx Karaoke</td>\n",
       "      <td>Fireflies - Charttraxx Karaoke</td>\n",
       "    </tr>\n",
       "    <tr>\n",
       "      <th>1015907</th>\n",
       "      <td>67c9b3c394d957a6d5b9aad706d6d1274bd079a7</td>\n",
       "      <td>SOLNUGZ12AB0182B11</td>\n",
       "      <td>1</td>\n",
       "      <td>The Tip Of The Iceberg</td>\n",
       "      <td>Owl City</td>\n",
       "      <td>The Tip Of The Iceberg - Owl City</td>\n",
       "    </tr>\n",
       "    <tr>\n",
       "      <th>1015908</th>\n",
       "      <td>67c9b3c394d957a6d5b9aad706d6d1274bd079a7</td>\n",
       "      <td>SONENIO12AB017DBDC</td>\n",
       "      <td>5</td>\n",
       "      <td>The Once Lost Returns</td>\n",
       "      <td>Jules Shear</td>\n",
       "      <td>The Once Lost Returns - Jules Shear</td>\n",
       "    </tr>\n",
       "    <tr>\n",
       "      <th>1015909</th>\n",
       "      <td>67c9b3c394d957a6d5b9aad706d6d1274bd079a7</td>\n",
       "      <td>SONETQG12AF72A16FF</td>\n",
       "      <td>3</td>\n",
       "      <td>Give It Back</td>\n",
       "      <td>Polly Paulusma</td>\n",
       "      <td>Give It Back - Polly Paulusma</td>\n",
       "    </tr>\n",
       "    <tr>\n",
       "      <th>1015910</th>\n",
       "      <td>67c9b3c394d957a6d5b9aad706d6d1274bd079a7</td>\n",
       "      <td>SONHLJN12A81C2169B</td>\n",
       "      <td>1</td>\n",
       "      <td>Orange Trägt Nur Die Müllabfuhr (Go West)</td>\n",
       "      <td>Mickie Krause</td>\n",
       "      <td>Orange Trägt Nur Die Müllabfuhr (Go West) - Mi...</td>\n",
       "    </tr>\n",
       "    <tr>\n",
       "      <th>1015911</th>\n",
       "      <td>67c9b3c394d957a6d5b9aad706d6d1274bd079a7</td>\n",
       "      <td>SONPGGS12AB0183AD2</td>\n",
       "      <td>3</td>\n",
       "      <td>Captains and Cruise Ships</td>\n",
       "      <td>Owl City</td>\n",
       "      <td>Captains and Cruise Ships - Owl City</td>\n",
       "    </tr>\n",
       "    <tr>\n",
       "      <th>1015912</th>\n",
       "      <td>67c9b3c394d957a6d5b9aad706d6d1274bd079a7</td>\n",
       "      <td>SOOHOAE12AF729D88B</td>\n",
       "      <td>2</td>\n",
       "      <td>Find You Waiting</td>\n",
       "      <td>DecembeRadio</td>\n",
       "      <td>Find You Waiting - DecembeRadio</td>\n",
       "    </tr>\n",
       "    <tr>\n",
       "      <th>1015913</th>\n",
       "      <td>67c9b3c394d957a6d5b9aad706d6d1274bd079a7</td>\n",
       "      <td>SOQLHST12AB0184A27</td>\n",
       "      <td>2</td>\n",
       "      <td>Meteor Shower</td>\n",
       "      <td>Owl City</td>\n",
       "      <td>Meteor Shower - Owl City</td>\n",
       "    </tr>\n",
       "    <tr>\n",
       "      <th>1015914</th>\n",
       "      <td>67c9b3c394d957a6d5b9aad706d6d1274bd079a7</td>\n",
       "      <td>SORCTZI12A6D4F7B13</td>\n",
       "      <td>1</td>\n",
       "      <td>I\\'m Goin\\' Away</td>\n",
       "      <td>Graham Coxon</td>\n",
       "      <td>I\\'m Goin\\' Away - Graham Coxon</td>\n",
       "    </tr>\n",
       "    <tr>\n",
       "      <th>1015915</th>\n",
       "      <td>67c9b3c394d957a6d5b9aad706d6d1274bd079a7</td>\n",
       "      <td>SOSIKDP12A58A799D2</td>\n",
       "      <td>3</td>\n",
       "      <td>Umbrella Beach</td>\n",
       "      <td>Owl City</td>\n",
       "      <td>Umbrella Beach - Owl City</td>\n",
       "    </tr>\n",
       "    <tr>\n",
       "      <th>1015916</th>\n",
       "      <td>67c9b3c394d957a6d5b9aad706d6d1274bd079a7</td>\n",
       "      <td>SOSSNRI12AB0182B1A</td>\n",
       "      <td>2</td>\n",
       "      <td>Tidal Wave</td>\n",
       "      <td>Owl City</td>\n",
       "      <td>Tidal Wave - Owl City</td>\n",
       "    </tr>\n",
       "    <tr>\n",
       "      <th>1015917</th>\n",
       "      <td>67c9b3c394d957a6d5b9aad706d6d1274bd079a7</td>\n",
       "      <td>SOTFNJM12AB01816B4</td>\n",
       "      <td>2</td>\n",
       "      <td>The Technicolor Phase</td>\n",
       "      <td>Owl City</td>\n",
       "      <td>The Technicolor Phase - Owl City</td>\n",
       "    </tr>\n",
       "    <tr>\n",
       "      <th>1015918</th>\n",
       "      <td>67c9b3c394d957a6d5b9aad706d6d1274bd079a7</td>\n",
       "      <td>SOURSJX12A58A77C1E</td>\n",
       "      <td>1</td>\n",
       "      <td>Pills Drunk Daddy</td>\n",
       "      <td>Kyle Cease</td>\n",
       "      <td>Pills Drunk Daddy - Kyle Cease</td>\n",
       "    </tr>\n",
       "    <tr>\n",
       "      <th>1015919</th>\n",
       "      <td>67c9b3c394d957a6d5b9aad706d6d1274bd079a7</td>\n",
       "      <td>SOWHUXB12AB01816EE</td>\n",
       "      <td>3</td>\n",
       "      <td>This Is The Future</td>\n",
       "      <td>Owl City</td>\n",
       "      <td>This Is The Future - Owl City</td>\n",
       "    </tr>\n",
       "    <tr>\n",
       "      <th>1015920</th>\n",
       "      <td>67c9b3c394d957a6d5b9aad706d6d1274bd079a7</td>\n",
       "      <td>SOXCBEF12A8C146AFE</td>\n",
       "      <td>2</td>\n",
       "      <td>Itchy Feet</td>\n",
       "      <td>Leggo Beast</td>\n",
       "      <td>Itchy Feet - Leggo Beast</td>\n",
       "    </tr>\n",
       "    <tr>\n",
       "      <th>1015921</th>\n",
       "      <td>67c9b3c394d957a6d5b9aad706d6d1274bd079a7</td>\n",
       "      <td>SOXWEPM12AB0181694</td>\n",
       "      <td>4</td>\n",
       "      <td>Super Honeymoon</td>\n",
       "      <td>Owl City</td>\n",
       "      <td>Super Honeymoon - Owl City</td>\n",
       "    </tr>\n",
       "    <tr>\n",
       "      <th>1015922</th>\n",
       "      <td>67c9b3c394d957a6d5b9aad706d6d1274bd079a7</td>\n",
       "      <td>SOYIGCO12AB01816DD</td>\n",
       "      <td>1</td>\n",
       "      <td>Dear Vienna</td>\n",
       "      <td>Owl City</td>\n",
       "      <td>Dear Vienna - Owl City</td>\n",
       "    </tr>\n",
       "    <tr>\n",
       "      <th>1104241</th>\n",
       "      <td>f9fedbb2f86680b5b2b532f0da31ae7b23b7066f</td>\n",
       "      <td>SOARUPP12AB01842E0</td>\n",
       "      <td>4</td>\n",
       "      <td>Up Up &amp; Away</td>\n",
       "      <td>Kid Cudi</td>\n",
       "      <td>Up Up &amp; Away - Kid Cudi</td>\n",
       "    </tr>\n",
       "    <tr>\n",
       "      <th>1104242</th>\n",
       "      <td>f9fedbb2f86680b5b2b532f0da31ae7b23b7066f</td>\n",
       "      <td>SOASTSF12A8C1420B5</td>\n",
       "      <td>1</td>\n",
       "      <td>Welk</td>\n",
       "      <td>Bohren &amp; Der Club Of Gore</td>\n",
       "      <td>Welk - Bohren &amp; Der Club Of Gore</td>\n",
       "    </tr>\n",
       "    <tr>\n",
       "      <th>1104243</th>\n",
       "      <td>f9fedbb2f86680b5b2b532f0da31ae7b23b7066f</td>\n",
       "      <td>SOAUWYT12A81C206F1</td>\n",
       "      <td>4</td>\n",
       "      <td>Undo</td>\n",
       "      <td>Björk</td>\n",
       "      <td>Undo - Björk</td>\n",
       "    </tr>\n",
       "    <tr>\n",
       "      <th>1104244</th>\n",
       "      <td>f9fedbb2f86680b5b2b532f0da31ae7b23b7066f</td>\n",
       "      <td>SODGVGW12AC9075A8D</td>\n",
       "      <td>14</td>\n",
       "      <td>Somebody To Love</td>\n",
       "      <td>Justin Bieber</td>\n",
       "      <td>Somebody To Love - Justin Bieber</td>\n",
       "    </tr>\n",
       "    <tr>\n",
       "      <th>1104245</th>\n",
       "      <td>f9fedbb2f86680b5b2b532f0da31ae7b23b7066f</td>\n",
       "      <td>SOLGLUC12AB018A8FA</td>\n",
       "      <td>14</td>\n",
       "      <td>Frisch und g\\'sund</td>\n",
       "      <td>Die Mooskirchner</td>\n",
       "      <td>Frisch und g\\'sund - Die Mooskirchner</td>\n",
       "    </tr>\n",
       "    <tr>\n",
       "      <th>1104246</th>\n",
       "      <td>f9fedbb2f86680b5b2b532f0da31ae7b23b7066f</td>\n",
       "      <td>SOMCMKG12A8C1347BF</td>\n",
       "      <td>1</td>\n",
       "      <td>Le Jardin d\\'Hiver</td>\n",
       "      <td>Jacky Terrasson</td>\n",
       "      <td>Le Jardin d\\'Hiver - Jacky Terrasson</td>\n",
       "    </tr>\n",
       "    <tr>\n",
       "      <th>1104247</th>\n",
       "      <td>f9fedbb2f86680b5b2b532f0da31ae7b23b7066f</td>\n",
       "      <td>SONOMEC12A8C14541F</td>\n",
       "      <td>1</td>\n",
       "      <td>Schwarze Biene (Black Maja)</td>\n",
       "      <td>Bohren &amp; Der Club Of Gore</td>\n",
       "      <td>Schwarze Biene (Black Maja) - Bohren &amp; Der Clu...</td>\n",
       "    </tr>\n",
       "    <tr>\n",
       "      <th>1104248</th>\n",
       "      <td>f9fedbb2f86680b5b2b532f0da31ae7b23b7066f</td>\n",
       "      <td>SOOFYTN12A6D4F9B35</td>\n",
       "      <td>1</td>\n",
       "      <td>Représente</td>\n",
       "      <td>Alliance Ethnik</td>\n",
       "      <td>Représente - Alliance Ethnik</td>\n",
       "    </tr>\n",
       "    <tr>\n",
       "      <th>1104249</th>\n",
       "      <td>f9fedbb2f86680b5b2b532f0da31ae7b23b7066f</td>\n",
       "      <td>SOSXLTC12AF72A7F54</td>\n",
       "      <td>1</td>\n",
       "      <td>Revelry</td>\n",
       "      <td>Kings Of Leon</td>\n",
       "      <td>Revelry - Kings Of Leon</td>\n",
       "    </tr>\n",
       "    <tr>\n",
       "      <th>1104250</th>\n",
       "      <td>f9fedbb2f86680b5b2b532f0da31ae7b23b7066f</td>\n",
       "      <td>SOTEGWG12AB01897AC</td>\n",
       "      <td>17</td>\n",
       "      <td>Forever</td>\n",
       "      <td>Drake / Kanye West / Lil Wayne / Eminem</td>\n",
       "      <td>Forever - Drake / Kanye West / Lil Wayne / Eminem</td>\n",
       "    </tr>\n",
       "    <tr>\n",
       "      <th>1104251</th>\n",
       "      <td>f9fedbb2f86680b5b2b532f0da31ae7b23b7066f</td>\n",
       "      <td>SOXEYIE12AB0180212</td>\n",
       "      <td>23</td>\n",
       "      <td>Drop It Low</td>\n",
       "      <td>Ester Dean / Chris Brown</td>\n",
       "      <td>Drop It Low - Ester Dean / Chris Brown</td>\n",
       "    </tr>\n",
       "  </tbody>\n",
       "</table>\n",
       "<p>365 rows × 6 columns</p>\n",
       "</div>"
      ],
      "text/plain": [
       "                                          user_id             song_id  \\\n",
       "33481    09aa560703dff8a927955ac96b947577380807f8  SOILROA12A6D4FD0D7   \n",
       "33482    09aa560703dff8a927955ac96b947577380807f8  SOLXXZI12A8AE4733A   \n",
       "33483    09aa560703dff8a927955ac96b947577380807f8  SOOIFDD12A8C13C468   \n",
       "33484    09aa560703dff8a927955ac96b947577380807f8  SOOXMSN12A58A7A8D3   \n",
       "33485    09aa560703dff8a927955ac96b947577380807f8  SOPKPSQ12A58A7A5E4   \n",
       "33486    09aa560703dff8a927955ac96b947577380807f8  SOYKDHZ12A58A7D5F6   \n",
       "127421   463391549fca88cbd7bc01eae69d5f2955c689d8  SOAFTRR12AF72A8D4D   \n",
       "127422   463391549fca88cbd7bc01eae69d5f2955c689d8  SOAUWYT12A81C206F1   \n",
       "127423   463391549fca88cbd7bc01eae69d5f2955c689d8  SOBONKR12A58A7A7E0   \n",
       "127424   463391549fca88cbd7bc01eae69d5f2955c689d8  SOCKSGZ12A58A7CA4B   \n",
       "127425   463391549fca88cbd7bc01eae69d5f2955c689d8  SODJWHY12A8C142CCE   \n",
       "127426   463391549fca88cbd7bc01eae69d5f2955c689d8  SOEHWGF12A6D4F8B2B   \n",
       "127427   463391549fca88cbd7bc01eae69d5f2955c689d8  SOFKABN12A8AE476C6   \n",
       "127428   463391549fca88cbd7bc01eae69d5f2955c689d8  SOFLJQZ12A6D4FADA6   \n",
       "127429   463391549fca88cbd7bc01eae69d5f2955c689d8  SOGPBAW12A6D4F9F22   \n",
       "127430   463391549fca88cbd7bc01eae69d5f2955c689d8  SOHDSHF12A8C137530   \n",
       "127431   463391549fca88cbd7bc01eae69d5f2955c689d8  SOLCKAS12A8C14242A   \n",
       "127432   463391549fca88cbd7bc01eae69d5f2955c689d8  SOLLNTU12A6701CFDC   \n",
       "127433   463391549fca88cbd7bc01eae69d5f2955c689d8  SOLRGNF12AB0187CF4   \n",
       "127434   463391549fca88cbd7bc01eae69d5f2955c689d8  SOLRGVL12A8C143BC3   \n",
       "127435   463391549fca88cbd7bc01eae69d5f2955c689d8  SORWLTW12A670208FA   \n",
       "127436   463391549fca88cbd7bc01eae69d5f2955c689d8  SOSXLTC12AF72A7F54   \n",
       "127437   463391549fca88cbd7bc01eae69d5f2955c689d8  SOUSMXX12AB0185C24   \n",
       "127438   463391549fca88cbd7bc01eae69d5f2955c689d8  SOUSZSW12AB01800C2   \n",
       "127439   463391549fca88cbd7bc01eae69d5f2955c689d8  SOUVTSM12AC468F6A7   \n",
       "127440   463391549fca88cbd7bc01eae69d5f2955c689d8  SOVWADY12AB0189C63   \n",
       "127441   463391549fca88cbd7bc01eae69d5f2955c689d8  SOWCKVR12A8C142411   \n",
       "127442   463391549fca88cbd7bc01eae69d5f2955c689d8  SOXFPND12AB017C9D1   \n",
       "286078   785aff1daa84ae5ed02d3466d35d61c60f7a2b13  SOBTOGN12A6310F927   \n",
       "286079   785aff1daa84ae5ed02d3466d35d61c60f7a2b13  SOECJYO12AB017F15D   \n",
       "...                                           ...                 ...   \n",
       "1015904  67c9b3c394d957a6d5b9aad706d6d1274bd079a7  SOKJKUJ12AF72A3618   \n",
       "1015905  67c9b3c394d957a6d5b9aad706d6d1274bd079a7  SOLCHRP12AC468D757   \n",
       "1015906  67c9b3c394d957a6d5b9aad706d6d1274bd079a7  SOLFXKT12AB017E3E0   \n",
       "1015907  67c9b3c394d957a6d5b9aad706d6d1274bd079a7  SOLNUGZ12AB0182B11   \n",
       "1015908  67c9b3c394d957a6d5b9aad706d6d1274bd079a7  SONENIO12AB017DBDC   \n",
       "1015909  67c9b3c394d957a6d5b9aad706d6d1274bd079a7  SONETQG12AF72A16FF   \n",
       "1015910  67c9b3c394d957a6d5b9aad706d6d1274bd079a7  SONHLJN12A81C2169B   \n",
       "1015911  67c9b3c394d957a6d5b9aad706d6d1274bd079a7  SONPGGS12AB0183AD2   \n",
       "1015912  67c9b3c394d957a6d5b9aad706d6d1274bd079a7  SOOHOAE12AF729D88B   \n",
       "1015913  67c9b3c394d957a6d5b9aad706d6d1274bd079a7  SOQLHST12AB0184A27   \n",
       "1015914  67c9b3c394d957a6d5b9aad706d6d1274bd079a7  SORCTZI12A6D4F7B13   \n",
       "1015915  67c9b3c394d957a6d5b9aad706d6d1274bd079a7  SOSIKDP12A58A799D2   \n",
       "1015916  67c9b3c394d957a6d5b9aad706d6d1274bd079a7  SOSSNRI12AB0182B1A   \n",
       "1015917  67c9b3c394d957a6d5b9aad706d6d1274bd079a7  SOTFNJM12AB01816B4   \n",
       "1015918  67c9b3c394d957a6d5b9aad706d6d1274bd079a7  SOURSJX12A58A77C1E   \n",
       "1015919  67c9b3c394d957a6d5b9aad706d6d1274bd079a7  SOWHUXB12AB01816EE   \n",
       "1015920  67c9b3c394d957a6d5b9aad706d6d1274bd079a7  SOXCBEF12A8C146AFE   \n",
       "1015921  67c9b3c394d957a6d5b9aad706d6d1274bd079a7  SOXWEPM12AB0181694   \n",
       "1015922  67c9b3c394d957a6d5b9aad706d6d1274bd079a7  SOYIGCO12AB01816DD   \n",
       "1104241  f9fedbb2f86680b5b2b532f0da31ae7b23b7066f  SOARUPP12AB01842E0   \n",
       "1104242  f9fedbb2f86680b5b2b532f0da31ae7b23b7066f  SOASTSF12A8C1420B5   \n",
       "1104243  f9fedbb2f86680b5b2b532f0da31ae7b23b7066f  SOAUWYT12A81C206F1   \n",
       "1104244  f9fedbb2f86680b5b2b532f0da31ae7b23b7066f  SODGVGW12AC9075A8D   \n",
       "1104245  f9fedbb2f86680b5b2b532f0da31ae7b23b7066f  SOLGLUC12AB018A8FA   \n",
       "1104246  f9fedbb2f86680b5b2b532f0da31ae7b23b7066f  SOMCMKG12A8C1347BF   \n",
       "1104247  f9fedbb2f86680b5b2b532f0da31ae7b23b7066f  SONOMEC12A8C14541F   \n",
       "1104248  f9fedbb2f86680b5b2b532f0da31ae7b23b7066f  SOOFYTN12A6D4F9B35   \n",
       "1104249  f9fedbb2f86680b5b2b532f0da31ae7b23b7066f  SOSXLTC12AF72A7F54   \n",
       "1104250  f9fedbb2f86680b5b2b532f0da31ae7b23b7066f  SOTEGWG12AB01897AC   \n",
       "1104251  f9fedbb2f86680b5b2b532f0da31ae7b23b7066f  SOXEYIE12AB0180212   \n",
       "\n",
       "         listen_count                                              title  \\\n",
       "33481               3        Through The Fire And Flames (Album Version)   \n",
       "33482               1       Helena (So Long & Goodnight) (Album Version)   \n",
       "33483               1                           Monsters (Album Version)   \n",
       "33484               1                         To The End (Album Version)   \n",
       "33485               3  I\\'m Not Okay (I Promise) (Live From Sessions@...   \n",
       "33486               2                     Hang \\'Em High (Album Version)   \n",
       "127421              2                      Harder Better Faster Stronger   \n",
       "127422              1                                               Undo   \n",
       "127423              1                                    You\\'re The One   \n",
       "127424              2               Bleed It Out [Live At Milton Keynes]   \n",
       "127425              4                                   Hey_ Soul Sister   \n",
       "127426              2                                    Hips Don\\'t Lie   \n",
       "127427              2                                         Just Dance   \n",
       "127428              1                                           Tive Sim   \n",
       "127429              4                                Livin\\' On A Prayer   \n",
       "127430              1                                            Sitting   \n",
       "127431              2                                   Eye Of The Tiger   \n",
       "127432              1                                         Kryptonite   \n",
       "127433              1                                     Sample Track 2   \n",
       "127434              2                                        Bulletproof   \n",
       "127435              2                                         The Middle   \n",
       "127436              1                                            Revelry   \n",
       "127437              1                                                OMG   \n",
       "127438              4                                              Toxic   \n",
       "127439              1                                     Drop The World   \n",
       "127440              1                                Party In The U.S.A.   \n",
       "127441              1                                       Use Somebody   \n",
       "127442              2                                    I Gotta Feeling   \n",
       "286078              1                          One Of These Things First   \n",
       "286079              1                                            Roxanne   \n",
       "...               ...                                                ...   \n",
       "1015904             6                                      Zopf: Pigtail   \n",
       "1015905             2                                       Early Birdie   \n",
       "1015906             1                                          Fireflies   \n",
       "1015907             1                             The Tip Of The Iceberg   \n",
       "1015908             5                              The Once Lost Returns   \n",
       "1015909             3                                       Give It Back   \n",
       "1015910             1          Orange Trägt Nur Die Müllabfuhr (Go West)   \n",
       "1015911             3                          Captains and Cruise Ships   \n",
       "1015912             2                                   Find You Waiting   \n",
       "1015913             2                                      Meteor Shower   \n",
       "1015914             1                                   I\\'m Goin\\' Away   \n",
       "1015915             3                                     Umbrella Beach   \n",
       "1015916             2                                         Tidal Wave   \n",
       "1015917             2                              The Technicolor Phase   \n",
       "1015918             1                                  Pills Drunk Daddy   \n",
       "1015919             3                                 This Is The Future   \n",
       "1015920             2                                         Itchy Feet   \n",
       "1015921             4                                    Super Honeymoon   \n",
       "1015922             1                                        Dear Vienna   \n",
       "1104241             4                                       Up Up & Away   \n",
       "1104242             1                                               Welk   \n",
       "1104243             4                                               Undo   \n",
       "1104244            14                                   Somebody To Love   \n",
       "1104245            14                                 Frisch und g\\'sund   \n",
       "1104246             1                                 Le Jardin d\\'Hiver   \n",
       "1104247             1                        Schwarze Biene (Black Maja)   \n",
       "1104248             1                                         Représente   \n",
       "1104249             1                                            Revelry   \n",
       "1104250            17                                            Forever   \n",
       "1104251            23                                        Drop It Low   \n",
       "\n",
       "                                          artist  \\\n",
       "33481                                Dragonforce   \n",
       "33482                        My Chemical Romance   \n",
       "33483                          Matchbook Romance   \n",
       "33484                        My Chemical Romance   \n",
       "33485                        My Chemical Romance   \n",
       "33486                        My Chemical Romance   \n",
       "127421                                 Daft Punk   \n",
       "127422                                     Björk   \n",
       "127423                             Dwight Yoakam   \n",
       "127424                               Linkin Park   \n",
       "127425                                     Train   \n",
       "127426                   Shakira ft. Wyclef Jean   \n",
       "127427                Lady GaGa / Colby O\\'Donis   \n",
       "127428                                   Cartola   \n",
       "127429                                  Bon Jovi   \n",
       "127430                               Cat Stevens   \n",
       "127431                                  Survivor   \n",
       "127432                              3 Doors Down   \n",
       "127433                              Simon Harris   \n",
       "127434                                   La Roux   \n",
       "127435                           Jimmy Eat World   \n",
       "127436                             Kings Of Leon   \n",
       "127437                 Usher featuring will.i.am   \n",
       "127438                            Britney Spears   \n",
       "127439                        Lil Wayne / Eminem   \n",
       "127440                               Miley Cyrus   \n",
       "127441                             Kings Of Leon   \n",
       "127442                           Black Eyed Peas   \n",
       "286078                                Nick Drake   \n",
       "286079                                     Sting   \n",
       "...                                          ...   \n",
       "1015904                   Penguin Café Orchestra   \n",
       "1015905                                 Owl City   \n",
       "1015906                       Charttraxx Karaoke   \n",
       "1015907                                 Owl City   \n",
       "1015908                              Jules Shear   \n",
       "1015909                           Polly Paulusma   \n",
       "1015910                            Mickie Krause   \n",
       "1015911                                 Owl City   \n",
       "1015912                             DecembeRadio   \n",
       "1015913                                 Owl City   \n",
       "1015914                             Graham Coxon   \n",
       "1015915                                 Owl City   \n",
       "1015916                                 Owl City   \n",
       "1015917                                 Owl City   \n",
       "1015918                               Kyle Cease   \n",
       "1015919                                 Owl City   \n",
       "1015920                              Leggo Beast   \n",
       "1015921                                 Owl City   \n",
       "1015922                                 Owl City   \n",
       "1104241                                 Kid Cudi   \n",
       "1104242                Bohren & Der Club Of Gore   \n",
       "1104243                                    Björk   \n",
       "1104244                            Justin Bieber   \n",
       "1104245                         Die Mooskirchner   \n",
       "1104246                          Jacky Terrasson   \n",
       "1104247                Bohren & Der Club Of Gore   \n",
       "1104248                          Alliance Ethnik   \n",
       "1104249                            Kings Of Leon   \n",
       "1104250  Drake / Kanye West / Lil Wayne / Eminem   \n",
       "1104251                 Ester Dean / Chris Brown   \n",
       "\n",
       "                                                      song  \n",
       "33481    Through The Fire And Flames (Album Version) - ...  \n",
       "33482    Helena (So Long & Goodnight) (Album Version) -...  \n",
       "33483         Monsters (Album Version) - Matchbook Romance  \n",
       "33484     To The End (Album Version) - My Chemical Romance  \n",
       "33485    I\\'m Not Okay (I Promise) (Live From Sessions@...  \n",
       "33486    Hang \\'Em High (Album Version) - My Chemical R...  \n",
       "127421           Harder Better Faster Stronger - Daft Punk  \n",
       "127422                                        Undo - Björk  \n",
       "127423                     You\\'re The One - Dwight Yoakam  \n",
       "127424   Bleed It Out [Live At Milton Keynes] - Linkin ...  \n",
       "127425                            Hey_ Soul Sister - Train  \n",
       "127426           Hips Don\\'t Lie - Shakira ft. Wyclef Jean  \n",
       "127427             Just Dance - Lady GaGa / Colby O\\'Donis  \n",
       "127428                                  Tive Sim - Cartola  \n",
       "127429                      Livin\\' On A Prayer - Bon Jovi  \n",
       "127430                               Sitting - Cat Stevens  \n",
       "127431                         Eye Of The Tiger - Survivor  \n",
       "127432                           Kryptonite - 3 Doors Down  \n",
       "127433                       Sample Track 2 - Simon Harris  \n",
       "127434                               Bulletproof - La Roux  \n",
       "127435                        The Middle - Jimmy Eat World  \n",
       "127436                             Revelry - Kings Of Leon  \n",
       "127437                     OMG - Usher featuring will.i.am  \n",
       "127438                              Toxic - Britney Spears  \n",
       "127439                 Drop The World - Lil Wayne / Eminem  \n",
       "127440                   Party In The U.S.A. - Miley Cyrus  \n",
       "127441                        Use Somebody - Kings Of Leon  \n",
       "127442                   I Gotta Feeling - Black Eyed Peas  \n",
       "286078              One Of These Things First - Nick Drake  \n",
       "286079                                     Roxanne - Sting  \n",
       "...                                                    ...  \n",
       "1015904             Zopf: Pigtail - Penguin Café Orchestra  \n",
       "1015905                            Early Birdie - Owl City  \n",
       "1015906                     Fireflies - Charttraxx Karaoke  \n",
       "1015907                  The Tip Of The Iceberg - Owl City  \n",
       "1015908                The Once Lost Returns - Jules Shear  \n",
       "1015909                      Give It Back - Polly Paulusma  \n",
       "1015910  Orange Trägt Nur Die Müllabfuhr (Go West) - Mi...  \n",
       "1015911               Captains and Cruise Ships - Owl City  \n",
       "1015912                    Find You Waiting - DecembeRadio  \n",
       "1015913                           Meteor Shower - Owl City  \n",
       "1015914                    I\\'m Goin\\' Away - Graham Coxon  \n",
       "1015915                          Umbrella Beach - Owl City  \n",
       "1015916                              Tidal Wave - Owl City  \n",
       "1015917                   The Technicolor Phase - Owl City  \n",
       "1015918                     Pills Drunk Daddy - Kyle Cease  \n",
       "1015919                      This Is The Future - Owl City  \n",
       "1015920                           Itchy Feet - Leggo Beast  \n",
       "1015921                         Super Honeymoon - Owl City  \n",
       "1015922                             Dear Vienna - Owl City  \n",
       "1104241                            Up Up & Away - Kid Cudi  \n",
       "1104242                   Welk - Bohren & Der Club Of Gore  \n",
       "1104243                                       Undo - Björk  \n",
       "1104244                   Somebody To Love - Justin Bieber  \n",
       "1104245              Frisch und g\\'sund - Die Mooskirchner  \n",
       "1104246               Le Jardin d\\'Hiver - Jacky Terrasson  \n",
       "1104247  Schwarze Biene (Black Maja) - Bohren & Der Clu...  \n",
       "1104248                       Représente - Alliance Ethnik  \n",
       "1104249                            Revelry - Kings Of Leon  \n",
       "1104250  Forever - Drake / Kanye West / Lil Wayne / Eminem  \n",
       "1104251             Drop It Low - Ester Dean / Chris Brown  \n",
       "\n",
       "[365 rows x 6 columns]"
      ]
     },
     "execution_count": 21,
     "metadata": {},
     "output_type": "execute_result"
    }
   ],
   "source": [
    "song_relevant=song[song['user_id'].isin(Relevant_user)]\n",
    "song_relevant"
   ]
  },
  {
   "cell_type": "code",
   "execution_count": 22,
   "metadata": {
    "collapsed": true
   },
   "outputs": [],
   "source": [
    "song_list=song_relevant.groupby('song').listen_count.sum()"
   ]
  },
  {
   "cell_type": "code",
   "execution_count": 23,
   "metadata": {
    "collapsed": false
   },
   "outputs": [],
   "source": [
    "song_list.sort_values(inplace=True)"
   ]
  },
  {
   "cell_type": "markdown",
   "metadata": {},
   "source": [
    "### The top 30 Recommended songs for the specific user\n"
   ]
  },
  {
   "cell_type": "code",
   "execution_count": 24,
   "metadata": {
    "collapsed": false
   },
   "outputs": [
    {
     "name": "stdout",
     "output_type": "stream",
     "text": [
      "song\n",
      "My Immortal (Album Version) - Evanescence                                  29\n",
      "Gypsy Woman (She\\'s Homeless) - Crystal Waters                             27\n",
      "Drop It Low - Ester Dean / Chris Brown                                     23\n",
      "Electric Avenue - Eddy Grant                                               21\n",
      "Forever - Drake / Kanye West / Lil Wayne / Eminem                          17\n",
      "Because The Night [MTV Unplugged Version] - 10_000 Maniacs                 17\n",
      "Frisch und g\\'sund - Die Mooskirchner                                      14\n",
      "Somebody To Love - Justin Bieber                                           14\n",
      "Better The Devil You Know (Showgirl Tour) - Kylie Minogue                  13\n",
      "Let Me Think About It - Ida Corr Vs Fedde Le Grand                         12\n",
      "Please Mr. Postman - Carpenters                                            12\n",
      "Pojo Pojo - Cyberfit                                                       11\n",
      "Picture U & Me - Mo B. Dick                                                11\n",
      "Party In The U.S.A. - Miley Cyrus                                          11\n",
      "Ugly Girls - Kalle Baah                                                    11\n",
      "Live And Let Die - Guns N\\' Roses                                          11\n",
      "Cats In The Cradle - Ugly Kid Joe                                          11\n",
      "Black Mission Goggles - Man Man                                            11\n",
      "Lay All Your Love On Me - Abba                                             11\n",
      "How Do You Like Me Now?! - Toby Keith                                      10\n",
      "I Don\\'t Mind - The Decemberists                                           10\n",
      "Pitiful (Radio Edit) () - Sick Puppies                                     10\n",
      "Turbulent Serenity (Instrumental) - Anne Dudley                             9\n",
      "Bottom of a Bottle (Explicit Album Version) - Smile Empty Soul              9\n",
      "All The Same - Sick Puppies                                                 9\n",
      "Peace Train - Cat Stevens                                                   8\n",
      "I Second That Emotion - Smokey Robinson & The Miracles                      8\n",
      "Intergalactic - Beastie Boys                                                8\n",
      "Fearless (250 And Dark Stars) (Exit Litghts Album Version) - Falling Up     8\n",
      "Name: listen_count, dtype: int64\n"
     ]
    }
   ],
   "source": [
    "Recommended_Song=song_list[:-30:-1]\n",
    "print (Recommended_Song)"
   ]
  },
  {
   "cell_type": "markdown",
   "metadata": {},
   "source": [
    "## B: Recommend Artists "
   ]
  },
  {
   "cell_type": "markdown",
   "metadata": {},
   "source": [
    "### Count how many times the users listen the music of artist\n"
   ]
  },
  {
   "cell_type": "code",
   "execution_count": 25,
   "metadata": {
    "collapsed": false
   },
   "outputs": [],
   "source": [
    "artist_count=song.groupby(['user_id','artist'],as_index=False).size().reset_index(name='count')"
   ]
  },
  {
   "cell_type": "code",
   "execution_count": 42,
   "metadata": {
    "collapsed": false
   },
   "outputs": [],
   "source": [
    "artist_count.sort_values(by='count',inplace=True)"
   ]
  },
  {
   "cell_type": "code",
   "execution_count": 72,
   "metadata": {
    "collapsed": false
   },
   "outputs": [
    {
     "data": {
      "text/html": [
       "<div>\n",
       "<table border=\"1\" class=\"dataframe\">\n",
       "  <thead>\n",
       "    <tr style=\"text-align: right;\">\n",
       "      <th></th>\n",
       "      <th>user_id</th>\n",
       "      <th>artist</th>\n",
       "      <th>count</th>\n",
       "    </tr>\n",
       "  </thead>\n",
       "  <tbody>\n",
       "    <tr>\n",
       "      <th>0</th>\n",
       "      <td>00003a4459f33b92906be11abe0e93efc423c0ff</td>\n",
       "      <td>Black Eyed Peas</td>\n",
       "      <td>1</td>\n",
       "    </tr>\n",
       "    <tr>\n",
       "      <th>540097</th>\n",
       "      <td>a4481c01213c866b1158f26b74a5ae5f9d536b4f</td>\n",
       "      <td>Metric</td>\n",
       "      <td>1</td>\n",
       "    </tr>\n",
       "    <tr>\n",
       "      <th>540098</th>\n",
       "      <td>a4481c01213c866b1158f26b74a5ae5f9d536b4f</td>\n",
       "      <td>Michael Bublé</td>\n",
       "      <td>1</td>\n",
       "    </tr>\n",
       "    <tr>\n",
       "      <th>540099</th>\n",
       "      <td>a4481c01213c866b1158f26b74a5ae5f9d536b4f</td>\n",
       "      <td>Miley Cyrus</td>\n",
       "      <td>1</td>\n",
       "    </tr>\n",
       "    <tr>\n",
       "      <th>540100</th>\n",
       "      <td>a4481c01213c866b1158f26b74a5ae5f9d536b4f</td>\n",
       "      <td>Nancy Sinatra</td>\n",
       "      <td>1</td>\n",
       "    </tr>\n",
       "  </tbody>\n",
       "</table>\n",
       "</div>"
      ],
      "text/plain": [
       "                                         user_id           artist  count\n",
       "0       00003a4459f33b92906be11abe0e93efc423c0ff  Black Eyed Peas      1\n",
       "540097  a4481c01213c866b1158f26b74a5ae5f9d536b4f           Metric      1\n",
       "540098  a4481c01213c866b1158f26b74a5ae5f9d536b4f    Michael Bublé      1\n",
       "540099  a4481c01213c866b1158f26b74a5ae5f9d536b4f      Miley Cyrus      1\n",
       "540100  a4481c01213c866b1158f26b74a5ae5f9d536b4f    Nancy Sinatra      1"
      ]
     },
     "execution_count": 72,
     "metadata": {},
     "output_type": "execute_result"
    }
   ],
   "source": [
    "artist_count.head()"
   ]
  },
  {
   "cell_type": "markdown",
   "metadata": {},
   "source": [
    "### Create user artists matrix "
   ]
  },
  {
   "cell_type": "code",
   "execution_count": 27,
   "metadata": {
    "collapsed": false
   },
   "outputs": [],
   "source": [
    "pivot_artist=artist_count.pivot(index='user_id',columns='artist',values='count')"
   ]
  },
  {
   "cell_type": "code",
   "execution_count": 28,
   "metadata": {
    "collapsed": true
   },
   "outputs": [],
   "source": [
    "pivot_artist=pivot_artist.fillna(0)"
   ]
  },
  {
   "cell_type": "code",
   "execution_count": 29,
   "metadata": {
    "collapsed": true
   },
   "outputs": [],
   "source": [
    "Model_artist=knn.fit(pivot_artist)"
   ]
  },
  {
   "cell_type": "markdown",
   "metadata": {},
   "source": [
    "### Try a user "
   ]
  },
  {
   "cell_type": "code",
   "execution_count": 30,
   "metadata": {
    "collapsed": false
   },
   "outputs": [],
   "source": [
    "Neighbours=Model_artist.kneighbors(pivot_artist.ix[0].values.reshape(1, -1))"
   ]
  },
  {
   "cell_type": "code",
   "execution_count": 55,
   "metadata": {
    "collapsed": false
   },
   "outputs": [
    {
     "data": {
      "text/plain": [
       "(array([[  3.33066907e-16,   4.92907447e-01,   5.99108137e-01,\n",
       "           6.22035527e-01,   6.22035527e-01,   6.22035527e-01,\n",
       "           6.22035527e-01,   6.22035527e-01,   6.29671960e-01,\n",
       "           6.32116396e-01,   6.33320601e-01,   6.41431417e-01,\n",
       "           6.55415606e-01,   6.61938298e-01,   6.61938298e-01,\n",
       "           6.61938298e-01,   6.61938298e-01,   6.61938298e-01,\n",
       "           6.65923448e-01,   6.66666667e-01]]),\n",
       " array([[    0, 42005, 66102, 61178, 16745,  5414, 35436, 40071,  4333,\n",
       "         59842, 30193, 15398,  1083, 24670, 30702, 14188, 19281, 15859,\n",
       "         33651, 21848]]))"
      ]
     },
     "execution_count": 55,
     "metadata": {},
     "output_type": "execute_result"
    }
   ],
   "source": [
    "Neighbours"
   ]
  },
  {
   "cell_type": "code",
   "execution_count": 31,
   "metadata": {
    "collapsed": true
   },
   "outputs": [],
   "source": [
    "Neighbour_index=Neighbours[1][0]"
   ]
  },
  {
   "cell_type": "code",
   "execution_count": 54,
   "metadata": {
    "collapsed": false
   },
   "outputs": [
    {
     "data": {
      "text/plain": [
       "(array([[    0, 42005, 66102, 61178, 16745,  5414, 35436, 40071,  4333,\n",
       "         59842, 30193, 15398,  1083, 24670, 30702, 14188, 19281, 15859,\n",
       "         33651, 21848]]),)"
      ]
     },
     "execution_count": 54,
     "metadata": {},
     "output_type": "execute_result"
    }
   ],
   "source": [
    "Art_others=Neighbours[1:]\n",
    "Art_others"
   ]
  },
  {
   "cell_type": "code",
   "execution_count": 56,
   "metadata": {
    "collapsed": true
   },
   "outputs": [],
   "source": [
    "All_user2=song['artist'].unique()\n",
    "Others2=Art_others[1:]\n",
    "Relevant_user2=All_user2[Others2]"
   ]
  },
  {
   "cell_type": "code",
   "execution_count": 85,
   "metadata": {
    "collapsed": false
   },
   "outputs": [
    {
     "data": {
      "text/plain": [
       "array(['Jack Johnson', 'Paco De Lucia', 'Kanye West', ...,\n",
       "       \"Mama\\\\'s Jasje\", 'Elvis Perkins', 'Mott The Hoople'], dtype=object)"
      ]
     },
     "execution_count": 85,
     "metadata": {},
     "output_type": "execute_result"
    }
   ],
   "source": [
    "Relevant_user2"
   ]
  },
  {
   "cell_type": "code",
   "execution_count": 86,
   "metadata": {
    "collapsed": false
   },
   "outputs": [],
   "source": [
    "All_user_artist=artist_count[artist_count['artist'].isin (Relevant_user2)]\n"
   ]
  },
  {
   "cell_type": "code",
   "execution_count": 90,
   "metadata": {
    "collapsed": false
   },
   "outputs": [],
   "source": [
    "All_user_artist.sort_values(by='count',ascending=False,inplace=True)"
   ]
  },
  {
   "cell_type": "code",
   "execution_count": 91,
   "metadata": {
    "collapsed": false
   },
   "outputs": [
    {
     "data": {
      "text/html": [
       "<div>\n",
       "<table border=\"1\" class=\"dataframe\">\n",
       "  <thead>\n",
       "    <tr style=\"text-align: right;\">\n",
       "      <th></th>\n",
       "      <th>user_id</th>\n",
       "      <th>artist</th>\n",
       "      <th>count</th>\n",
       "    </tr>\n",
       "  </thead>\n",
       "  <tbody>\n",
       "    <tr>\n",
       "      <th>278885</th>\n",
       "      <td>54e50d606af8ead2f8c23da08247071c897926d2</td>\n",
       "      <td>The New Pornographers</td>\n",
       "      <td>48</td>\n",
       "    </tr>\n",
       "    <tr>\n",
       "      <th>551626</th>\n",
       "      <td>a7bc28aa730f4247c850b0235505a276acdec825</td>\n",
       "      <td>Daft Punk</td>\n",
       "      <td>45</td>\n",
       "    </tr>\n",
       "    <tr>\n",
       "      <th>440843</th>\n",
       "      <td>868955d3452b7d4c06f7a3cf652685bf9aa030c9</td>\n",
       "      <td>Coldplay</td>\n",
       "      <td>43</td>\n",
       "    </tr>\n",
       "    <tr>\n",
       "      <th>433121</th>\n",
       "      <td>843db08e0497f08e1ea288943d4b4816280f0f09</td>\n",
       "      <td>The Black Keys</td>\n",
       "      <td>42</td>\n",
       "    </tr>\n",
       "    <tr>\n",
       "      <th>363235</th>\n",
       "      <td>6f153a78ba2cad9524a9b9db71494b0dd2acf252</td>\n",
       "      <td>The Black Keys</td>\n",
       "      <td>40</td>\n",
       "    </tr>\n",
       "    <tr>\n",
       "      <th>661122</th>\n",
       "      <td>c96cb1375b5d1f8bd88c84d7854dfbca1a6a7698</td>\n",
       "      <td>Gorillaz</td>\n",
       "      <td>38</td>\n",
       "    </tr>\n",
       "    <tr>\n",
       "      <th>109523</th>\n",
       "      <td>21a440c1537cd0b3d00735bc1d2d6d887ac119b5</td>\n",
       "      <td>Coldplay</td>\n",
       "      <td>38</td>\n",
       "    </tr>\n",
       "    <tr>\n",
       "      <th>525827</th>\n",
       "      <td>9fe6abb01de3165b478b2fb3dc5dbc3d531ef8ec</td>\n",
       "      <td>The Black Keys</td>\n",
       "      <td>38</td>\n",
       "    </tr>\n",
       "    <tr>\n",
       "      <th>743620</th>\n",
       "      <td>e2ffd660f074710961b5e214dfdc1cb19753b793</td>\n",
       "      <td>The Black Keys</td>\n",
       "      <td>36</td>\n",
       "    </tr>\n",
       "    <tr>\n",
       "      <th>481797</th>\n",
       "      <td>92da4d090f5129114655632f6108088e3ecd077e</td>\n",
       "      <td>Muse</td>\n",
       "      <td>35</td>\n",
       "    </tr>\n",
       "  </tbody>\n",
       "</table>\n",
       "</div>"
      ],
      "text/plain": [
       "                                         user_id                 artist  count\n",
       "278885  54e50d606af8ead2f8c23da08247071c897926d2  The New Pornographers     48\n",
       "551626  a7bc28aa730f4247c850b0235505a276acdec825              Daft Punk     45\n",
       "440843  868955d3452b7d4c06f7a3cf652685bf9aa030c9               Coldplay     43\n",
       "433121  843db08e0497f08e1ea288943d4b4816280f0f09         The Black Keys     42\n",
       "363235  6f153a78ba2cad9524a9b9db71494b0dd2acf252         The Black Keys     40\n",
       "661122  c96cb1375b5d1f8bd88c84d7854dfbca1a6a7698               Gorillaz     38\n",
       "109523  21a440c1537cd0b3d00735bc1d2d6d887ac119b5               Coldplay     38\n",
       "525827  9fe6abb01de3165b478b2fb3dc5dbc3d531ef8ec         The Black Keys     38\n",
       "743620  e2ffd660f074710961b5e214dfdc1cb19753b793         The Black Keys     36\n",
       "481797  92da4d090f5129114655632f6108088e3ecd077e                   Muse     35"
      ]
     },
     "execution_count": 91,
     "metadata": {},
     "output_type": "execute_result"
    }
   ],
   "source": [
    "All_user_artist.head(10)"
   ]
  },
  {
   "cell_type": "code",
   "execution_count": 92,
   "metadata": {
    "collapsed": false
   },
   "outputs": [
    {
     "name": "stdout",
     "output_type": "stream",
     "text": [
      "278885    The New Pornographers\n",
      "551626                Daft Punk\n",
      "440843                 Coldplay\n",
      "433121           The Black Keys\n",
      "363235           The Black Keys\n",
      "661122                 Gorillaz\n",
      "109523                 Coldplay\n",
      "525827           The Black Keys\n",
      "743620           The Black Keys\n",
      "481797                     Muse\n",
      "Name: artist, dtype: object\n"
     ]
    }
   ],
   "source": [
    "Recommended_artists = All_user_artist['artist'][:10]\n",
    "print (Recommended_artists)"
   ]
  },
  {
   "cell_type": "markdown",
   "metadata": {},
   "source": [
    "# Assignment"
   ]
  },
  {
   "cell_type": "code",
   "execution_count": 38,
   "metadata": {
    "collapsed": false
   },
   "outputs": [
    {
     "data": {
      "text/plain": [
       "2522"
      ]
     },
     "execution_count": 38,
     "metadata": {},
     "output_type": "execute_result"
    }
   ],
   "source": [
    "len(song[song.artist=='Kanye West'].user_id.unique())"
   ]
  },
  {
   "cell_type": "code",
   "execution_count": 39,
   "metadata": {
    "collapsed": false
   },
   "outputs": [
    {
     "data": {
      "text/plain": [
       "2055"
      ]
     },
     "execution_count": 39,
     "metadata": {},
     "output_type": "execute_result"
    }
   ],
   "source": [
    "len(song[song.artist=='Foo Fighters'].user_id.unique())"
   ]
  },
  {
   "cell_type": "code",
   "execution_count": 40,
   "metadata": {
    "collapsed": false
   },
   "outputs": [
    {
     "data": {
      "text/plain": [
       "3246"
      ]
     },
     "execution_count": 40,
     "metadata": {},
     "output_type": "execute_result"
    }
   ],
   "source": [
    "len(song[song.artist=='Taylor Swift'].user_id.unique())"
   ]
  },
  {
   "cell_type": "code",
   "execution_count": 41,
   "metadata": {
    "collapsed": false
   },
   "outputs": [
    {
     "data": {
      "text/plain": [
       "2928"
      ]
     },
     "execution_count": 41,
     "metadata": {},
     "output_type": "execute_result"
    }
   ],
   "source": [
    "len(song[song.artist=='Lady GaGa'].user_id.unique())"
   ]
  },
  {
   "cell_type": "code",
   "execution_count": 102,
   "metadata": {
    "collapsed": false
   },
   "outputs": [
    {
     "data": {
      "text/plain": [
       "artist\n",
       "William Tabbert                                                              14\n",
       "Reel Feelings                                                                24\n",
       "Beyoncé feat. Bun B and Slim Thug                                            26\n",
       "Boggle Karaoke                                                               30\n",
       "Diplo                                                                        30\n",
       "harvey summers                                                               31\n",
       "Nâdiya                                                                       36\n",
       "Kanye West / Talib Kweli / Q-Tip / Common / Rhymefest                        38\n",
       "Jody Bernal                                                                  38\n",
       "Aneta Langerova                                                              38\n",
       "John Altman                                                                  39\n",
       "Trademark                                                                    40\n",
       "Lloyd / Ashanti / Scarface                                                   42\n",
       "Yung Joc feat Trick Daddy_ Block & Jazze Pha                                 42\n",
       "Deadmau 5                                                                    43\n",
       "Tandem                                                                       43\n",
       "Elvis Perkins                                                                44\n",
       "Ronnie Foster                                                                44\n",
       "Light This City                                                              44\n",
       "Cypress Hill featuring Damian Marley                                         45\n",
       "Airwave                                                                      46\n",
       "Sangre Azul                                                                  47\n",
       "Rihanna / Kardinal Offishall                                                 47\n",
       "Mott The Hoople                                                              49\n",
       "Switches                                                                     51\n",
       "Sufjan Stevens                                                               52\n",
       "Rakim                                                                        53\n",
       "The Audition                                                                 54\n",
       "Monica featuring Tyrese                                                      54\n",
       "Yung Joc featuring Diddy                                                     54\n",
       "                                                                          ...  \n",
       "3 Doors Down                                                              13047\n",
       "Beyoncé                                                                   13129\n",
       "Tub Ring                                                                  13701\n",
       "Sam Cooke                                                                 14029\n",
       "Black Eyed Peas                                                           14070\n",
       "Creedence Clearwater Revival                                              14137\n",
       "Rise Against                                                              14419\n",
       "The Killers                                                               15097\n",
       "Guns N\\' Roses                                                            15889\n",
       "Daft Punk                                                                 17191\n",
       "Radiohead                                                                 17899\n",
       "John Mayer                                                                17955\n",
       "Taylor Swift                                                              18958\n",
       "Jack Johnson                                                              20177\n",
       "Muse                                                                      20220\n",
       "Metallica                                                                 20336\n",
       "Linkin Park                                                               21368\n",
       "Eminem                                                                    21627\n",
       "Harmonia                                                                  21646\n",
       "Barry Tuckwell/Academy of St Martin-in-the-Fields/Sir Neville Marriner    21953\n",
       "The Black Keys                                                            22184\n",
       "Train                                                                     25402\n",
       "OneRepublic                                                               25754\n",
       "Alliance Ethnik                                                           26689\n",
       "Justin Bieber                                                             29715\n",
       "Florence + The Machine                                                    33387\n",
       "Coldplay                                                                  35362\n",
       "Björk                                                                     38889\n",
       "Dwight Yoakam                                                             40619\n",
       "Kings Of Leon                                                             43218\n",
       "Name: listen_count, dtype: int64"
      ]
     },
     "execution_count": 102,
     "metadata": {},
     "output_type": "execute_result"
    }
   ],
   "source": [
    "song.groupby('artist').listen_count.sum().sort_values()"
   ]
  },
  {
   "cell_type": "code",
   "execution_count": null,
   "metadata": {
    "collapsed": true
   },
   "outputs": [],
   "source": []
  }
 ],
 "metadata": {
  "kernelspec": {
   "display_name": "Python 3",
   "language": "python",
   "name": "python3"
  },
  "language_info": {
   "codemirror_mode": {
    "name": "ipython",
    "version": 3
   },
   "file_extension": ".py",
   "mimetype": "text/x-python",
   "name": "python",
   "nbconvert_exporter": "python",
   "pygments_lexer": "ipython3",
   "version": "3.6.0"
  }
 },
 "nbformat": 4,
 "nbformat_minor": 2
}
