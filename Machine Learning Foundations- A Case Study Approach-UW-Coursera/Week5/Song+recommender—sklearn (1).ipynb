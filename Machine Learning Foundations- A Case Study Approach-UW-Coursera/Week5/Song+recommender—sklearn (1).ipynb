{
 "cells": [
  {
   "cell_type": "markdown",
   "metadata": {},
   "source": [
    "# Building a song recommender"
   ]
  },
  {
   "cell_type": "markdown",
   "metadata": {},
   "source": [
    "# Fire up Packages"
   ]
  },
  {
   "cell_type": "code",
   "execution_count": 1,
   "metadata": {
    "collapsed": false
   },
   "outputs": [],
   "source": [
    "import sklearn\n",
    "import matplotlib.pyplot as plt\n",
    "%matplotlib inline\n",
    "import pandas as pd\n",
    "from sklearn.model_selection import train_test_split\n",
    "import numpy as np"
   ]
  },
  {
   "cell_type": "markdown",
   "metadata": {},
   "source": [
    "# Load music data"
   ]
  },
  {
   "cell_type": "code",
   "execution_count": 3,
   "metadata": {
    "collapsed": false
   },
   "outputs": [],
   "source": [
    "song_data=pd.read_csv('song_data.csv')"
   ]
  },
  {
   "cell_type": "markdown",
   "metadata": {},
   "source": [
    "# Explore data\n",
    "\n",
    "Music data shows how many times a user listened to a song, as well as the details of the song."
   ]
  },
  {
   "cell_type": "code",
   "execution_count": 4,
   "metadata": {
    "collapsed": false
   },
   "outputs": [
    {
     "data": {
      "text/html": [
       "<div>\n",
       "<table border=\"1\" class=\"dataframe\">\n",
       "  <thead>\n",
       "    <tr style=\"text-align: right;\">\n",
       "      <th></th>\n",
       "      <th>user_id</th>\n",
       "      <th>song_id</th>\n",
       "      <th>listen_count</th>\n",
       "      <th>title</th>\n",
       "      <th>artist</th>\n",
       "      <th>song</th>\n",
       "    </tr>\n",
       "  </thead>\n",
       "  <tbody>\n",
       "    <tr>\n",
       "      <th>0</th>\n",
       "      <td>b80344d063b5ccb3212f76538f3d9e43d87dca9e</td>\n",
       "      <td>SOAKIMP12A8C130995</td>\n",
       "      <td>1</td>\n",
       "      <td>The Cove</td>\n",
       "      <td>Jack Johnson</td>\n",
       "      <td>The Cove - Jack Johnson</td>\n",
       "    </tr>\n",
       "    <tr>\n",
       "      <th>1</th>\n",
       "      <td>b80344d063b5ccb3212f76538f3d9e43d87dca9e</td>\n",
       "      <td>SOBBMDR12A8C13253B</td>\n",
       "      <td>2</td>\n",
       "      <td>Entre Dos Aguas</td>\n",
       "      <td>Paco De Lucia</td>\n",
       "      <td>Entre Dos Aguas - Paco De Lucia</td>\n",
       "    </tr>\n",
       "    <tr>\n",
       "      <th>2</th>\n",
       "      <td>b80344d063b5ccb3212f76538f3d9e43d87dca9e</td>\n",
       "      <td>SOBXHDL12A81C204C0</td>\n",
       "      <td>1</td>\n",
       "      <td>Stronger</td>\n",
       "      <td>Kanye West</td>\n",
       "      <td>Stronger - Kanye West</td>\n",
       "    </tr>\n",
       "    <tr>\n",
       "      <th>3</th>\n",
       "      <td>b80344d063b5ccb3212f76538f3d9e43d87dca9e</td>\n",
       "      <td>SOBYHAJ12A6701BF1D</td>\n",
       "      <td>1</td>\n",
       "      <td>Constellations</td>\n",
       "      <td>Jack Johnson</td>\n",
       "      <td>Constellations - Jack Johnson</td>\n",
       "    </tr>\n",
       "    <tr>\n",
       "      <th>4</th>\n",
       "      <td>b80344d063b5ccb3212f76538f3d9e43d87dca9e</td>\n",
       "      <td>SODACBL12A8C13C273</td>\n",
       "      <td>1</td>\n",
       "      <td>Learn To Fly</td>\n",
       "      <td>Foo Fighters</td>\n",
       "      <td>Learn To Fly - Foo Fighters</td>\n",
       "    </tr>\n",
       "  </tbody>\n",
       "</table>\n",
       "</div>"
      ],
      "text/plain": [
       "                                    user_id             song_id  listen_count  \\\n",
       "0  b80344d063b5ccb3212f76538f3d9e43d87dca9e  SOAKIMP12A8C130995             1   \n",
       "1  b80344d063b5ccb3212f76538f3d9e43d87dca9e  SOBBMDR12A8C13253B             2   \n",
       "2  b80344d063b5ccb3212f76538f3d9e43d87dca9e  SOBXHDL12A81C204C0             1   \n",
       "3  b80344d063b5ccb3212f76538f3d9e43d87dca9e  SOBYHAJ12A6701BF1D             1   \n",
       "4  b80344d063b5ccb3212f76538f3d9e43d87dca9e  SODACBL12A8C13C273             1   \n",
       "\n",
       "             title         artist                             song  \n",
       "0         The Cove   Jack Johnson          The Cove - Jack Johnson  \n",
       "1  Entre Dos Aguas  Paco De Lucia  Entre Dos Aguas - Paco De Lucia  \n",
       "2         Stronger     Kanye West            Stronger - Kanye West  \n",
       "3   Constellations   Jack Johnson    Constellations - Jack Johnson  \n",
       "4     Learn To Fly   Foo Fighters      Learn To Fly - Foo Fighters  "
      ]
     },
     "execution_count": 4,
     "metadata": {},
     "output_type": "execute_result"
    }
   ],
   "source": [
    "song_data.head()"
   ]
  },
  {
   "cell_type": "code",
   "execution_count": 5,
   "metadata": {
    "collapsed": false
   },
   "outputs": [
    {
     "data": {
      "text/plain": [
       "(1116609, 6)"
      ]
     },
     "execution_count": 5,
     "metadata": {},
     "output_type": "execute_result"
    }
   ],
   "source": [
    "song_data.shape"
   ]
  },
  {
   "cell_type": "markdown",
   "metadata": {},
   "source": [
    "## Showing the most popular songs in the dataset"
   ]
  },
  {
   "cell_type": "code",
   "execution_count": 6,
   "metadata": {
    "collapsed": false
   },
   "outputs": [
    {
     "data": {
      "text/plain": [
       "Sehr kosmisch - Harmonia                                                                                                                        5970\n",
       "Undo - Björk                                                                                                                                    5281\n",
       "You\\'re The One - Dwight Yoakam                                                                                                                 4806\n",
       "Dog Days Are Over (Radio Edit) - Florence + The Machine                                                                                         4536\n",
       "Revelry - Kings Of Leon                                                                                                                         4339\n",
       "Horn Concerto No. 4 in E flat K495: II. Romance (Andante cantabile) - Barry Tuckwell/Academy of St Martin-in-the-Fields/Sir Neville Marriner    3949\n",
       "Secrets - OneRepublic                                                                                                                           3916\n",
       "Tive Sim - Cartola                                                                                                                              3185\n",
       "Fireflies - Charttraxx Karaoke                                                                                                                  3171\n",
       "Hey_ Soul Sister - Train                                                                                                                        3132\n",
       "Name: song, dtype: int64"
      ]
     },
     "execution_count": 6,
     "metadata": {},
     "output_type": "execute_result"
    }
   ],
   "source": [
    "song_data.song.value_counts().head(10)"
   ]
  },
  {
   "cell_type": "markdown",
   "metadata": {},
   "source": [
    "# User-Item Collaborative Filtering\n",
    "In this case, the recommendation system should be built with the method of user-item collaborative filtering. Namely, the recommendation should be backed up by: “Customers who are similar to you also liked …”."
   ]
  },
  {
   "cell_type": "markdown",
   "metadata": {},
   "source": [
    "## A: Recommend Songs\n"
   ]
  },
  {
   "cell_type": "markdown",
   "metadata": {},
   "source": [
    "### Build user-item matrix "
   ]
  },
  {
   "cell_type": "code",
   "execution_count": 7,
   "metadata": {
    "collapsed": true
   },
   "outputs": [],
   "source": [
    "song=song_data.drop_duplicates(['user_id','song','title','artist'])\n",
    "song=song.reset_index(drop=True)"
   ]
  },
  {
   "cell_type": "code",
   "execution_count": 8,
   "metadata": {
    "collapsed": false
   },
   "outputs": [
    {
     "data": {
      "text/plain": [
       "(1115985, 6)"
      ]
     },
     "execution_count": 8,
     "metadata": {},
     "output_type": "execute_result"
    }
   ],
   "source": [
    "song.shape"
   ]
  },
  {
   "cell_type": "markdown",
   "metadata": {},
   "source": [
    "### Due to the memory limitation of Jupyter notebook, I just use first 100000 rows of data. "
   ]
  },
  {
   "cell_type": "code",
   "execution_count": 9,
   "metadata": {
    "collapsed": false
   },
   "outputs": [
    {
     "name": "stdout",
     "output_type": "stream",
     "text": [
      "We have 66346 unique users,10000 unique songs and 3375 unique artist in the data table.\n"
     ]
    }
   ],
   "source": [
    "n_user=len(song['user_id'].unique())\n",
    "n_song=len(song['song_id'].unique())\n",
    "n_artist=len(song['artist'].unique())\n",
    "print ('We have '+str(n_user)+' unique users,'+str(n_song)+' unique songs and '+str(n_artist)+' unique artist in the data table.')"
   ]
  },
  {
   "cell_type": "markdown",
   "metadata": {},
   "source": [
    "### User_item matrix can be created by pivot table. "
   ]
  },
  {
   "cell_type": "code",
   "execution_count": 10,
   "metadata": {
    "collapsed": true
   },
   "outputs": [],
   "source": [
    "song_pivot=song.pivot(index='user_id',columns='song_id',values='listen_count')"
   ]
  },
  {
   "cell_type": "code",
   "execution_count": 11,
   "metadata": {
    "collapsed": false
   },
   "outputs": [
    {
     "data": {
      "text/plain": [
       "(66346, 10000)"
      ]
     },
     "execution_count": 11,
     "metadata": {},
     "output_type": "execute_result"
    }
   ],
   "source": [
    "song_pivot.shape"
   ]
  },
  {
   "cell_type": "code",
   "execution_count": 12,
   "metadata": {
    "collapsed": true
   },
   "outputs": [],
   "source": [
    "song_pivot=song_pivot.fillna(0)"
   ]
  },
  {
   "cell_type": "code",
   "execution_count": 13,
   "metadata": {
    "collapsed": false
   },
   "outputs": [
    {
     "data": {
      "text/html": [
       "<div>\n",
       "<table border=\"1\" class=\"dataframe\">\n",
       "  <thead>\n",
       "    <tr style=\"text-align: right;\">\n",
       "      <th>song_id</th>\n",
       "      <th>SOAAAGQ12A8C1420C8</th>\n",
       "      <th>SOAACPJ12A81C21360</th>\n",
       "      <th>SOAACSG12AB018DC80</th>\n",
       "      <th>SOAAEJI12AB0188AB5</th>\n",
       "      <th>SOAAFAC12A67ADF7EB</th>\n",
       "      <th>SOAAFYH12A8C13717A</th>\n",
       "      <th>SOAAJMQ12A6D4F7D17</th>\n",
       "      <th>SOAAKPM12A58A77210</th>\n",
       "      <th>SOAALWN12A6D4F7FDA</th>\n",
       "      <th>SOAAMOW12AB018149B</th>\n",
       "      <th>...</th>\n",
       "      <th>SOZZKPR12A6D4F8147</th>\n",
       "      <th>SOZZLTY12A67AE0AD0</th>\n",
       "      <th>SOZZLZN12A8AE48D6D</th>\n",
       "      <th>SOZZRHE12A6702165F</th>\n",
       "      <th>SOZZTCU12AB0182C58</th>\n",
       "      <th>SOZZTNF12A8C139916</th>\n",
       "      <th>SOZZVWB12AB0189C30</th>\n",
       "      <th>SOZZWZV12A67AE140F</th>\n",
       "      <th>SOZZYAO12A6701FF36</th>\n",
       "      <th>SOZZZPV12A8C1444B5</th>\n",
       "    </tr>\n",
       "    <tr>\n",
       "      <th>user_id</th>\n",
       "      <th></th>\n",
       "      <th></th>\n",
       "      <th></th>\n",
       "      <th></th>\n",
       "      <th></th>\n",
       "      <th></th>\n",
       "      <th></th>\n",
       "      <th></th>\n",
       "      <th></th>\n",
       "      <th></th>\n",
       "      <th></th>\n",
       "      <th></th>\n",
       "      <th></th>\n",
       "      <th></th>\n",
       "      <th></th>\n",
       "      <th></th>\n",
       "      <th></th>\n",
       "      <th></th>\n",
       "      <th></th>\n",
       "      <th></th>\n",
       "      <th></th>\n",
       "    </tr>\n",
       "  </thead>\n",
       "  <tbody>\n",
       "    <tr>\n",
       "      <th>00003a4459f33b92906be11abe0e93efc423c0ff</th>\n",
       "      <td>0.0</td>\n",
       "      <td>0.0</td>\n",
       "      <td>0.0</td>\n",
       "      <td>0.0</td>\n",
       "      <td>0.0</td>\n",
       "      <td>0.0</td>\n",
       "      <td>0.0</td>\n",
       "      <td>0.0</td>\n",
       "      <td>0.0</td>\n",
       "      <td>0.0</td>\n",
       "      <td>...</td>\n",
       "      <td>0.0</td>\n",
       "      <td>0.0</td>\n",
       "      <td>0.0</td>\n",
       "      <td>0.0</td>\n",
       "      <td>0.0</td>\n",
       "      <td>0.0</td>\n",
       "      <td>0.0</td>\n",
       "      <td>0.0</td>\n",
       "      <td>0.0</td>\n",
       "      <td>0.0</td>\n",
       "    </tr>\n",
       "    <tr>\n",
       "      <th>00005c6177188f12fb5e2e82cdbd93e8a3f35e64</th>\n",
       "      <td>0.0</td>\n",
       "      <td>0.0</td>\n",
       "      <td>0.0</td>\n",
       "      <td>0.0</td>\n",
       "      <td>0.0</td>\n",
       "      <td>0.0</td>\n",
       "      <td>0.0</td>\n",
       "      <td>0.0</td>\n",
       "      <td>0.0</td>\n",
       "      <td>0.0</td>\n",
       "      <td>...</td>\n",
       "      <td>0.0</td>\n",
       "      <td>0.0</td>\n",
       "      <td>0.0</td>\n",
       "      <td>0.0</td>\n",
       "      <td>0.0</td>\n",
       "      <td>0.0</td>\n",
       "      <td>0.0</td>\n",
       "      <td>0.0</td>\n",
       "      <td>0.0</td>\n",
       "      <td>0.0</td>\n",
       "    </tr>\n",
       "    <tr>\n",
       "      <th>00030033e3a2f904a48ec1dd53019c9969b6ef1f</th>\n",
       "      <td>0.0</td>\n",
       "      <td>0.0</td>\n",
       "      <td>0.0</td>\n",
       "      <td>0.0</td>\n",
       "      <td>0.0</td>\n",
       "      <td>0.0</td>\n",
       "      <td>0.0</td>\n",
       "      <td>0.0</td>\n",
       "      <td>0.0</td>\n",
       "      <td>0.0</td>\n",
       "      <td>...</td>\n",
       "      <td>0.0</td>\n",
       "      <td>0.0</td>\n",
       "      <td>0.0</td>\n",
       "      <td>0.0</td>\n",
       "      <td>0.0</td>\n",
       "      <td>0.0</td>\n",
       "      <td>0.0</td>\n",
       "      <td>0.0</td>\n",
       "      <td>0.0</td>\n",
       "      <td>0.0</td>\n",
       "    </tr>\n",
       "    <tr>\n",
       "      <th>0007235c769e610e3d339a17818a5708e41008d9</th>\n",
       "      <td>0.0</td>\n",
       "      <td>0.0</td>\n",
       "      <td>0.0</td>\n",
       "      <td>0.0</td>\n",
       "      <td>0.0</td>\n",
       "      <td>0.0</td>\n",
       "      <td>0.0</td>\n",
       "      <td>0.0</td>\n",
       "      <td>0.0</td>\n",
       "      <td>0.0</td>\n",
       "      <td>...</td>\n",
       "      <td>0.0</td>\n",
       "      <td>0.0</td>\n",
       "      <td>0.0</td>\n",
       "      <td>0.0</td>\n",
       "      <td>0.0</td>\n",
       "      <td>0.0</td>\n",
       "      <td>0.0</td>\n",
       "      <td>0.0</td>\n",
       "      <td>0.0</td>\n",
       "      <td>0.0</td>\n",
       "    </tr>\n",
       "    <tr>\n",
       "      <th>0007c0e74728ca9ef0fe4eb7f75732e8026a278b</th>\n",
       "      <td>0.0</td>\n",
       "      <td>0.0</td>\n",
       "      <td>0.0</td>\n",
       "      <td>0.0</td>\n",
       "      <td>0.0</td>\n",
       "      <td>0.0</td>\n",
       "      <td>0.0</td>\n",
       "      <td>0.0</td>\n",
       "      <td>0.0</td>\n",
       "      <td>0.0</td>\n",
       "      <td>...</td>\n",
       "      <td>0.0</td>\n",
       "      <td>0.0</td>\n",
       "      <td>0.0</td>\n",
       "      <td>0.0</td>\n",
       "      <td>0.0</td>\n",
       "      <td>0.0</td>\n",
       "      <td>0.0</td>\n",
       "      <td>0.0</td>\n",
       "      <td>0.0</td>\n",
       "      <td>0.0</td>\n",
       "    </tr>\n",
       "  </tbody>\n",
       "</table>\n",
       "<p>5 rows × 10000 columns</p>\n",
       "</div>"
      ],
      "text/plain": [
       "song_id                                   SOAAAGQ12A8C1420C8  \\\n",
       "user_id                                                        \n",
       "00003a4459f33b92906be11abe0e93efc423c0ff                 0.0   \n",
       "00005c6177188f12fb5e2e82cdbd93e8a3f35e64                 0.0   \n",
       "00030033e3a2f904a48ec1dd53019c9969b6ef1f                 0.0   \n",
       "0007235c769e610e3d339a17818a5708e41008d9                 0.0   \n",
       "0007c0e74728ca9ef0fe4eb7f75732e8026a278b                 0.0   \n",
       "\n",
       "song_id                                   SOAACPJ12A81C21360  \\\n",
       "user_id                                                        \n",
       "00003a4459f33b92906be11abe0e93efc423c0ff                 0.0   \n",
       "00005c6177188f12fb5e2e82cdbd93e8a3f35e64                 0.0   \n",
       "00030033e3a2f904a48ec1dd53019c9969b6ef1f                 0.0   \n",
       "0007235c769e610e3d339a17818a5708e41008d9                 0.0   \n",
       "0007c0e74728ca9ef0fe4eb7f75732e8026a278b                 0.0   \n",
       "\n",
       "song_id                                   SOAACSG12AB018DC80  \\\n",
       "user_id                                                        \n",
       "00003a4459f33b92906be11abe0e93efc423c0ff                 0.0   \n",
       "00005c6177188f12fb5e2e82cdbd93e8a3f35e64                 0.0   \n",
       "00030033e3a2f904a48ec1dd53019c9969b6ef1f                 0.0   \n",
       "0007235c769e610e3d339a17818a5708e41008d9                 0.0   \n",
       "0007c0e74728ca9ef0fe4eb7f75732e8026a278b                 0.0   \n",
       "\n",
       "song_id                                   SOAAEJI12AB0188AB5  \\\n",
       "user_id                                                        \n",
       "00003a4459f33b92906be11abe0e93efc423c0ff                 0.0   \n",
       "00005c6177188f12fb5e2e82cdbd93e8a3f35e64                 0.0   \n",
       "00030033e3a2f904a48ec1dd53019c9969b6ef1f                 0.0   \n",
       "0007235c769e610e3d339a17818a5708e41008d9                 0.0   \n",
       "0007c0e74728ca9ef0fe4eb7f75732e8026a278b                 0.0   \n",
       "\n",
       "song_id                                   SOAAFAC12A67ADF7EB  \\\n",
       "user_id                                                        \n",
       "00003a4459f33b92906be11abe0e93efc423c0ff                 0.0   \n",
       "00005c6177188f12fb5e2e82cdbd93e8a3f35e64                 0.0   \n",
       "00030033e3a2f904a48ec1dd53019c9969b6ef1f                 0.0   \n",
       "0007235c769e610e3d339a17818a5708e41008d9                 0.0   \n",
       "0007c0e74728ca9ef0fe4eb7f75732e8026a278b                 0.0   \n",
       "\n",
       "song_id                                   SOAAFYH12A8C13717A  \\\n",
       "user_id                                                        \n",
       "00003a4459f33b92906be11abe0e93efc423c0ff                 0.0   \n",
       "00005c6177188f12fb5e2e82cdbd93e8a3f35e64                 0.0   \n",
       "00030033e3a2f904a48ec1dd53019c9969b6ef1f                 0.0   \n",
       "0007235c769e610e3d339a17818a5708e41008d9                 0.0   \n",
       "0007c0e74728ca9ef0fe4eb7f75732e8026a278b                 0.0   \n",
       "\n",
       "song_id                                   SOAAJMQ12A6D4F7D17  \\\n",
       "user_id                                                        \n",
       "00003a4459f33b92906be11abe0e93efc423c0ff                 0.0   \n",
       "00005c6177188f12fb5e2e82cdbd93e8a3f35e64                 0.0   \n",
       "00030033e3a2f904a48ec1dd53019c9969b6ef1f                 0.0   \n",
       "0007235c769e610e3d339a17818a5708e41008d9                 0.0   \n",
       "0007c0e74728ca9ef0fe4eb7f75732e8026a278b                 0.0   \n",
       "\n",
       "song_id                                   SOAAKPM12A58A77210  \\\n",
       "user_id                                                        \n",
       "00003a4459f33b92906be11abe0e93efc423c0ff                 0.0   \n",
       "00005c6177188f12fb5e2e82cdbd93e8a3f35e64                 0.0   \n",
       "00030033e3a2f904a48ec1dd53019c9969b6ef1f                 0.0   \n",
       "0007235c769e610e3d339a17818a5708e41008d9                 0.0   \n",
       "0007c0e74728ca9ef0fe4eb7f75732e8026a278b                 0.0   \n",
       "\n",
       "song_id                                   SOAALWN12A6D4F7FDA  \\\n",
       "user_id                                                        \n",
       "00003a4459f33b92906be11abe0e93efc423c0ff                 0.0   \n",
       "00005c6177188f12fb5e2e82cdbd93e8a3f35e64                 0.0   \n",
       "00030033e3a2f904a48ec1dd53019c9969b6ef1f                 0.0   \n",
       "0007235c769e610e3d339a17818a5708e41008d9                 0.0   \n",
       "0007c0e74728ca9ef0fe4eb7f75732e8026a278b                 0.0   \n",
       "\n",
       "song_id                                   SOAAMOW12AB018149B  \\\n",
       "user_id                                                        \n",
       "00003a4459f33b92906be11abe0e93efc423c0ff                 0.0   \n",
       "00005c6177188f12fb5e2e82cdbd93e8a3f35e64                 0.0   \n",
       "00030033e3a2f904a48ec1dd53019c9969b6ef1f                 0.0   \n",
       "0007235c769e610e3d339a17818a5708e41008d9                 0.0   \n",
       "0007c0e74728ca9ef0fe4eb7f75732e8026a278b                 0.0   \n",
       "\n",
       "song_id                                          ...          \\\n",
       "user_id                                          ...           \n",
       "00003a4459f33b92906be11abe0e93efc423c0ff         ...           \n",
       "00005c6177188f12fb5e2e82cdbd93e8a3f35e64         ...           \n",
       "00030033e3a2f904a48ec1dd53019c9969b6ef1f         ...           \n",
       "0007235c769e610e3d339a17818a5708e41008d9         ...           \n",
       "0007c0e74728ca9ef0fe4eb7f75732e8026a278b         ...           \n",
       "\n",
       "song_id                                   SOZZKPR12A6D4F8147  \\\n",
       "user_id                                                        \n",
       "00003a4459f33b92906be11abe0e93efc423c0ff                 0.0   \n",
       "00005c6177188f12fb5e2e82cdbd93e8a3f35e64                 0.0   \n",
       "00030033e3a2f904a48ec1dd53019c9969b6ef1f                 0.0   \n",
       "0007235c769e610e3d339a17818a5708e41008d9                 0.0   \n",
       "0007c0e74728ca9ef0fe4eb7f75732e8026a278b                 0.0   \n",
       "\n",
       "song_id                                   SOZZLTY12A67AE0AD0  \\\n",
       "user_id                                                        \n",
       "00003a4459f33b92906be11abe0e93efc423c0ff                 0.0   \n",
       "00005c6177188f12fb5e2e82cdbd93e8a3f35e64                 0.0   \n",
       "00030033e3a2f904a48ec1dd53019c9969b6ef1f                 0.0   \n",
       "0007235c769e610e3d339a17818a5708e41008d9                 0.0   \n",
       "0007c0e74728ca9ef0fe4eb7f75732e8026a278b                 0.0   \n",
       "\n",
       "song_id                                   SOZZLZN12A8AE48D6D  \\\n",
       "user_id                                                        \n",
       "00003a4459f33b92906be11abe0e93efc423c0ff                 0.0   \n",
       "00005c6177188f12fb5e2e82cdbd93e8a3f35e64                 0.0   \n",
       "00030033e3a2f904a48ec1dd53019c9969b6ef1f                 0.0   \n",
       "0007235c769e610e3d339a17818a5708e41008d9                 0.0   \n",
       "0007c0e74728ca9ef0fe4eb7f75732e8026a278b                 0.0   \n",
       "\n",
       "song_id                                   SOZZRHE12A6702165F  \\\n",
       "user_id                                                        \n",
       "00003a4459f33b92906be11abe0e93efc423c0ff                 0.0   \n",
       "00005c6177188f12fb5e2e82cdbd93e8a3f35e64                 0.0   \n",
       "00030033e3a2f904a48ec1dd53019c9969b6ef1f                 0.0   \n",
       "0007235c769e610e3d339a17818a5708e41008d9                 0.0   \n",
       "0007c0e74728ca9ef0fe4eb7f75732e8026a278b                 0.0   \n",
       "\n",
       "song_id                                   SOZZTCU12AB0182C58  \\\n",
       "user_id                                                        \n",
       "00003a4459f33b92906be11abe0e93efc423c0ff                 0.0   \n",
       "00005c6177188f12fb5e2e82cdbd93e8a3f35e64                 0.0   \n",
       "00030033e3a2f904a48ec1dd53019c9969b6ef1f                 0.0   \n",
       "0007235c769e610e3d339a17818a5708e41008d9                 0.0   \n",
       "0007c0e74728ca9ef0fe4eb7f75732e8026a278b                 0.0   \n",
       "\n",
       "song_id                                   SOZZTNF12A8C139916  \\\n",
       "user_id                                                        \n",
       "00003a4459f33b92906be11abe0e93efc423c0ff                 0.0   \n",
       "00005c6177188f12fb5e2e82cdbd93e8a3f35e64                 0.0   \n",
       "00030033e3a2f904a48ec1dd53019c9969b6ef1f                 0.0   \n",
       "0007235c769e610e3d339a17818a5708e41008d9                 0.0   \n",
       "0007c0e74728ca9ef0fe4eb7f75732e8026a278b                 0.0   \n",
       "\n",
       "song_id                                   SOZZVWB12AB0189C30  \\\n",
       "user_id                                                        \n",
       "00003a4459f33b92906be11abe0e93efc423c0ff                 0.0   \n",
       "00005c6177188f12fb5e2e82cdbd93e8a3f35e64                 0.0   \n",
       "00030033e3a2f904a48ec1dd53019c9969b6ef1f                 0.0   \n",
       "0007235c769e610e3d339a17818a5708e41008d9                 0.0   \n",
       "0007c0e74728ca9ef0fe4eb7f75732e8026a278b                 0.0   \n",
       "\n",
       "song_id                                   SOZZWZV12A67AE140F  \\\n",
       "user_id                                                        \n",
       "00003a4459f33b92906be11abe0e93efc423c0ff                 0.0   \n",
       "00005c6177188f12fb5e2e82cdbd93e8a3f35e64                 0.0   \n",
       "00030033e3a2f904a48ec1dd53019c9969b6ef1f                 0.0   \n",
       "0007235c769e610e3d339a17818a5708e41008d9                 0.0   \n",
       "0007c0e74728ca9ef0fe4eb7f75732e8026a278b                 0.0   \n",
       "\n",
       "song_id                                   SOZZYAO12A6701FF36  \\\n",
       "user_id                                                        \n",
       "00003a4459f33b92906be11abe0e93efc423c0ff                 0.0   \n",
       "00005c6177188f12fb5e2e82cdbd93e8a3f35e64                 0.0   \n",
       "00030033e3a2f904a48ec1dd53019c9969b6ef1f                 0.0   \n",
       "0007235c769e610e3d339a17818a5708e41008d9                 0.0   \n",
       "0007c0e74728ca9ef0fe4eb7f75732e8026a278b                 0.0   \n",
       "\n",
       "song_id                                   SOZZZPV12A8C1444B5  \n",
       "user_id                                                       \n",
       "00003a4459f33b92906be11abe0e93efc423c0ff                 0.0  \n",
       "00005c6177188f12fb5e2e82cdbd93e8a3f35e64                 0.0  \n",
       "00030033e3a2f904a48ec1dd53019c9969b6ef1f                 0.0  \n",
       "0007235c769e610e3d339a17818a5708e41008d9                 0.0  \n",
       "0007c0e74728ca9ef0fe4eb7f75732e8026a278b                 0.0  \n",
       "\n",
       "[5 rows x 10000 columns]"
      ]
     },
     "execution_count": 13,
     "metadata": {},
     "output_type": "execute_result"
    }
   ],
   "source": [
    "song_pivot.head(5)"
   ]
  },
  {
   "cell_type": "markdown",
   "metadata": {},
   "source": [
    "### Implement KNN method to recommend songs"
   ]
  },
  {
   "cell_type": "code",
   "execution_count": 14,
   "metadata": {
    "collapsed": true
   },
   "outputs": [],
   "source": [
    "from sklearn.neighbors import NearestNeighbors\n",
    "knn=NearestNeighbors(n_neighbors=20,algorithm='brute',metric='cosine')\n",
    "kmodel=knn.fit(song_pivot)"
   ]
  },
  {
   "cell_type": "markdown",
   "metadata": {},
   "source": [
    "### Let us try a user"
   ]
  },
  {
   "cell_type": "code",
   "execution_count": 15,
   "metadata": {
    "collapsed": true
   },
   "outputs": [],
   "source": [
    "# change a pivot to DataFrame!!!!!!!!!!!!!!!!!!!!!!!!!!!!!!!!!!!!!!!\n",
    "song_pivot=song_pivot.reset_index(drop=True)"
   ]
  },
  {
   "cell_type": "code",
   "execution_count": 16,
   "metadata": {
    "collapsed": false
   },
   "outputs": [
    {
     "data": {
      "text/html": [
       "<div>\n",
       "<table border=\"1\" class=\"dataframe\">\n",
       "  <thead>\n",
       "    <tr style=\"text-align: right;\">\n",
       "      <th>song_id</th>\n",
       "      <th>SOAAAGQ12A8C1420C8</th>\n",
       "      <th>SOAACPJ12A81C21360</th>\n",
       "      <th>SOAACSG12AB018DC80</th>\n",
       "      <th>SOAAEJI12AB0188AB5</th>\n",
       "      <th>SOAAFAC12A67ADF7EB</th>\n",
       "      <th>SOAAFYH12A8C13717A</th>\n",
       "      <th>SOAAJMQ12A6D4F7D17</th>\n",
       "      <th>SOAAKPM12A58A77210</th>\n",
       "      <th>SOAALWN12A6D4F7FDA</th>\n",
       "      <th>SOAAMOW12AB018149B</th>\n",
       "      <th>...</th>\n",
       "      <th>SOZZKPR12A6D4F8147</th>\n",
       "      <th>SOZZLTY12A67AE0AD0</th>\n",
       "      <th>SOZZLZN12A8AE48D6D</th>\n",
       "      <th>SOZZRHE12A6702165F</th>\n",
       "      <th>SOZZTCU12AB0182C58</th>\n",
       "      <th>SOZZTNF12A8C139916</th>\n",
       "      <th>SOZZVWB12AB0189C30</th>\n",
       "      <th>SOZZWZV12A67AE140F</th>\n",
       "      <th>SOZZYAO12A6701FF36</th>\n",
       "      <th>SOZZZPV12A8C1444B5</th>\n",
       "    </tr>\n",
       "  </thead>\n",
       "  <tbody>\n",
       "    <tr>\n",
       "      <th>0</th>\n",
       "      <td>0.0</td>\n",
       "      <td>0.0</td>\n",
       "      <td>0.0</td>\n",
       "      <td>0.0</td>\n",
       "      <td>0.0</td>\n",
       "      <td>0.0</td>\n",
       "      <td>0.0</td>\n",
       "      <td>0.0</td>\n",
       "      <td>0.0</td>\n",
       "      <td>0.0</td>\n",
       "      <td>...</td>\n",
       "      <td>0.0</td>\n",
       "      <td>0.0</td>\n",
       "      <td>0.0</td>\n",
       "      <td>0.0</td>\n",
       "      <td>0.0</td>\n",
       "      <td>0.0</td>\n",
       "      <td>0.0</td>\n",
       "      <td>0.0</td>\n",
       "      <td>0.0</td>\n",
       "      <td>0.0</td>\n",
       "    </tr>\n",
       "    <tr>\n",
       "      <th>1</th>\n",
       "      <td>0.0</td>\n",
       "      <td>0.0</td>\n",
       "      <td>0.0</td>\n",
       "      <td>0.0</td>\n",
       "      <td>0.0</td>\n",
       "      <td>0.0</td>\n",
       "      <td>0.0</td>\n",
       "      <td>0.0</td>\n",
       "      <td>0.0</td>\n",
       "      <td>0.0</td>\n",
       "      <td>...</td>\n",
       "      <td>0.0</td>\n",
       "      <td>0.0</td>\n",
       "      <td>0.0</td>\n",
       "      <td>0.0</td>\n",
       "      <td>0.0</td>\n",
       "      <td>0.0</td>\n",
       "      <td>0.0</td>\n",
       "      <td>0.0</td>\n",
       "      <td>0.0</td>\n",
       "      <td>0.0</td>\n",
       "    </tr>\n",
       "    <tr>\n",
       "      <th>2</th>\n",
       "      <td>0.0</td>\n",
       "      <td>0.0</td>\n",
       "      <td>0.0</td>\n",
       "      <td>0.0</td>\n",
       "      <td>0.0</td>\n",
       "      <td>0.0</td>\n",
       "      <td>0.0</td>\n",
       "      <td>0.0</td>\n",
       "      <td>0.0</td>\n",
       "      <td>0.0</td>\n",
       "      <td>...</td>\n",
       "      <td>0.0</td>\n",
       "      <td>0.0</td>\n",
       "      <td>0.0</td>\n",
       "      <td>0.0</td>\n",
       "      <td>0.0</td>\n",
       "      <td>0.0</td>\n",
       "      <td>0.0</td>\n",
       "      <td>0.0</td>\n",
       "      <td>0.0</td>\n",
       "      <td>0.0</td>\n",
       "    </tr>\n",
       "    <tr>\n",
       "      <th>3</th>\n",
       "      <td>0.0</td>\n",
       "      <td>0.0</td>\n",
       "      <td>0.0</td>\n",
       "      <td>0.0</td>\n",
       "      <td>0.0</td>\n",
       "      <td>0.0</td>\n",
       "      <td>0.0</td>\n",
       "      <td>0.0</td>\n",
       "      <td>0.0</td>\n",
       "      <td>0.0</td>\n",
       "      <td>...</td>\n",
       "      <td>0.0</td>\n",
       "      <td>0.0</td>\n",
       "      <td>0.0</td>\n",
       "      <td>0.0</td>\n",
       "      <td>0.0</td>\n",
       "      <td>0.0</td>\n",
       "      <td>0.0</td>\n",
       "      <td>0.0</td>\n",
       "      <td>0.0</td>\n",
       "      <td>0.0</td>\n",
       "    </tr>\n",
       "    <tr>\n",
       "      <th>4</th>\n",
       "      <td>0.0</td>\n",
       "      <td>0.0</td>\n",
       "      <td>0.0</td>\n",
       "      <td>0.0</td>\n",
       "      <td>0.0</td>\n",
       "      <td>0.0</td>\n",
       "      <td>0.0</td>\n",
       "      <td>0.0</td>\n",
       "      <td>0.0</td>\n",
       "      <td>0.0</td>\n",
       "      <td>...</td>\n",
       "      <td>0.0</td>\n",
       "      <td>0.0</td>\n",
       "      <td>0.0</td>\n",
       "      <td>0.0</td>\n",
       "      <td>0.0</td>\n",
       "      <td>0.0</td>\n",
       "      <td>0.0</td>\n",
       "      <td>0.0</td>\n",
       "      <td>0.0</td>\n",
       "      <td>0.0</td>\n",
       "    </tr>\n",
       "  </tbody>\n",
       "</table>\n",
       "<p>5 rows × 10000 columns</p>\n",
       "</div>"
      ],
      "text/plain": [
       "song_id  SOAAAGQ12A8C1420C8  SOAACPJ12A81C21360  SOAACSG12AB018DC80  \\\n",
       "0                       0.0                 0.0                 0.0   \n",
       "1                       0.0                 0.0                 0.0   \n",
       "2                       0.0                 0.0                 0.0   \n",
       "3                       0.0                 0.0                 0.0   \n",
       "4                       0.0                 0.0                 0.0   \n",
       "\n",
       "song_id  SOAAEJI12AB0188AB5  SOAAFAC12A67ADF7EB  SOAAFYH12A8C13717A  \\\n",
       "0                       0.0                 0.0                 0.0   \n",
       "1                       0.0                 0.0                 0.0   \n",
       "2                       0.0                 0.0                 0.0   \n",
       "3                       0.0                 0.0                 0.0   \n",
       "4                       0.0                 0.0                 0.0   \n",
       "\n",
       "song_id  SOAAJMQ12A6D4F7D17  SOAAKPM12A58A77210  SOAALWN12A6D4F7FDA  \\\n",
       "0                       0.0                 0.0                 0.0   \n",
       "1                       0.0                 0.0                 0.0   \n",
       "2                       0.0                 0.0                 0.0   \n",
       "3                       0.0                 0.0                 0.0   \n",
       "4                       0.0                 0.0                 0.0   \n",
       "\n",
       "song_id  SOAAMOW12AB018149B         ...          SOZZKPR12A6D4F8147  \\\n",
       "0                       0.0         ...                         0.0   \n",
       "1                       0.0         ...                         0.0   \n",
       "2                       0.0         ...                         0.0   \n",
       "3                       0.0         ...                         0.0   \n",
       "4                       0.0         ...                         0.0   \n",
       "\n",
       "song_id  SOZZLTY12A67AE0AD0  SOZZLZN12A8AE48D6D  SOZZRHE12A6702165F  \\\n",
       "0                       0.0                 0.0                 0.0   \n",
       "1                       0.0                 0.0                 0.0   \n",
       "2                       0.0                 0.0                 0.0   \n",
       "3                       0.0                 0.0                 0.0   \n",
       "4                       0.0                 0.0                 0.0   \n",
       "\n",
       "song_id  SOZZTCU12AB0182C58  SOZZTNF12A8C139916  SOZZVWB12AB0189C30  \\\n",
       "0                       0.0                 0.0                 0.0   \n",
       "1                       0.0                 0.0                 0.0   \n",
       "2                       0.0                 0.0                 0.0   \n",
       "3                       0.0                 0.0                 0.0   \n",
       "4                       0.0                 0.0                 0.0   \n",
       "\n",
       "song_id  SOZZWZV12A67AE140F  SOZZYAO12A6701FF36  SOZZZPV12A8C1444B5  \n",
       "0                       0.0                 0.0                 0.0  \n",
       "1                       0.0                 0.0                 0.0  \n",
       "2                       0.0                 0.0                 0.0  \n",
       "3                       0.0                 0.0                 0.0  \n",
       "4                       0.0                 0.0                 0.0  \n",
       "\n",
       "[5 rows x 10000 columns]"
      ]
     },
     "execution_count": 16,
     "metadata": {},
     "output_type": "execute_result"
    }
   ],
   "source": [
    "song_pivot.head(5)"
   ]
  },
  {
   "cell_type": "code",
   "execution_count": 17,
   "metadata": {
    "collapsed": false
   },
   "outputs": [],
   "source": [
    "kneighbors=kmodel.kneighbors(song_pivot.ix[1].values.reshape(1, -1))"
   ]
  },
  {
   "cell_type": "code",
   "execution_count": 18,
   "metadata": {
    "collapsed": false
   },
   "outputs": [
    {
     "name": "stdout",
     "output_type": "stream",
     "text": [
      "(array([[  2.22044605e-16,   3.16869949e-01,   4.47842370e-01,\n",
      "          5.00000000e-01,   6.37857016e-01,   6.51257084e-01,\n",
      "          6.62836282e-01,   6.66666667e-01,   6.72185764e-01,\n",
      "          6.78366240e-01,   6.84550163e-01,   6.88195218e-01,\n",
      "          7.05825797e-01,   7.25913042e-01,   7.29166667e-01,\n",
      "          7.32028900e-01,   7.37199835e-01,   7.46416755e-01,\n",
      "          7.73544593e-01,   7.73866492e-01]]), array([[    1, 38931, 60477, 41873, 65646, 33107, 16998, 49361,  7506,\n",
      "        59869, 45327, 49752, 35205, 37806, 19504, 36494, 41770, 36358,\n",
      "         1981, 28473]])) [[    1 38931 60477 41873 65646 33107 16998 49361  7506 59869 45327 49752\n",
      "  35205 37806 19504 36494 41770 36358  1981 28473]]\n"
     ]
    }
   ],
   "source": [
    "print(kneighbors,kneighbors[1])"
   ]
  },
  {
   "cell_type": "code",
   "execution_count": 19,
   "metadata": {
    "collapsed": true
   },
   "outputs": [],
   "source": [
    "User_Index=kneighbors[1][0]"
   ]
  },
  {
   "cell_type": "markdown",
   "metadata": {},
   "source": [
    "### Now we have a list of indexes of the users that are similar to the user we want to recommend the songs. We will find out who are they and what songs do they like to listen. After that, we can create a list with the songs we want to recommend.\n"
   ]
  },
  {
   "cell_type": "code",
   "execution_count": 20,
   "metadata": {
    "collapsed": true
   },
   "outputs": [],
   "source": [
    "All_user=song['user_id'].unique()\n",
    "Others=User_Index[1:]\n",
    "Relevant_user=All_user[Others]"
   ]
  },
  {
   "cell_type": "code",
   "execution_count": 67,
   "metadata": {
    "collapsed": false
   },
   "outputs": [
    {
     "data": {
      "text/plain": [
       "numpy.ndarray"
      ]
     },
     "execution_count": 67,
     "metadata": {},
     "output_type": "execute_result"
    }
   ],
   "source": [
    "type(Relevant_user)"
   ]
  },
  {
   "cell_type": "code",
   "execution_count": 103,
   "metadata": {
    "collapsed": false
   },
   "outputs": [
    {
     "data": {
      "text/html": [
       "<div>\n",
       "<table border=\"1\" class=\"dataframe\">\n",
       "  <thead>\n",
       "    <tr style=\"text-align: right;\">\n",
       "      <th></th>\n",
       "      <th>user_id</th>\n",
       "      <th>song_id</th>\n",
       "      <th>listen_count</th>\n",
       "      <th>title</th>\n",
       "      <th>artist</th>\n",
       "      <th>song</th>\n",
       "    </tr>\n",
       "  </thead>\n",
       "  <tbody>\n",
       "    <tr>\n",
       "      <th>33481</th>\n",
       "      <td>09aa560703dff8a927955ac96b947577380807f8</td>\n",
       "      <td>SOILROA12A6D4FD0D7</td>\n",
       "      <td>3</td>\n",
       "      <td>Through The Fire And Flames (Album Version)</td>\n",
       "      <td>Dragonforce</td>\n",
       "      <td>Through The Fire And Flames (Album Version) - ...</td>\n",
       "    </tr>\n",
       "    <tr>\n",
       "      <th>33482</th>\n",
       "      <td>09aa560703dff8a927955ac96b947577380807f8</td>\n",
       "      <td>SOLXXZI12A8AE4733A</td>\n",
       "      <td>1</td>\n",
       "      <td>Helena (So Long &amp; Goodnight) (Album Version)</td>\n",
       "      <td>My Chemical Romance</td>\n",
       "      <td>Helena (So Long &amp; Goodnight) (Album Version) -...</td>\n",
       "    </tr>\n",
       "    <tr>\n",
       "      <th>33483</th>\n",
       "      <td>09aa560703dff8a927955ac96b947577380807f8</td>\n",
       "      <td>SOOIFDD12A8C13C468</td>\n",
       "      <td>1</td>\n",
       "      <td>Monsters (Album Version)</td>\n",
       "      <td>Matchbook Romance</td>\n",
       "      <td>Monsters (Album Version) - Matchbook Romance</td>\n",
       "    </tr>\n",
       "    <tr>\n",
       "      <th>33484</th>\n",
       "      <td>09aa560703dff8a927955ac96b947577380807f8</td>\n",
       "      <td>SOOXMSN12A58A7A8D3</td>\n",
       "      <td>1</td>\n",
       "      <td>To The End (Album Version)</td>\n",
       "      <td>My Chemical Romance</td>\n",
       "      <td>To The End (Album Version) - My Chemical Romance</td>\n",
       "    </tr>\n",
       "    <tr>\n",
       "      <th>33485</th>\n",
       "      <td>09aa560703dff8a927955ac96b947577380807f8</td>\n",
       "      <td>SOPKPSQ12A58A7A5E4</td>\n",
       "      <td>3</td>\n",
       "      <td>I\\'m Not Okay (I Promise) (Live From Sessions@...</td>\n",
       "      <td>My Chemical Romance</td>\n",
       "      <td>I\\'m Not Okay (I Promise) (Live From Sessions@...</td>\n",
       "    </tr>\n",
       "  </tbody>\n",
       "</table>\n",
       "</div>"
      ],
      "text/plain": [
       "                                        user_id             song_id  \\\n",
       "33481  09aa560703dff8a927955ac96b947577380807f8  SOILROA12A6D4FD0D7   \n",
       "33482  09aa560703dff8a927955ac96b947577380807f8  SOLXXZI12A8AE4733A   \n",
       "33483  09aa560703dff8a927955ac96b947577380807f8  SOOIFDD12A8C13C468   \n",
       "33484  09aa560703dff8a927955ac96b947577380807f8  SOOXMSN12A58A7A8D3   \n",
       "33485  09aa560703dff8a927955ac96b947577380807f8  SOPKPSQ12A58A7A5E4   \n",
       "\n",
       "       listen_count                                              title  \\\n",
       "33481             3        Through The Fire And Flames (Album Version)   \n",
       "33482             1       Helena (So Long & Goodnight) (Album Version)   \n",
       "33483             1                           Monsters (Album Version)   \n",
       "33484             1                         To The End (Album Version)   \n",
       "33485             3  I\\'m Not Okay (I Promise) (Live From Sessions@...   \n",
       "\n",
       "                    artist                                               song  \n",
       "33481          Dragonforce  Through The Fire And Flames (Album Version) - ...  \n",
       "33482  My Chemical Romance  Helena (So Long & Goodnight) (Album Version) -...  \n",
       "33483    Matchbook Romance       Monsters (Album Version) - Matchbook Romance  \n",
       "33484  My Chemical Romance   To The End (Album Version) - My Chemical Romance  \n",
       "33485  My Chemical Romance  I\\'m Not Okay (I Promise) (Live From Sessions@...  "
      ]
     },
     "execution_count": 103,
     "metadata": {},
     "output_type": "execute_result"
    }
   ],
   "source": [
    "song_relevant=song[song['user_id'].isin(Relevant_user)]\n",
    "song_relevant.head()"
   ]
  },
  {
   "cell_type": "code",
   "execution_count": 22,
   "metadata": {
    "collapsed": true
   },
   "outputs": [],
   "source": [
    "song_list=song_relevant.groupby('song').listen_count.sum()"
   ]
  },
  {
   "cell_type": "code",
   "execution_count": 23,
   "metadata": {
    "collapsed": false
   },
   "outputs": [],
   "source": [
    "song_list.sort_values(inplace=True)"
   ]
  },
  {
   "cell_type": "markdown",
   "metadata": {},
   "source": [
    "### The top 30 Recommended songs for the specific user\n"
   ]
  },
  {
   "cell_type": "code",
   "execution_count": 24,
   "metadata": {
    "collapsed": false
   },
   "outputs": [
    {
     "name": "stdout",
     "output_type": "stream",
     "text": [
      "song\n",
      "My Immortal (Album Version) - Evanescence                                  29\n",
      "Gypsy Woman (She\\'s Homeless) - Crystal Waters                             27\n",
      "Drop It Low - Ester Dean / Chris Brown                                     23\n",
      "Electric Avenue - Eddy Grant                                               21\n",
      "Forever - Drake / Kanye West / Lil Wayne / Eminem                          17\n",
      "Because The Night [MTV Unplugged Version] - 10_000 Maniacs                 17\n",
      "Frisch und g\\'sund - Die Mooskirchner                                      14\n",
      "Somebody To Love - Justin Bieber                                           14\n",
      "Better The Devil You Know (Showgirl Tour) - Kylie Minogue                  13\n",
      "Let Me Think About It - Ida Corr Vs Fedde Le Grand                         12\n",
      "Please Mr. Postman - Carpenters                                            12\n",
      "Pojo Pojo - Cyberfit                                                       11\n",
      "Picture U & Me - Mo B. Dick                                                11\n",
      "Party In The U.S.A. - Miley Cyrus                                          11\n",
      "Ugly Girls - Kalle Baah                                                    11\n",
      "Live And Let Die - Guns N\\' Roses                                          11\n",
      "Cats In The Cradle - Ugly Kid Joe                                          11\n",
      "Black Mission Goggles - Man Man                                            11\n",
      "Lay All Your Love On Me - Abba                                             11\n",
      "How Do You Like Me Now?! - Toby Keith                                      10\n",
      "I Don\\'t Mind - The Decemberists                                           10\n",
      "Pitiful (Radio Edit) () - Sick Puppies                                     10\n",
      "Turbulent Serenity (Instrumental) - Anne Dudley                             9\n",
      "Bottom of a Bottle (Explicit Album Version) - Smile Empty Soul              9\n",
      "All The Same - Sick Puppies                                                 9\n",
      "Peace Train - Cat Stevens                                                   8\n",
      "I Second That Emotion - Smokey Robinson & The Miracles                      8\n",
      "Intergalactic - Beastie Boys                                                8\n",
      "Fearless (250 And Dark Stars) (Exit Litghts Album Version) - Falling Up     8\n",
      "Name: listen_count, dtype: int64\n"
     ]
    }
   ],
   "source": [
    "Recommended_Song=song_list[:-30:-1]\n",
    "print (Recommended_Song)"
   ]
  },
  {
   "cell_type": "markdown",
   "metadata": {},
   "source": [
    "## B: Recommend Artists "
   ]
  },
  {
   "cell_type": "markdown",
   "metadata": {},
   "source": [
    "### Count how many times the users listen the music of artist\n"
   ]
  },
  {
   "cell_type": "code",
   "execution_count": 25,
   "metadata": {
    "collapsed": false
   },
   "outputs": [],
   "source": [
    "artist_count=song.groupby(['user_id','artist'],as_index=False).size().reset_index(name='count')"
   ]
  },
  {
   "cell_type": "code",
   "execution_count": 42,
   "metadata": {
    "collapsed": false
   },
   "outputs": [],
   "source": [
    "artist_count.sort_values(by='count',inplace=True)"
   ]
  },
  {
   "cell_type": "code",
   "execution_count": 72,
   "metadata": {
    "collapsed": false
   },
   "outputs": [
    {
     "data": {
      "text/html": [
       "<div>\n",
       "<table border=\"1\" class=\"dataframe\">\n",
       "  <thead>\n",
       "    <tr style=\"text-align: right;\">\n",
       "      <th></th>\n",
       "      <th>user_id</th>\n",
       "      <th>artist</th>\n",
       "      <th>count</th>\n",
       "    </tr>\n",
       "  </thead>\n",
       "  <tbody>\n",
       "    <tr>\n",
       "      <th>0</th>\n",
       "      <td>00003a4459f33b92906be11abe0e93efc423c0ff</td>\n",
       "      <td>Black Eyed Peas</td>\n",
       "      <td>1</td>\n",
       "    </tr>\n",
       "    <tr>\n",
       "      <th>540097</th>\n",
       "      <td>a4481c01213c866b1158f26b74a5ae5f9d536b4f</td>\n",
       "      <td>Metric</td>\n",
       "      <td>1</td>\n",
       "    </tr>\n",
       "    <tr>\n",
       "      <th>540098</th>\n",
       "      <td>a4481c01213c866b1158f26b74a5ae5f9d536b4f</td>\n",
       "      <td>Michael Bublé</td>\n",
       "      <td>1</td>\n",
       "    </tr>\n",
       "    <tr>\n",
       "      <th>540099</th>\n",
       "      <td>a4481c01213c866b1158f26b74a5ae5f9d536b4f</td>\n",
       "      <td>Miley Cyrus</td>\n",
       "      <td>1</td>\n",
       "    </tr>\n",
       "    <tr>\n",
       "      <th>540100</th>\n",
       "      <td>a4481c01213c866b1158f26b74a5ae5f9d536b4f</td>\n",
       "      <td>Nancy Sinatra</td>\n",
       "      <td>1</td>\n",
       "    </tr>\n",
       "  </tbody>\n",
       "</table>\n",
       "</div>"
      ],
      "text/plain": [
       "                                         user_id           artist  count\n",
       "0       00003a4459f33b92906be11abe0e93efc423c0ff  Black Eyed Peas      1\n",
       "540097  a4481c01213c866b1158f26b74a5ae5f9d536b4f           Metric      1\n",
       "540098  a4481c01213c866b1158f26b74a5ae5f9d536b4f    Michael Bublé      1\n",
       "540099  a4481c01213c866b1158f26b74a5ae5f9d536b4f      Miley Cyrus      1\n",
       "540100  a4481c01213c866b1158f26b74a5ae5f9d536b4f    Nancy Sinatra      1"
      ]
     },
     "execution_count": 72,
     "metadata": {},
     "output_type": "execute_result"
    }
   ],
   "source": [
    "artist_count.head()"
   ]
  },
  {
   "cell_type": "markdown",
   "metadata": {},
   "source": [
    "### Create user artists matrix "
   ]
  },
  {
   "cell_type": "code",
   "execution_count": 27,
   "metadata": {
    "collapsed": false
   },
   "outputs": [],
   "source": [
    "pivot_artist=artist_count.pivot(index='user_id',columns='artist',values='count')"
   ]
  },
  {
   "cell_type": "code",
   "execution_count": 28,
   "metadata": {
    "collapsed": true
   },
   "outputs": [],
   "source": [
    "pivot_artist=pivot_artist.fillna(0)"
   ]
  },
  {
   "cell_type": "code",
   "execution_count": 29,
   "metadata": {
    "collapsed": true
   },
   "outputs": [],
   "source": [
    "Model_artist=knn.fit(pivot_artist)"
   ]
  },
  {
   "cell_type": "markdown",
   "metadata": {},
   "source": [
    "### Try a user "
   ]
  },
  {
   "cell_type": "code",
   "execution_count": 30,
   "metadata": {
    "collapsed": false
   },
   "outputs": [],
   "source": [
    "Neighbours=Model_artist.kneighbors(pivot_artist.ix[0].values.reshape(1, -1))"
   ]
  },
  {
   "cell_type": "code",
   "execution_count": 55,
   "metadata": {
    "collapsed": false
   },
   "outputs": [
    {
     "data": {
      "text/plain": [
       "(array([[  3.33066907e-16,   4.92907447e-01,   5.99108137e-01,\n",
       "           6.22035527e-01,   6.22035527e-01,   6.22035527e-01,\n",
       "           6.22035527e-01,   6.22035527e-01,   6.29671960e-01,\n",
       "           6.32116396e-01,   6.33320601e-01,   6.41431417e-01,\n",
       "           6.55415606e-01,   6.61938298e-01,   6.61938298e-01,\n",
       "           6.61938298e-01,   6.61938298e-01,   6.61938298e-01,\n",
       "           6.65923448e-01,   6.66666667e-01]]),\n",
       " array([[    0, 42005, 66102, 61178, 16745,  5414, 35436, 40071,  4333,\n",
       "         59842, 30193, 15398,  1083, 24670, 30702, 14188, 19281, 15859,\n",
       "         33651, 21848]]))"
      ]
     },
     "execution_count": 55,
     "metadata": {},
     "output_type": "execute_result"
    }
   ],
   "source": [
    "Neighbours"
   ]
  },
  {
   "cell_type": "code",
   "execution_count": 31,
   "metadata": {
    "collapsed": true
   },
   "outputs": [],
   "source": [
    "Neighbour_index=Neighbours[1][0]"
   ]
  },
  {
   "cell_type": "code",
   "execution_count": 54,
   "metadata": {
    "collapsed": false
   },
   "outputs": [
    {
     "data": {
      "text/plain": [
       "(array([[    0, 42005, 66102, 61178, 16745,  5414, 35436, 40071,  4333,\n",
       "         59842, 30193, 15398,  1083, 24670, 30702, 14188, 19281, 15859,\n",
       "         33651, 21848]]),)"
      ]
     },
     "execution_count": 54,
     "metadata": {},
     "output_type": "execute_result"
    }
   ],
   "source": [
    "Art_others=Neighbours[1:]\n",
    "Art_others"
   ]
  },
  {
   "cell_type": "code",
   "execution_count": 56,
   "metadata": {
    "collapsed": true
   },
   "outputs": [],
   "source": [
    "All_user2=song['artist'].unique()\n",
    "Others2=Art_others[1:]\n",
    "Relevant_user2=All_user2[Others2]"
   ]
  },
  {
   "cell_type": "code",
   "execution_count": 85,
   "metadata": {
    "collapsed": false
   },
   "outputs": [
    {
     "data": {
      "text/plain": [
       "array(['Jack Johnson', 'Paco De Lucia', 'Kanye West', ...,\n",
       "       \"Mama\\\\'s Jasje\", 'Elvis Perkins', 'Mott The Hoople'], dtype=object)"
      ]
     },
     "execution_count": 85,
     "metadata": {},
     "output_type": "execute_result"
    }
   ],
   "source": [
    "Relevant_user2"
   ]
  },
  {
   "cell_type": "code",
   "execution_count": 86,
   "metadata": {
    "collapsed": false
   },
   "outputs": [],
   "source": [
    "All_user_artist=artist_count[artist_count['artist'].isin (Relevant_user2)]\n"
   ]
  },
  {
   "cell_type": "code",
   "execution_count": 90,
   "metadata": {
    "collapsed": false
   },
   "outputs": [],
   "source": [
    "All_user_artist.sort_values(by='count',ascending=False,inplace=True)"
   ]
  },
  {
   "cell_type": "code",
   "execution_count": 91,
   "metadata": {
    "collapsed": false
   },
   "outputs": [
    {
     "data": {
      "text/html": [
       "<div>\n",
       "<table border=\"1\" class=\"dataframe\">\n",
       "  <thead>\n",
       "    <tr style=\"text-align: right;\">\n",
       "      <th></th>\n",
       "      <th>user_id</th>\n",
       "      <th>artist</th>\n",
       "      <th>count</th>\n",
       "    </tr>\n",
       "  </thead>\n",
       "  <tbody>\n",
       "    <tr>\n",
       "      <th>278885</th>\n",
       "      <td>54e50d606af8ead2f8c23da08247071c897926d2</td>\n",
       "      <td>The New Pornographers</td>\n",
       "      <td>48</td>\n",
       "    </tr>\n",
       "    <tr>\n",
       "      <th>551626</th>\n",
       "      <td>a7bc28aa730f4247c850b0235505a276acdec825</td>\n",
       "      <td>Daft Punk</td>\n",
       "      <td>45</td>\n",
       "    </tr>\n",
       "    <tr>\n",
       "      <th>440843</th>\n",
       "      <td>868955d3452b7d4c06f7a3cf652685bf9aa030c9</td>\n",
       "      <td>Coldplay</td>\n",
       "      <td>43</td>\n",
       "    </tr>\n",
       "    <tr>\n",
       "      <th>433121</th>\n",
       "      <td>843db08e0497f08e1ea288943d4b4816280f0f09</td>\n",
       "      <td>The Black Keys</td>\n",
       "      <td>42</td>\n",
       "    </tr>\n",
       "    <tr>\n",
       "      <th>363235</th>\n",
       "      <td>6f153a78ba2cad9524a9b9db71494b0dd2acf252</td>\n",
       "      <td>The Black Keys</td>\n",
       "      <td>40</td>\n",
       "    </tr>\n",
       "    <tr>\n",
       "      <th>661122</th>\n",
       "      <td>c96cb1375b5d1f8bd88c84d7854dfbca1a6a7698</td>\n",
       "      <td>Gorillaz</td>\n",
       "      <td>38</td>\n",
       "    </tr>\n",
       "    <tr>\n",
       "      <th>109523</th>\n",
       "      <td>21a440c1537cd0b3d00735bc1d2d6d887ac119b5</td>\n",
       "      <td>Coldplay</td>\n",
       "      <td>38</td>\n",
       "    </tr>\n",
       "    <tr>\n",
       "      <th>525827</th>\n",
       "      <td>9fe6abb01de3165b478b2fb3dc5dbc3d531ef8ec</td>\n",
       "      <td>The Black Keys</td>\n",
       "      <td>38</td>\n",
       "    </tr>\n",
       "    <tr>\n",
       "      <th>743620</th>\n",
       "      <td>e2ffd660f074710961b5e214dfdc1cb19753b793</td>\n",
       "      <td>The Black Keys</td>\n",
       "      <td>36</td>\n",
       "    </tr>\n",
       "    <tr>\n",
       "      <th>481797</th>\n",
       "      <td>92da4d090f5129114655632f6108088e3ecd077e</td>\n",
       "      <td>Muse</td>\n",
       "      <td>35</td>\n",
       "    </tr>\n",
       "  </tbody>\n",
       "</table>\n",
       "</div>"
      ],
      "text/plain": [
       "                                         user_id                 artist  count\n",
       "278885  54e50d606af8ead2f8c23da08247071c897926d2  The New Pornographers     48\n",
       "551626  a7bc28aa730f4247c850b0235505a276acdec825              Daft Punk     45\n",
       "440843  868955d3452b7d4c06f7a3cf652685bf9aa030c9               Coldplay     43\n",
       "433121  843db08e0497f08e1ea288943d4b4816280f0f09         The Black Keys     42\n",
       "363235  6f153a78ba2cad9524a9b9db71494b0dd2acf252         The Black Keys     40\n",
       "661122  c96cb1375b5d1f8bd88c84d7854dfbca1a6a7698               Gorillaz     38\n",
       "109523  21a440c1537cd0b3d00735bc1d2d6d887ac119b5               Coldplay     38\n",
       "525827  9fe6abb01de3165b478b2fb3dc5dbc3d531ef8ec         The Black Keys     38\n",
       "743620  e2ffd660f074710961b5e214dfdc1cb19753b793         The Black Keys     36\n",
       "481797  92da4d090f5129114655632f6108088e3ecd077e                   Muse     35"
      ]
     },
     "execution_count": 91,
     "metadata": {},
     "output_type": "execute_result"
    }
   ],
   "source": [
    "All_user_artist.head(10)"
   ]
  },
  {
   "cell_type": "code",
   "execution_count": 92,
   "metadata": {
    "collapsed": false
   },
   "outputs": [
    {
     "name": "stdout",
     "output_type": "stream",
     "text": [
      "278885    The New Pornographers\n",
      "551626                Daft Punk\n",
      "440843                 Coldplay\n",
      "433121           The Black Keys\n",
      "363235           The Black Keys\n",
      "661122                 Gorillaz\n",
      "109523                 Coldplay\n",
      "525827           The Black Keys\n",
      "743620           The Black Keys\n",
      "481797                     Muse\n",
      "Name: artist, dtype: object\n"
     ]
    }
   ],
   "source": [
    "Recommended_artists = All_user_artist['artist'][:10]\n",
    "print (Recommended_artists)"
   ]
  },
  {
   "cell_type": "markdown",
   "metadata": {},
   "source": [
    "# Assignment"
   ]
  },
  {
   "cell_type": "code",
   "execution_count": 38,
   "metadata": {
    "collapsed": false
   },
   "outputs": [
    {
     "data": {
      "text/plain": [
       "2522"
      ]
     },
     "execution_count": 38,
     "metadata": {},
     "output_type": "execute_result"
    }
   ],
   "source": [
    "len(song[song.artist=='Kanye West'].user_id.unique())"
   ]
  },
  {
   "cell_type": "code",
   "execution_count": 39,
   "metadata": {
    "collapsed": false
   },
   "outputs": [
    {
     "data": {
      "text/plain": [
       "2055"
      ]
     },
     "execution_count": 39,
     "metadata": {},
     "output_type": "execute_result"
    }
   ],
   "source": [
    "len(song[song.artist=='Foo Fighters'].user_id.unique())"
   ]
  },
  {
   "cell_type": "code",
   "execution_count": 40,
   "metadata": {
    "collapsed": false
   },
   "outputs": [
    {
     "data": {
      "text/plain": [
       "3246"
      ]
     },
     "execution_count": 40,
     "metadata": {},
     "output_type": "execute_result"
    }
   ],
   "source": [
    "len(song[song.artist=='Taylor Swift'].user_id.unique())"
   ]
  },
  {
   "cell_type": "code",
   "execution_count": 41,
   "metadata": {
    "collapsed": false
   },
   "outputs": [
    {
     "data": {
      "text/plain": [
       "2928"
      ]
     },
     "execution_count": 41,
     "metadata": {},
     "output_type": "execute_result"
    }
   ],
   "source": [
    "len(song[song.artist=='Lady GaGa'].user_id.unique())"
   ]
  },
  {
   "cell_type": "code",
   "execution_count": 102,
   "metadata": {
    "collapsed": false
   },
   "outputs": [
    {
     "data": {
      "text/plain": [
       "artist\n",
       "William Tabbert                                                              14\n",
       "Reel Feelings                                                                24\n",
       "Beyoncé feat. Bun B and Slim Thug                                            26\n",
       "Boggle Karaoke                                                               30\n",
       "Diplo                                                                        30\n",
       "harvey summers                                                               31\n",
       "Nâdiya                                                                       36\n",
       "Kanye West / Talib Kweli / Q-Tip / Common / Rhymefest                        38\n",
       "Jody Bernal                                                                  38\n",
       "Aneta Langerova                                                              38\n",
       "John Altman                                                                  39\n",
       "Trademark                                                                    40\n",
       "Lloyd / Ashanti / Scarface                                                   42\n",
       "Yung Joc feat Trick Daddy_ Block & Jazze Pha                                 42\n",
       "Deadmau 5                                                                    43\n",
       "Tandem                                                                       43\n",
       "Elvis Perkins                                                                44\n",
       "Ronnie Foster                                                                44\n",
       "Light This City                                                              44\n",
       "Cypress Hill featuring Damian Marley                                         45\n",
       "Airwave                                                                      46\n",
       "Sangre Azul                                                                  47\n",
       "Rihanna / Kardinal Offishall                                                 47\n",
       "Mott The Hoople                                                              49\n",
       "Switches                                                                     51\n",
       "Sufjan Stevens                                                               52\n",
       "Rakim                                                                        53\n",
       "The Audition                                                                 54\n",
       "Monica featuring Tyrese                                                      54\n",
       "Yung Joc featuring Diddy                                                     54\n",
       "                                                                          ...  \n",
       "3 Doors Down                                                              13047\n",
       "Beyoncé                                                                   13129\n",
       "Tub Ring                                                                  13701\n",
       "Sam Cooke                                                                 14029\n",
       "Black Eyed Peas                                                           14070\n",
       "Creedence Clearwater Revival                                              14137\n",
       "Rise Against                                                              14419\n",
       "The Killers                                                               15097\n",
       "Guns N\\' Roses                                                            15889\n",
       "Daft Punk                                                                 17191\n",
       "Radiohead                                                                 17899\n",
       "John Mayer                                                                17955\n",
       "Taylor Swift                                                              18958\n",
       "Jack Johnson                                                              20177\n",
       "Muse                                                                      20220\n",
       "Metallica                                                                 20336\n",
       "Linkin Park                                                               21368\n",
       "Eminem                                                                    21627\n",
       "Harmonia                                                                  21646\n",
       "Barry Tuckwell/Academy of St Martin-in-the-Fields/Sir Neville Marriner    21953\n",
       "The Black Keys                                                            22184\n",
       "Train                                                                     25402\n",
       "OneRepublic                                                               25754\n",
       "Alliance Ethnik                                                           26689\n",
       "Justin Bieber                                                             29715\n",
       "Florence + The Machine                                                    33387\n",
       "Coldplay                                                                  35362\n",
       "Björk                                                                     38889\n",
       "Dwight Yoakam                                                             40619\n",
       "Kings Of Leon                                                             43218\n",
       "Name: listen_count, dtype: int64"
      ]
     },
     "execution_count": 102,
     "metadata": {},
     "output_type": "execute_result"
    }
   ],
   "source": [
    "song.groupby('artist').listen_count.sum().sort_values()"
   ]
  },
  {
   "cell_type": "code",
   "execution_count": null,
   "metadata": {
    "collapsed": true
   },
   "outputs": [],
   "source": []
  }
 ],
 "metadata": {
  "kernelspec": {
   "display_name": "Python 3",
   "language": "python",
   "name": "python3"
  },
  "language_info": {
   "codemirror_mode": {
    "name": "ipython",
    "version": 3
   },
   "file_extension": ".py",
   "mimetype": "text/x-python",
   "name": "python",
   "nbconvert_exporter": "python",
   "pygments_lexer": "ipython3",
   "version": "3.6.0"
  }
 },
 "nbformat": 4,
 "nbformat_minor": 2
}
